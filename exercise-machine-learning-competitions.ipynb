{
 "cells": [
  {
   "cell_type": "markdown",
   "id": "5b9c2eb2",
   "metadata": {
    "papermill": {
     "duration": 0.00609,
     "end_time": "2023-06-04T14:22:54.191738",
     "exception": false,
     "start_time": "2023-06-04T14:22:54.185648",
     "status": "completed"
    },
    "tags": []
   },
   "source": [
    "**This notebook is an exercise in the [Introduction to Machine Learning](https://www.kaggle.com/learn/intro-to-machine-learning) course.  You can reference the tutorial at [this link](https://www.kaggle.com/alexisbcook/machine-learning-competitions).**\n",
    "\n",
    "---\n"
   ]
  },
  {
   "cell_type": "markdown",
   "id": "a2d6d84c",
   "metadata": {
    "papermill": {
     "duration": 0.005396,
     "end_time": "2023-06-04T14:22:54.202960",
     "exception": false,
     "start_time": "2023-06-04T14:22:54.197564",
     "status": "completed"
    },
    "tags": []
   },
   "source": [
    "# Introduction\n",
    "\n",
    "In this exercise, you will create and submit predictions for a Kaggle competition. You can then improve your model (e.g. by adding features) to apply what you've learned and move up the leaderboard.\n",
    "\n",
    "Begin by running the code cell below to set up code checking and the filepaths for the dataset."
   ]
  },
  {
   "cell_type": "code",
   "execution_count": 1,
   "id": "e752045f",
   "metadata": {
    "execution": {
     "iopub.execute_input": "2023-06-04T14:22:54.215780Z",
     "iopub.status.busy": "2023-06-04T14:22:54.215427Z",
     "iopub.status.idle": "2023-06-04T14:22:54.256572Z",
     "shell.execute_reply": "2023-06-04T14:22:54.255620Z"
    },
    "papermill": {
     "duration": 0.050808,
     "end_time": "2023-06-04T14:22:54.259384",
     "exception": false,
     "start_time": "2023-06-04T14:22:54.208576",
     "status": "completed"
    },
    "tags": []
   },
   "outputs": [],
   "source": [
    "# Set up code checking\n",
    "from learntools.core import binder\n",
    "binder.bind(globals())\n",
    "from learntools.machine_learning.ex7 import *\n",
    "\n",
    "# Set up filepaths\n",
    "import os\n",
    "if not os.path.exists(\"../input/train.csv\"):\n",
    "    os.symlink(\"../input/home-data-for-ml-course/train.csv\", \"../input/train.csv\")  \n",
    "    os.symlink(\"../input/home-data-for-ml-course/test.csv\", \"../input/test.csv\") "
   ]
  },
  {
   "cell_type": "code",
   "execution_count": 2,
   "id": "1acf7ee9",
   "metadata": {
    "execution": {
     "iopub.execute_input": "2023-06-04T14:22:54.273003Z",
     "iopub.status.busy": "2023-06-04T14:22:54.271941Z",
     "iopub.status.idle": "2023-06-04T14:22:55.966931Z",
     "shell.execute_reply": "2023-06-04T14:22:55.965724Z"
    },
    "papermill": {
     "duration": 1.704813,
     "end_time": "2023-06-04T14:22:55.969985",
     "exception": false,
     "start_time": "2023-06-04T14:22:54.265172",
     "status": "completed"
    },
    "tags": []
   },
   "outputs": [],
   "source": [
    "# Import helpful libraries\n",
    "import pandas as pd\n",
    "from sklearn.ensemble import RandomForestRegressor\n",
    "from sklearn.metrics import mean_absolute_error\n",
    "from sklearn.model_selection import train_test_split\n",
    "from sklearn.metrics import mean_squared_error as mse\n",
    "from sklearn.tree import DecisionTreeRegressor\n",
    "from sklearn.linear_model import LinearRegression\n",
    "\n",
    "\n",
    "\n"
   ]
  },
  {
   "cell_type": "code",
   "execution_count": 3,
   "id": "5105259c",
   "metadata": {
    "execution": {
     "iopub.execute_input": "2023-06-04T14:22:55.986382Z",
     "iopub.status.busy": "2023-06-04T14:22:55.985209Z",
     "iopub.status.idle": "2023-06-04T14:22:56.037872Z",
     "shell.execute_reply": "2023-06-04T14:22:56.036647Z"
    },
    "papermill": {
     "duration": 0.064915,
     "end_time": "2023-06-04T14:22:56.040928",
     "exception": false,
     "start_time": "2023-06-04T14:22:55.976013",
     "status": "completed"
    },
    "tags": []
   },
   "outputs": [],
   "source": [
    "\n",
    "# Load the data, and separate the target\n",
    "iowa_file_path = '../input/train.csv'\n",
    "home_data = pd.read_csv(iowa_file_path)\n"
   ]
  },
  {
   "cell_type": "code",
   "execution_count": 4,
   "id": "e0dd8c6b",
   "metadata": {
    "execution": {
     "iopub.execute_input": "2023-06-04T14:22:56.054350Z",
     "iopub.status.busy": "2023-06-04T14:22:56.053858Z",
     "iopub.status.idle": "2023-06-04T14:22:56.075497Z",
     "shell.execute_reply": "2023-06-04T14:22:56.074014Z"
    },
    "papermill": {
     "duration": 0.031373,
     "end_time": "2023-06-04T14:22:56.078038",
     "exception": false,
     "start_time": "2023-06-04T14:22:56.046665",
     "status": "completed"
    },
    "tags": []
   },
   "outputs": [],
   "source": [
    "# Create X (After completing the exercise, you can return to modify this line!)\n",
    "# features = ['LotArea', 'YearBuilt', '1stFlrSF', '2ndFlrSF', 'FullBath', 'BedroomAbvGr', 'TotRmsAbvGrd','OverallQual','OverallCond','MSSubClass','MiscVal','GrLivArea','FullBath'] \n",
    "features_=['MSSubClass','LotArea','OverallQual','OverallCond','YearBuilt','YearRemodAdd','1stFlrSF','2ndFlrSF','LowQualFinSF','GrLivArea','FullBath','HalfBath','BedroomAbvGr','KitchenAbvGr','TotRmsAbvGrd','Fireplaces','WoodDeckSF','OpenPorchSF','EnclosedPorch','3SsnPorch','ScreenPorch','PoolArea','MiscVal','MoSold','YrSold']\n",
    "# Select columns corresponding to features, and preview the data\n",
    "#features_real\n",
    "X = home_data[features_]\n",
    "y = home_data.SalePrice\n",
    "# X.head()\n",
    "# Split into validation and training data\n",
    "train_X, val_X, train_y, val_y = train_test_split(X, y, random_state=1)"
   ]
  },
  {
   "cell_type": "code",
   "execution_count": 5,
   "id": "3b447009",
   "metadata": {
    "execution": {
     "iopub.execute_input": "2023-06-04T14:22:56.091153Z",
     "iopub.status.busy": "2023-06-04T14:22:56.090783Z",
     "iopub.status.idle": "2023-06-04T14:22:56.097320Z",
     "shell.execute_reply": "2023-06-04T14:22:56.095980Z"
    },
    "papermill": {
     "duration": 0.015954,
     "end_time": "2023-06-04T14:22:56.099744",
     "exception": false,
     "start_time": "2023-06-04T14:22:56.083790",
     "status": "completed"
    },
    "tags": []
   },
   "outputs": [],
   "source": [
    "# DTR=DecisionTreeRegressor(max_leaf_nodes=100, random_state=23)\n",
    "def get_mse(max_leaf_nodes, train_X, val_X, train_y, val_y,n):\n",
    "    model = RandomForestRegressor(max_leaf_nodes=max_leaf_nodes, random_state=n)\n",
    "    model.fit(train_X, train_y)\n",
    "    preds_val = model.predict(val_X)\n",
    "    mae =mean_absolute_error(val_y, preds_val)\n",
    "    return(mae)\n"
   ]
  },
  {
   "cell_type": "code",
   "execution_count": 6,
   "id": "a6d2a7bf",
   "metadata": {
    "execution": {
     "iopub.execute_input": "2023-06-04T14:22:56.113277Z",
     "iopub.status.busy": "2023-06-04T14:22:56.112871Z",
     "iopub.status.idle": "2023-06-04T14:22:57.824559Z",
     "shell.execute_reply": "2023-06-04T14:22:57.823368Z"
    },
    "papermill": {
     "duration": 1.721807,
     "end_time": "2023-06-04T14:22:57.827146",
     "exception": false,
     "start_time": "2023-06-04T14:22:56.105339",
     "status": "completed"
    },
    "tags": []
   },
   "outputs": [],
   "source": [
    "candidate_max_leaf_nodes = [a for a in range(308,312,2)]\n",
    "# Write loop to find the ideal tree size from candidate_max_leaf_nodes\n",
    "min_mae={}\n",
    "\n",
    "for elem in candidate_max_leaf_nodes:\n",
    "    mae= get_mse(elem,train_X, val_X, train_y, val_y,23)\n",
    "#     print(\"leaf node:{}, mean average error is {}\".format(elem,mae))\n",
    "    min_mae[elem]=mae\n",
    "# keys=list(min_mae.keys())\n",
    "# values=list(min_mae.values())\n",
    "best_tree_size= min(min_mae,key=min_mae.get)\n",
    "# best_tree_size\n",
    "# print(min_min_mae)"
   ]
  },
  {
   "cell_type": "code",
   "execution_count": 7,
   "id": "e592defe",
   "metadata": {
    "execution": {
     "iopub.execute_input": "2023-06-04T14:22:57.840405Z",
     "iopub.status.busy": "2023-06-04T14:22:57.839453Z",
     "iopub.status.idle": "2023-06-04T14:22:58.677304Z",
     "shell.execute_reply": "2023-06-04T14:22:58.676303Z"
    },
    "papermill": {
     "duration": 0.847797,
     "end_time": "2023-06-04T14:22:58.680522",
     "exception": false,
     "start_time": "2023-06-04T14:22:57.832725",
     "status": "completed"
    },
    "tags": []
   },
   "outputs": [
    {
     "name": "stdout",
     "output_type": "stream",
     "text": [
      "Validation MAE for Random Forest Model: 17,721\n"
     ]
    }
   ],
   "source": [
    "# Define a random forest model\n",
    "rf_model = RandomForestRegressor(random_state=1,max_leaf_nodes=best_tree_size)\n",
    "rf_model.fit(train_X, train_y)\n",
    "rf_val_predictions = rf_model.predict(val_X)\n",
    "rf_val_mae = mean_absolute_error(rf_val_predictions, val_y)\n",
    "\n",
    "print(\"Validation MAE for Random Forest Model: {:,.0f}\".format(rf_val_mae))"
   ]
  },
  {
   "cell_type": "markdown",
   "id": "92f513cc",
   "metadata": {
    "execution": {
     "iopub.execute_input": "2023-06-04T14:21:15.470552Z",
     "iopub.status.busy": "2023-06-04T14:21:15.469608Z",
     "iopub.status.idle": "2023-06-04T14:21:15.493827Z",
     "shell.execute_reply": "2023-06-04T14:21:15.492760Z",
     "shell.execute_reply.started": "2023-06-04T14:21:15.470514Z"
    },
    "papermill": {
     "duration": 0.005283,
     "end_time": "2023-06-04T14:22:58.692025",
     "exception": false,
     "start_time": "2023-06-04T14:22:58.686742",
     "status": "completed"
    },
    "tags": []
   },
   "source": [
    "RTR_=DecisionTreeRegressor(max_leaf_nodes=best_tree_size,random_state=12)\n",
    "RTR_.fit(X,y)"
   ]
  },
  {
   "cell_type": "markdown",
   "id": "dd61017a",
   "metadata": {
    "papermill": {
     "duration": 0.005235,
     "end_time": "2023-06-04T14:22:58.702773",
     "exception": false,
     "start_time": "2023-06-04T14:22:58.697538",
     "status": "completed"
    },
    "tags": []
   },
   "source": [
    "Here's some of the code you've written so far. Start by running it again."
   ]
  },
  {
   "cell_type": "markdown",
   "id": "001be7d2",
   "metadata": {
    "execution": {
     "iopub.execute_input": "2023-06-04T14:04:32.942690Z",
     "iopub.status.busy": "2023-06-04T14:04:32.942226Z",
     "iopub.status.idle": "2023-06-04T14:04:32.950067Z",
     "shell.execute_reply": "2023-06-04T14:04:32.948962Z",
     "shell.execute_reply.started": "2023-06-04T14:04:32.942640Z"
    },
    "papermill": {
     "duration": 0.005195,
     "end_time": "2023-06-04T14:22:58.713522",
     "exception": false,
     "start_time": "2023-06-04T14:22:58.708327",
     "status": "completed"
    },
    "tags": []
   },
   "source": [
    "y_pred_rtr=RTR_.predict(X)"
   ]
  },
  {
   "cell_type": "markdown",
   "id": "8a082f8f",
   "metadata": {
    "execution": {
     "iopub.execute_input": "2023-06-04T14:04:32.951591Z",
     "iopub.status.busy": "2023-06-04T14:04:32.951268Z",
     "iopub.status.idle": "2023-06-04T14:04:32.961606Z",
     "shell.execute_reply": "2023-06-04T14:04:32.960617Z",
     "shell.execute_reply.started": "2023-06-04T14:04:32.951565Z"
    },
    "papermill": {
     "duration": 0.005262,
     "end_time": "2023-06-04T14:22:58.724240",
     "exception": false,
     "start_time": "2023-06-04T14:22:58.718978",
     "status": "completed"
    },
    "tags": []
   },
   "source": [
    "mean_absolute_error(y_pred_rtr,y)"
   ]
  },
  {
   "cell_type": "markdown",
   "id": "c3a14556",
   "metadata": {
    "papermill": {
     "duration": 0.005316,
     "end_time": "2023-06-04T14:22:58.734997",
     "exception": false,
     "start_time": "2023-06-04T14:22:58.729681",
     "status": "completed"
    },
    "tags": []
   },
   "source": [
    "# Train a model for the competition\n",
    "\n",
    "The code cell above trains a Random Forest model on **`train_X`** and **`train_y`**.  \n",
    "\n",
    "Use the code cell below to build a Random Forest model and train it on all of **`X`** and **`y`**."
   ]
  },
  {
   "cell_type": "code",
   "execution_count": 8,
   "id": "3fecbaf3",
   "metadata": {
    "execution": {
     "iopub.execute_input": "2023-06-04T14:22:58.747983Z",
     "iopub.status.busy": "2023-06-04T14:22:58.747245Z",
     "iopub.status.idle": "2023-06-04T14:22:59.580293Z",
     "shell.execute_reply": "2023-06-04T14:22:59.579056Z"
    },
    "papermill": {
     "duration": 0.84195,
     "end_time": "2023-06-04T14:22:59.582471",
     "exception": false,
     "start_time": "2023-06-04T14:22:58.740521",
     "status": "completed"
    },
    "tags": []
   },
   "outputs": [
    {
     "data": {
      "text/html": [
       "<style>#sk-container-id-1 {color: black;background-color: white;}#sk-container-id-1 pre{padding: 0;}#sk-container-id-1 div.sk-toggleable {background-color: white;}#sk-container-id-1 label.sk-toggleable__label {cursor: pointer;display: block;width: 100%;margin-bottom: 0;padding: 0.3em;box-sizing: border-box;text-align: center;}#sk-container-id-1 label.sk-toggleable__label-arrow:before {content: \"▸\";float: left;margin-right: 0.25em;color: #696969;}#sk-container-id-1 label.sk-toggleable__label-arrow:hover:before {color: black;}#sk-container-id-1 div.sk-estimator:hover label.sk-toggleable__label-arrow:before {color: black;}#sk-container-id-1 div.sk-toggleable__content {max-height: 0;max-width: 0;overflow: hidden;text-align: left;background-color: #f0f8ff;}#sk-container-id-1 div.sk-toggleable__content pre {margin: 0.2em;color: black;border-radius: 0.25em;background-color: #f0f8ff;}#sk-container-id-1 input.sk-toggleable__control:checked~div.sk-toggleable__content {max-height: 200px;max-width: 100%;overflow: auto;}#sk-container-id-1 input.sk-toggleable__control:checked~label.sk-toggleable__label-arrow:before {content: \"▾\";}#sk-container-id-1 div.sk-estimator input.sk-toggleable__control:checked~label.sk-toggleable__label {background-color: #d4ebff;}#sk-container-id-1 div.sk-label input.sk-toggleable__control:checked~label.sk-toggleable__label {background-color: #d4ebff;}#sk-container-id-1 input.sk-hidden--visually {border: 0;clip: rect(1px 1px 1px 1px);clip: rect(1px, 1px, 1px, 1px);height: 1px;margin: -1px;overflow: hidden;padding: 0;position: absolute;width: 1px;}#sk-container-id-1 div.sk-estimator {font-family: monospace;background-color: #f0f8ff;border: 1px dotted black;border-radius: 0.25em;box-sizing: border-box;margin-bottom: 0.5em;}#sk-container-id-1 div.sk-estimator:hover {background-color: #d4ebff;}#sk-container-id-1 div.sk-parallel-item::after {content: \"\";width: 100%;border-bottom: 1px solid gray;flex-grow: 1;}#sk-container-id-1 div.sk-label:hover label.sk-toggleable__label {background-color: #d4ebff;}#sk-container-id-1 div.sk-serial::before {content: \"\";position: absolute;border-left: 1px solid gray;box-sizing: border-box;top: 0;bottom: 0;left: 50%;z-index: 0;}#sk-container-id-1 div.sk-serial {display: flex;flex-direction: column;align-items: center;background-color: white;padding-right: 0.2em;padding-left: 0.2em;position: relative;}#sk-container-id-1 div.sk-item {position: relative;z-index: 1;}#sk-container-id-1 div.sk-parallel {display: flex;align-items: stretch;justify-content: center;background-color: white;position: relative;}#sk-container-id-1 div.sk-item::before, #sk-container-id-1 div.sk-parallel-item::before {content: \"\";position: absolute;border-left: 1px solid gray;box-sizing: border-box;top: 0;bottom: 0;left: 50%;z-index: -1;}#sk-container-id-1 div.sk-parallel-item {display: flex;flex-direction: column;z-index: 1;position: relative;background-color: white;}#sk-container-id-1 div.sk-parallel-item:first-child::after {align-self: flex-end;width: 50%;}#sk-container-id-1 div.sk-parallel-item:last-child::after {align-self: flex-start;width: 50%;}#sk-container-id-1 div.sk-parallel-item:only-child::after {width: 0;}#sk-container-id-1 div.sk-dashed-wrapped {border: 1px dashed gray;margin: 0 0.4em 0.5em 0.4em;box-sizing: border-box;padding-bottom: 0.4em;background-color: white;}#sk-container-id-1 div.sk-label label {font-family: monospace;font-weight: bold;display: inline-block;line-height: 1.2em;}#sk-container-id-1 div.sk-label-container {text-align: center;}#sk-container-id-1 div.sk-container {/* jupyter's `normalize.less` sets `[hidden] { display: none; }` but bootstrap.min.css set `[hidden] { display: none !important; }` so we also need the `!important` here to be able to override the default hidden behavior on the sphinx rendered scikit-learn.org. See: https://github.com/scikit-learn/scikit-learn/issues/21755 */display: inline-block !important;position: relative;}#sk-container-id-1 div.sk-text-repr-fallback {display: none;}</style><div id=\"sk-container-id-1\" class=\"sk-top-container\"><div class=\"sk-text-repr-fallback\"><pre>RandomForestRegressor(max_leaf_nodes=310, random_state=23)</pre><b>In a Jupyter environment, please rerun this cell to show the HTML representation or trust the notebook. <br />On GitHub, the HTML representation is unable to render, please try loading this page with nbviewer.org.</b></div><div class=\"sk-container\" hidden><div class=\"sk-item\"><div class=\"sk-estimator sk-toggleable\"><input class=\"sk-toggleable__control sk-hidden--visually\" id=\"sk-estimator-id-1\" type=\"checkbox\" checked><label for=\"sk-estimator-id-1\" class=\"sk-toggleable__label sk-toggleable__label-arrow\">RandomForestRegressor</label><div class=\"sk-toggleable__content\"><pre>RandomForestRegressor(max_leaf_nodes=310, random_state=23)</pre></div></div></div></div></div>"
      ],
      "text/plain": [
       "RandomForestRegressor(max_leaf_nodes=310, random_state=23)"
      ]
     },
     "execution_count": 8,
     "metadata": {},
     "output_type": "execute_result"
    }
   ],
   "source": [
    "# To improve accuracy, create a new Random Forest model which you will train on all training data\n",
    "rf_model_on_full_data = RandomForestRegressor(random_state=23, max_leaf_nodes=best_tree_size)\n",
    "\n",
    "# fit rf_model_on_full_data on all data from the training data\n",
    "rf_model_on_full_data.fit(train_X,train_y)\n"
   ]
  },
  {
   "cell_type": "markdown",
   "id": "d8ecfd88",
   "metadata": {
    "papermill": {
     "duration": 0.006016,
     "end_time": "2023-06-04T14:22:59.594776",
     "exception": false,
     "start_time": "2023-06-04T14:22:59.588760",
     "status": "completed"
    },
    "tags": []
   },
   "source": [
    "Now, read the file of \"test\" data, and apply your model to make predictions."
   ]
  },
  {
   "cell_type": "code",
   "execution_count": 9,
   "id": "f7626550",
   "metadata": {
    "execution": {
     "iopub.execute_input": "2023-06-04T14:22:59.607947Z",
     "iopub.status.busy": "2023-06-04T14:22:59.607598Z",
     "iopub.status.idle": "2023-06-04T14:22:59.673222Z",
     "shell.execute_reply": "2023-06-04T14:22:59.672496Z"
    },
    "papermill": {
     "duration": 0.074671,
     "end_time": "2023-06-04T14:22:59.675171",
     "exception": false,
     "start_time": "2023-06-04T14:22:59.600500",
     "status": "completed"
    },
    "tags": []
   },
   "outputs": [
    {
     "data": {
      "text/plain": [
       "array([119644.53383954, 151959.65095347, 174225.06000533, ...,\n",
       "       152918.55663791, 139616.00834615, 232699.64640332])"
      ]
     },
     "execution_count": 9,
     "metadata": {},
     "output_type": "execute_result"
    }
   ],
   "source": [
    "# path to file you will use for predictions\n",
    "test_data_path = '../input/test.csv'\n",
    "\n",
    "# read test data file using pandas\n",
    "test_data = pd.read_csv(test_data_path)\n",
    "\n",
    "# create test_X which comes from test_data but includes only the columns you used for prediction.\n",
    "# The list of columns is stored in a variable called features\n",
    "test_X = test_data[features_]\n",
    "\n",
    "# make predictions which we will submit. \n",
    "test_preds = rf_model_on_full_data.predict(test_X)\n",
    "# test_data.columns\n",
    "test_preds"
   ]
  },
  {
   "cell_type": "markdown",
   "id": "a305ae22",
   "metadata": {
    "papermill": {
     "duration": 0.00581,
     "end_time": "2023-06-04T14:22:59.687071",
     "exception": false,
     "start_time": "2023-06-04T14:22:59.681261",
     "status": "completed"
    },
    "tags": []
   },
   "source": [
    "Before submitting, run a check to make sure your `test_preds` have the right format."
   ]
  },
  {
   "cell_type": "markdown",
   "id": "936fdfb3",
   "metadata": {
    "execution": {
     "iopub.execute_input": "2023-06-04T14:04:33.903144Z",
     "iopub.status.busy": "2023-06-04T14:04:33.902417Z",
     "iopub.status.idle": "2023-06-04T14:04:33.907931Z",
     "shell.execute_reply": "2023-06-04T14:04:33.906848Z",
     "shell.execute_reply.started": "2023-06-04T14:04:33.903114Z"
    },
    "papermill": {
     "duration": 0.005678,
     "end_time": "2023-06-04T14:22:59.698693",
     "exception": false,
     "start_time": "2023-06-04T14:22:59.693015",
     "status": "completed"
    },
    "tags": []
   },
   "source": [
    "from sklearn.linear_model import LinearRegression "
   ]
  },
  {
   "cell_type": "markdown",
   "id": "2604e88d",
   "metadata": {
    "execution": {
     "iopub.execute_input": "2023-06-04T14:04:33.910087Z",
     "iopub.status.busy": "2023-06-04T14:04:33.909523Z",
     "iopub.status.idle": "2023-06-04T14:04:33.935168Z",
     "shell.execute_reply": "2023-06-04T14:04:33.933763Z",
     "shell.execute_reply.started": "2023-06-04T14:04:33.910050Z"
    },
    "papermill": {
     "duration": 0.005631,
     "end_time": "2023-06-04T14:22:59.710254",
     "exception": false,
     "start_time": "2023-06-04T14:22:59.704623",
     "status": "completed"
    },
    "tags": []
   },
   "source": [
    "LR=LinearRegression()\n",
    "LR.fit(train_X,train_y)"
   ]
  },
  {
   "cell_type": "markdown",
   "id": "8fafadaf",
   "metadata": {
    "execution": {
     "iopub.execute_input": "2023-06-04T14:04:33.939326Z",
     "iopub.status.busy": "2023-06-04T14:04:33.938803Z",
     "iopub.status.idle": "2023-06-04T14:04:33.962152Z",
     "shell.execute_reply": "2023-06-04T14:04:33.960953Z",
     "shell.execute_reply.started": "2023-06-04T14:04:33.939279Z"
    },
    "papermill": {
     "duration": 0.005589,
     "end_time": "2023-06-04T14:22:59.721858",
     "exception": false,
     "start_time": "2023-06-04T14:22:59.716269",
     "status": "completed"
    },
    "tags": []
   },
   "source": [
    "Y_pred_lr=LR.predict(val_X)\n",
    "mean_absolute_error(Y_pred_lr,val_y)"
   ]
  },
  {
   "cell_type": "code",
   "execution_count": 10,
   "id": "627b3c22",
   "metadata": {
    "execution": {
     "iopub.execute_input": "2023-06-04T14:22:59.735823Z",
     "iopub.status.busy": "2023-06-04T14:22:59.734926Z",
     "iopub.status.idle": "2023-06-04T14:22:59.739540Z",
     "shell.execute_reply": "2023-06-04T14:22:59.738792Z"
    },
    "papermill": {
     "duration": 0.013766,
     "end_time": "2023-06-04T14:22:59.741528",
     "exception": false,
     "start_time": "2023-06-04T14:22:59.727762",
     "status": "completed"
    },
    "tags": []
   },
   "outputs": [],
   "source": [
    "# Check your answer (To get credit for completing the exercise, you must get a \"Correct\" result!)\n",
    "# step_1.check()\n",
    "# step_1.solution()"
   ]
  },
  {
   "cell_type": "markdown",
   "id": "324311c5",
   "metadata": {
    "papermill": {
     "duration": 0.005718,
     "end_time": "2023-06-04T14:22:59.753419",
     "exception": false,
     "start_time": "2023-06-04T14:22:59.747701",
     "status": "completed"
    },
    "tags": []
   },
   "source": [
    "# Generate a submission\n",
    "\n",
    "Run the code cell below to generate a CSV file with your predictions that you can use to submit to the competition."
   ]
  },
  {
   "cell_type": "code",
   "execution_count": 11,
   "id": "05663f7d",
   "metadata": {
    "execution": {
     "iopub.execute_input": "2023-06-04T14:22:59.767525Z",
     "iopub.status.busy": "2023-06-04T14:22:59.766562Z",
     "iopub.status.idle": "2023-06-04T14:22:59.781709Z",
     "shell.execute_reply": "2023-06-04T14:22:59.780720Z"
    },
    "papermill": {
     "duration": 0.024804,
     "end_time": "2023-06-04T14:22:59.784105",
     "exception": false,
     "start_time": "2023-06-04T14:22:59.759301",
     "status": "completed"
    },
    "tags": []
   },
   "outputs": [],
   "source": [
    "# Run the code to save predictions in the format used for competition scoring\n",
    "\n",
    "output = pd.DataFrame({'Id': test_data.Id,\n",
    "                       'SalePrice': test_preds})\n",
    "output.to_csv('submission.csv', index=False)"
   ]
  },
  {
   "cell_type": "markdown",
   "id": "a42ad0a6",
   "metadata": {
    "papermill": {
     "duration": 0.005787,
     "end_time": "2023-06-04T14:22:59.796212",
     "exception": false,
     "start_time": "2023-06-04T14:22:59.790425",
     "status": "completed"
    },
    "tags": []
   },
   "source": [
    "# Submit to the competition\n",
    "\n",
    "To test your results, you'll need to join the competition (if you haven't already).  So open a new window by clicking on **[this link](https://www.kaggle.com/c/home-data-for-ml-course)**.  Then click on the **Join Competition** button.\n",
    "\n",
    "![join competition image](https://storage.googleapis.com/kaggle-media/learn/images/axBzctl.png)\n",
    "\n",
    "Next, follow the instructions below:\n",
    "1. Begin by clicking on the **Save Version** button in the top right corner of the window.  This will generate a pop-up window.  \n",
    "2. Ensure that the **Save and Run All** option is selected, and then click on the **Save** button.\n",
    "3. This generates a window in the bottom left corner of the notebook.  After it has finished running, click on the number to the right of the **Save Version** button.  This pulls up a list of versions on the right of the screen.  Click on the ellipsis **(...)** to the right of the most recent version, and select **Open in Viewer**.  This brings you into view mode of the same page. You will need to scroll down to get back to these instructions.\n",
    "4. Click on the **Data** tab near the top of the screen.  Then, click on the file you would like to submit, and click on the **Submit** button to submit your results to the leaderboard.\n",
    "\n",
    "You have now successfully submitted to the competition!\n",
    "\n",
    "If you want to keep working to improve your performance, select the **Edit** button in the top right of the screen. Then you can change your code and repeat the process. There's a lot of room to improve, and you will climb up the leaderboard as you work.\n",
    "\n",
    "\n",
    "# Continue Your Progress\n",
    "There are many ways to improve your model, and **experimenting is a great way to learn at this point.**\n",
    "\n",
    "The best way to improve your model is to add features.  To add more features to the data, revisit the first code cell, and change this line of code to include more column names:\n",
    "```python\n",
    "features = ['LotArea', 'YearBuilt', '1stFlrSF', '2ndFlrSF', 'FullBath', 'BedroomAbvGr', 'TotRmsAbvGrd']\n",
    "```\n",
    "\n",
    "Some features will cause errors because of issues like missing values or non-numeric data types.  Here is a complete list of potential columns that you might like to use, and that won't throw errors:\n",
    "- 'MSSubClass'\n",
    "- 'LotArea'\n",
    "- 'OverallQual' \n",
    "- 'OverallCond' \n",
    "- 'YearBuilt'\n",
    "- 'YearRemodAdd' \n",
    "- '1stFlrSF'\n",
    "- '2ndFlrSF' \n",
    "- 'LowQualFinSF' \n",
    "- 'GrLivArea'\n",
    "- 'FullBath'\n",
    "- 'HalfBath'\n",
    "- 'BedroomAbvGr' \n",
    "- 'KitchenAbvGr' \n",
    "- 'TotRmsAbvGrd' \n",
    "- 'Fireplaces' \n",
    "- 'WoodDeckSF' \n",
    "- 'OpenPorchSF'\n",
    "- 'EnclosedPorch' \n",
    "- '3SsnPorch' \n",
    "- 'ScreenPorch' \n",
    "- 'PoolArea' \n",
    "- 'MiscVal' \n",
    "- 'MoSold' \n",
    "- 'YrSold'\n",
    "\n",
    "Look at the list of columns and think about what might affect home prices.  To learn more about each of these features, take a look at the data description on the **[competition page](https://www.kaggle.com/c/home-data-for-ml-course/data)**.\n",
    "\n",
    "After updating the code cell above that defines the features, re-run all of the code cells to evaluate the model and generate a new submission file.  \n",
    "\n",
    "\n",
    "# What's next?\n",
    "\n",
    "As mentioned above, some of the features will throw an error if you try to use them to train your model.  The **[Intermediate Machine Learning](https://www.kaggle.com/learn/intermediate-machine-learning)** course will teach you how to handle these types of features. You will also learn to use **xgboost**, a technique giving even better accuracy than Random Forest.\n",
    "\n",
    "The **[Pandas](https://kaggle.com/Learn/Pandas)** course will give you the data manipulation skills to quickly go from conceptual idea to implementation in your data science projects. \n",
    "\n",
    "You are also ready for the **[Deep Learning](https://kaggle.com/Learn/intro-to-Deep-Learning)** course, where you will build models with better-than-human level performance at computer vision tasks."
   ]
  },
  {
   "cell_type": "markdown",
   "id": "a44e63f1",
   "metadata": {
    "papermill": {
     "duration": 0.005682,
     "end_time": "2023-06-04T14:22:59.807997",
     "exception": false,
     "start_time": "2023-06-04T14:22:59.802315",
     "status": "completed"
    },
    "tags": []
   },
   "source": [
    "---\n",
    "\n",
    "\n",
    "\n",
    "\n",
    "*Have questions or comments? Visit the [course discussion forum](https://www.kaggle.com/learn/intro-to-machine-learning/discussion) to chat with other learners.*"
   ]
  }
 ],
 "metadata": {
  "kernelspec": {
   "display_name": "Python 3",
   "language": "python",
   "name": "python3"
  },
  "language_info": {
   "codemirror_mode": {
    "name": "ipython",
    "version": 3
   },
   "file_extension": ".py",
   "mimetype": "text/x-python",
   "name": "python",
   "nbconvert_exporter": "python",
   "pygments_lexer": "ipython3",
   "version": "3.10.10"
  },
  "papermill": {
   "default_parameters": {},
   "duration": 16.476032,
   "end_time": "2023-06-04T14:23:00.735125",
   "environment_variables": {},
   "exception": null,
   "input_path": "__notebook__.ipynb",
   "output_path": "__notebook__.ipynb",
   "parameters": {},
   "start_time": "2023-06-04T14:22:44.259093",
   "version": "2.4.0"
  }
 },
 "nbformat": 4,
 "nbformat_minor": 5
}
