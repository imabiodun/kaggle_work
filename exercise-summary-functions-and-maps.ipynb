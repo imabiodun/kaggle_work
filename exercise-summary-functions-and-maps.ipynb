{
 "cells": [
  {
   "cell_type": "markdown",
   "id": "41efcb97",
   "metadata": {
    "papermill": {
     "duration": 0.007709,
     "end_time": "2023-06-05T11:08:00.197341",
     "exception": false,
     "start_time": "2023-06-05T11:08:00.189632",
     "status": "completed"
    },
    "tags": []
   },
   "source": [
    "**This notebook is an exercise in the [Pandas](https://www.kaggle.com/learn/pandas) course.  You can reference the tutorial at [this link](https://www.kaggle.com/residentmario/summary-functions-and-maps).**\n",
    "\n",
    "---\n"
   ]
  },
  {
   "cell_type": "markdown",
   "id": "7441dcc7",
   "metadata": {
    "jupyter": {
     "source_hidden": true
    },
    "papermill": {
     "duration": 0.006371,
     "end_time": "2023-06-05T11:08:00.210200",
     "exception": false,
     "start_time": "2023-06-05T11:08:00.203829",
     "status": "completed"
    },
    "tags": []
   },
   "source": [
    "# Introduction\n",
    "\n",
    "Now you are ready to get a deeper understanding of your data.\n",
    "\n",
    "Run the following cell to load your data and some utility functions (including code to check your answers)."
   ]
  },
  {
   "cell_type": "code",
   "execution_count": 1,
   "id": "861678e6",
   "metadata": {
    "execution": {
     "iopub.execute_input": "2023-06-05T11:08:00.225178Z",
     "iopub.status.busy": "2023-06-05T11:08:00.224108Z",
     "iopub.status.idle": "2023-06-05T11:08:05.936750Z",
     "shell.execute_reply": "2023-06-05T11:08:05.935205Z"
    },
    "papermill": {
     "duration": 5.722883,
     "end_time": "2023-06-05T11:08:05.938957",
     "exception": false,
     "start_time": "2023-06-05T11:08:00.216074",
     "status": "completed"
    },
    "tags": []
   },
   "outputs": [
    {
     "name": "stdout",
     "output_type": "stream",
     "text": [
      "Setup complete.\n"
     ]
    },
    {
     "data": {
      "text/html": [
       "<div>\n",
       "<style scoped>\n",
       "    .dataframe tbody tr th:only-of-type {\n",
       "        vertical-align: middle;\n",
       "    }\n",
       "\n",
       "    .dataframe tbody tr th {\n",
       "        vertical-align: top;\n",
       "    }\n",
       "\n",
       "    .dataframe thead th {\n",
       "        text-align: right;\n",
       "    }\n",
       "</style>\n",
       "<table border=\"1\" class=\"dataframe\">\n",
       "  <thead>\n",
       "    <tr style=\"text-align: right;\">\n",
       "      <th></th>\n",
       "      <th>country</th>\n",
       "      <th>description</th>\n",
       "      <th>designation</th>\n",
       "      <th>points</th>\n",
       "      <th>price</th>\n",
       "      <th>province</th>\n",
       "      <th>region_1</th>\n",
       "      <th>region_2</th>\n",
       "      <th>taster_name</th>\n",
       "      <th>taster_twitter_handle</th>\n",
       "      <th>title</th>\n",
       "      <th>variety</th>\n",
       "      <th>winery</th>\n",
       "    </tr>\n",
       "  </thead>\n",
       "  <tbody>\n",
       "    <tr>\n",
       "      <th>0</th>\n",
       "      <td>Italy</td>\n",
       "      <td>Aromas include tropical fruit, broom, brimston...</td>\n",
       "      <td>Vulkà Bianco</td>\n",
       "      <td>87</td>\n",
       "      <td>NaN</td>\n",
       "      <td>Sicily &amp; Sardinia</td>\n",
       "      <td>Etna</td>\n",
       "      <td>NaN</td>\n",
       "      <td>Kerin O’Keefe</td>\n",
       "      <td>@kerinokeefe</td>\n",
       "      <td>Nicosia 2013 Vulkà Bianco  (Etna)</td>\n",
       "      <td>White Blend</td>\n",
       "      <td>Nicosia</td>\n",
       "    </tr>\n",
       "    <tr>\n",
       "      <th>1</th>\n",
       "      <td>Portugal</td>\n",
       "      <td>This is ripe and fruity, a wine that is smooth...</td>\n",
       "      <td>Avidagos</td>\n",
       "      <td>87</td>\n",
       "      <td>15.0</td>\n",
       "      <td>Douro</td>\n",
       "      <td>NaN</td>\n",
       "      <td>NaN</td>\n",
       "      <td>Roger Voss</td>\n",
       "      <td>@vossroger</td>\n",
       "      <td>Quinta dos Avidagos 2011 Avidagos Red (Douro)</td>\n",
       "      <td>Portuguese Red</td>\n",
       "      <td>Quinta dos Avidagos</td>\n",
       "    </tr>\n",
       "    <tr>\n",
       "      <th>2</th>\n",
       "      <td>US</td>\n",
       "      <td>Tart and snappy, the flavors of lime flesh and...</td>\n",
       "      <td>NaN</td>\n",
       "      <td>87</td>\n",
       "      <td>14.0</td>\n",
       "      <td>Oregon</td>\n",
       "      <td>Willamette Valley</td>\n",
       "      <td>Willamette Valley</td>\n",
       "      <td>Paul Gregutt</td>\n",
       "      <td>@paulgwine</td>\n",
       "      <td>Rainstorm 2013 Pinot Gris (Willamette Valley)</td>\n",
       "      <td>Pinot Gris</td>\n",
       "      <td>Rainstorm</td>\n",
       "    </tr>\n",
       "    <tr>\n",
       "      <th>3</th>\n",
       "      <td>US</td>\n",
       "      <td>Pineapple rind, lemon pith and orange blossom ...</td>\n",
       "      <td>Reserve Late Harvest</td>\n",
       "      <td>87</td>\n",
       "      <td>13.0</td>\n",
       "      <td>Michigan</td>\n",
       "      <td>Lake Michigan Shore</td>\n",
       "      <td>NaN</td>\n",
       "      <td>Alexander Peartree</td>\n",
       "      <td>NaN</td>\n",
       "      <td>St. Julian 2013 Reserve Late Harvest Riesling ...</td>\n",
       "      <td>Riesling</td>\n",
       "      <td>St. Julian</td>\n",
       "    </tr>\n",
       "    <tr>\n",
       "      <th>4</th>\n",
       "      <td>US</td>\n",
       "      <td>Much like the regular bottling from 2012, this...</td>\n",
       "      <td>Vintner's Reserve Wild Child Block</td>\n",
       "      <td>87</td>\n",
       "      <td>65.0</td>\n",
       "      <td>Oregon</td>\n",
       "      <td>Willamette Valley</td>\n",
       "      <td>Willamette Valley</td>\n",
       "      <td>Paul Gregutt</td>\n",
       "      <td>@paulgwine</td>\n",
       "      <td>Sweet Cheeks 2012 Vintner's Reserve Wild Child...</td>\n",
       "      <td>Pinot Noir</td>\n",
       "      <td>Sweet Cheeks</td>\n",
       "    </tr>\n",
       "  </tbody>\n",
       "</table>\n",
       "</div>"
      ],
      "text/plain": [
       "    country                                        description  \\\n",
       "0     Italy  Aromas include tropical fruit, broom, brimston...   \n",
       "1  Portugal  This is ripe and fruity, a wine that is smooth...   \n",
       "2        US  Tart and snappy, the flavors of lime flesh and...   \n",
       "3        US  Pineapple rind, lemon pith and orange blossom ...   \n",
       "4        US  Much like the regular bottling from 2012, this...   \n",
       "\n",
       "                          designation  points  price           province  \\\n",
       "0                        Vulkà Bianco      87    NaN  Sicily & Sardinia   \n",
       "1                            Avidagos      87   15.0              Douro   \n",
       "2                                 NaN      87   14.0             Oregon   \n",
       "3                Reserve Late Harvest      87   13.0           Michigan   \n",
       "4  Vintner's Reserve Wild Child Block      87   65.0             Oregon   \n",
       "\n",
       "              region_1           region_2         taster_name  \\\n",
       "0                 Etna                NaN       Kerin O’Keefe   \n",
       "1                  NaN                NaN          Roger Voss   \n",
       "2    Willamette Valley  Willamette Valley        Paul Gregutt   \n",
       "3  Lake Michigan Shore                NaN  Alexander Peartree   \n",
       "4    Willamette Valley  Willamette Valley        Paul Gregutt   \n",
       "\n",
       "  taster_twitter_handle                                              title  \\\n",
       "0          @kerinokeefe                  Nicosia 2013 Vulkà Bianco  (Etna)   \n",
       "1            @vossroger      Quinta dos Avidagos 2011 Avidagos Red (Douro)   \n",
       "2           @paulgwine       Rainstorm 2013 Pinot Gris (Willamette Valley)   \n",
       "3                   NaN  St. Julian 2013 Reserve Late Harvest Riesling ...   \n",
       "4           @paulgwine   Sweet Cheeks 2012 Vintner's Reserve Wild Child...   \n",
       "\n",
       "          variety               winery  \n",
       "0     White Blend              Nicosia  \n",
       "1  Portuguese Red  Quinta dos Avidagos  \n",
       "2      Pinot Gris            Rainstorm  \n",
       "3        Riesling           St. Julian  \n",
       "4      Pinot Noir         Sweet Cheeks  "
      ]
     },
     "execution_count": 1,
     "metadata": {},
     "output_type": "execute_result"
    }
   ],
   "source": [
    "import pandas as pd\n",
    "pd.set_option(\"display.max_rows\", 5)\n",
    "reviews = pd.read_csv(\"../input/wine-reviews/winemag-data-130k-v2.csv\", index_col=0)\n",
    "\n",
    "from learntools.core import binder; binder.bind(globals())\n",
    "from learntools.pandas.summary_functions_and_maps import *\n",
    "print(\"Setup complete.\")\n",
    "\n",
    "reviews.head()"
   ]
  },
  {
   "cell_type": "markdown",
   "id": "535cae6a",
   "metadata": {
    "papermill": {
     "duration": 0.004954,
     "end_time": "2023-06-05T11:08:05.949680",
     "exception": false,
     "start_time": "2023-06-05T11:08:05.944726",
     "status": "completed"
    },
    "tags": []
   },
   "source": [
    "# Exercises"
   ]
  },
  {
   "cell_type": "markdown",
   "id": "9f9b815a",
   "metadata": {
    "papermill": {
     "duration": 0.006903,
     "end_time": "2023-06-05T11:08:05.962172",
     "exception": false,
     "start_time": "2023-06-05T11:08:05.955269",
     "status": "completed"
    },
    "tags": []
   },
   "source": [
    "## 1.\n",
    "\n",
    "What is the median of the `points` column in the `reviews` DataFrame?"
   ]
  },
  {
   "cell_type": "code",
   "execution_count": 2,
   "id": "3bf5f6fb",
   "metadata": {
    "execution": {
     "iopub.execute_input": "2023-06-05T11:08:05.974816Z",
     "iopub.status.busy": "2023-06-05T11:08:05.974384Z",
     "iopub.status.idle": "2023-06-05T11:08:05.987758Z",
     "shell.execute_reply": "2023-06-05T11:08:05.986189Z"
    },
    "papermill": {
     "duration": 0.022655,
     "end_time": "2023-06-05T11:08:05.990233",
     "exception": false,
     "start_time": "2023-06-05T11:08:05.967578",
     "status": "completed"
    },
    "tags": []
   },
   "outputs": [
    {
     "data": {
      "application/javascript": [
       "parent.postMessage({\"jupyterEvent\": \"custom.exercise_interaction\", \"data\": {\"outcomeType\": 1, \"valueTowardsCompletion\": 0.14285714285714285, \"interactionType\": 1, \"questionType\": 1, \"questionId\": \"1_MedianPoints\", \"learnToolsVersion\": \"0.3.4\", \"failureMessage\": \"\", \"exceptionClass\": \"\", \"trace\": \"\"}}, \"*\")"
      ],
      "text/plain": [
       "<IPython.core.display.Javascript object>"
      ]
     },
     "metadata": {},
     "output_type": "display_data"
    },
    {
     "data": {
      "text/markdown": [
       "<span style=\"color:#33cc33\">Correct</span>"
      ],
      "text/plain": [
       "Correct"
      ]
     },
     "metadata": {},
     "output_type": "display_data"
    }
   ],
   "source": [
    "median_points = reviews['points'].median()\n",
    "\n",
    "# Check your answer\n",
    "q1.check()"
   ]
  },
  {
   "cell_type": "code",
   "execution_count": 3,
   "id": "56fb04db",
   "metadata": {
    "execution": {
     "iopub.execute_input": "2023-06-05T11:08:06.004249Z",
     "iopub.status.busy": "2023-06-05T11:08:06.003872Z",
     "iopub.status.idle": "2023-06-05T11:08:06.007813Z",
     "shell.execute_reply": "2023-06-05T11:08:06.006889Z"
    },
    "papermill": {
     "duration": 0.013272,
     "end_time": "2023-06-05T11:08:06.009624",
     "exception": false,
     "start_time": "2023-06-05T11:08:05.996352",
     "status": "completed"
    },
    "tags": []
   },
   "outputs": [],
   "source": [
    "#q1.hint()\n",
    "#q1.solution()"
   ]
  },
  {
   "cell_type": "markdown",
   "id": "428cfc0c",
   "metadata": {
    "papermill": {
     "duration": 0.005507,
     "end_time": "2023-06-05T11:08:06.021095",
     "exception": false,
     "start_time": "2023-06-05T11:08:06.015588",
     "status": "completed"
    },
    "tags": []
   },
   "source": [
    "## 2. \n",
    "What countries are represented in the dataset? (Your answer should not include any duplicates.)"
   ]
  },
  {
   "cell_type": "code",
   "execution_count": 4,
   "id": "04bf757c",
   "metadata": {
    "execution": {
     "iopub.execute_input": "2023-06-05T11:08:06.034493Z",
     "iopub.status.busy": "2023-06-05T11:08:06.034007Z",
     "iopub.status.idle": "2023-06-05T11:08:06.045874Z",
     "shell.execute_reply": "2023-06-05T11:08:06.044564Z"
    },
    "papermill": {
     "duration": 0.021074,
     "end_time": "2023-06-05T11:08:06.047759",
     "exception": false,
     "start_time": "2023-06-05T11:08:06.026685",
     "status": "completed"
    },
    "tags": []
   },
   "outputs": [
    {
     "data": {
      "application/javascript": [
       "parent.postMessage({\"jupyterEvent\": \"custom.exercise_interaction\", \"data\": {\"outcomeType\": 1, \"valueTowardsCompletion\": 0.14285714285714285, \"interactionType\": 1, \"questionType\": 2, \"questionId\": \"2_UniqueCountries\", \"learnToolsVersion\": \"0.3.4\", \"failureMessage\": \"\", \"exceptionClass\": \"\", \"trace\": \"\"}}, \"*\")"
      ],
      "text/plain": [
       "<IPython.core.display.Javascript object>"
      ]
     },
     "metadata": {},
     "output_type": "display_data"
    },
    {
     "data": {
      "text/markdown": [
       "<span style=\"color:#33cc33\">Correct</span>"
      ],
      "text/plain": [
       "Correct"
      ]
     },
     "metadata": {},
     "output_type": "display_data"
    }
   ],
   "source": [
    "countries = reviews['country'].unique()\n",
    "\n",
    "# Check your answer\n",
    "q2.check()"
   ]
  },
  {
   "cell_type": "code",
   "execution_count": 5,
   "id": "85f2690c",
   "metadata": {
    "execution": {
     "iopub.execute_input": "2023-06-05T11:08:06.061405Z",
     "iopub.status.busy": "2023-06-05T11:08:06.061042Z",
     "iopub.status.idle": "2023-06-05T11:08:06.064819Z",
     "shell.execute_reply": "2023-06-05T11:08:06.063731Z"
    },
    "papermill": {
     "duration": 0.012735,
     "end_time": "2023-06-05T11:08:06.066576",
     "exception": false,
     "start_time": "2023-06-05T11:08:06.053841",
     "status": "completed"
    },
    "tags": []
   },
   "outputs": [],
   "source": [
    "#q2.hint()\n",
    "#q2.solution()"
   ]
  },
  {
   "cell_type": "markdown",
   "id": "d2bf28e1",
   "metadata": {
    "papermill": {
     "duration": 0.005617,
     "end_time": "2023-06-05T11:08:06.078101",
     "exception": false,
     "start_time": "2023-06-05T11:08:06.072484",
     "status": "completed"
    },
    "tags": []
   },
   "source": [
    "## 3.\n",
    "How often does each country appear in the dataset? Create a Series `reviews_per_country` mapping countries to the count of reviews of wines from that country."
   ]
  },
  {
   "cell_type": "code",
   "execution_count": 6,
   "id": "5f13a18e",
   "metadata": {
    "execution": {
     "iopub.execute_input": "2023-06-05T11:08:06.092506Z",
     "iopub.status.busy": "2023-06-05T11:08:06.091744Z",
     "iopub.status.idle": "2023-06-05T11:08:06.105397Z",
     "shell.execute_reply": "2023-06-05T11:08:06.104788Z"
    },
    "papermill": {
     "duration": 0.023438,
     "end_time": "2023-06-05T11:08:06.107910",
     "exception": false,
     "start_time": "2023-06-05T11:08:06.084472",
     "status": "completed"
    },
    "tags": []
   },
   "outputs": [
    {
     "data": {
      "application/javascript": [
       "parent.postMessage({\"jupyterEvent\": \"custom.exercise_interaction\", \"data\": {\"outcomeType\": 1, \"valueTowardsCompletion\": 0.14285714285714285, \"interactionType\": 1, \"questionType\": 1, \"questionId\": \"3_ReviewsPerCountry\", \"learnToolsVersion\": \"0.3.4\", \"failureMessage\": \"\", \"exceptionClass\": \"\", \"trace\": \"\"}}, \"*\")"
      ],
      "text/plain": [
       "<IPython.core.display.Javascript object>"
      ]
     },
     "metadata": {},
     "output_type": "display_data"
    },
    {
     "data": {
      "text/markdown": [
       "<span style=\"color:#33cc33\">Correct</span>"
      ],
      "text/plain": [
       "Correct"
      ]
     },
     "metadata": {},
     "output_type": "display_data"
    }
   ],
   "source": [
    "value_wine= reviews['country'].value_counts()\n",
    "reviews_per_country = value_wine\n",
    "#value_wine\n",
    "# Check your answer\n",
    "q3.check()"
   ]
  },
  {
   "cell_type": "code",
   "execution_count": 7,
   "id": "2aab829e",
   "metadata": {
    "execution": {
     "iopub.execute_input": "2023-06-05T11:08:06.122107Z",
     "iopub.status.busy": "2023-06-05T11:08:06.121527Z",
     "iopub.status.idle": "2023-06-05T11:08:06.124949Z",
     "shell.execute_reply": "2023-06-05T11:08:06.124059Z"
    },
    "papermill": {
     "duration": 0.013075,
     "end_time": "2023-06-05T11:08:06.127133",
     "exception": false,
     "start_time": "2023-06-05T11:08:06.114058",
     "status": "completed"
    },
    "tags": []
   },
   "outputs": [],
   "source": [
    "#q3.hint()\n",
    "#q3.solution()"
   ]
  },
  {
   "cell_type": "markdown",
   "id": "09deeb9c",
   "metadata": {
    "papermill": {
     "duration": 0.005654,
     "end_time": "2023-06-05T11:08:06.139285",
     "exception": false,
     "start_time": "2023-06-05T11:08:06.133631",
     "status": "completed"
    },
    "tags": []
   },
   "source": [
    "## 4.\n",
    "Create variable `centered_price` containing a version of the `price` column with the mean price subtracted.\n",
    "\n",
    "(Note: this 'centering' transformation is a common preprocessing step before applying various machine learning algorithms.) "
   ]
  },
  {
   "cell_type": "code",
   "execution_count": 8,
   "id": "7b9f6ec3",
   "metadata": {
    "execution": {
     "iopub.execute_input": "2023-06-05T11:08:06.152404Z",
     "iopub.status.busy": "2023-06-05T11:08:06.151906Z",
     "iopub.status.idle": "2023-06-05T11:08:06.159897Z",
     "shell.execute_reply": "2023-06-05T11:08:06.158900Z"
    },
    "papermill": {
     "duration": 0.017682,
     "end_time": "2023-06-05T11:08:06.162614",
     "exception": false,
     "start_time": "2023-06-05T11:08:06.144932",
     "status": "completed"
    },
    "tags": []
   },
   "outputs": [
    {
     "data": {
      "application/javascript": [
       "parent.postMessage({\"jupyterEvent\": \"custom.exercise_interaction\", \"data\": {\"outcomeType\": 1, \"valueTowardsCompletion\": 0.14285714285714285, \"interactionType\": 1, \"questionType\": 1, \"questionId\": \"4_CenteredPrice\", \"learnToolsVersion\": \"0.3.4\", \"failureMessage\": \"\", \"exceptionClass\": \"\", \"trace\": \"\"}}, \"*\")"
      ],
      "text/plain": [
       "<IPython.core.display.Javascript object>"
      ]
     },
     "metadata": {},
     "output_type": "display_data"
    },
    {
     "data": {
      "text/markdown": [
       "<span style=\"color:#33cc33\">Correct</span>"
      ],
      "text/plain": [
       "Correct"
      ]
     },
     "metadata": {},
     "output_type": "display_data"
    }
   ],
   "source": [
    "centered_price = reviews['price']-reviews [\"price\"].mean()\n",
    "\n",
    "# Check your answer\n",
    "q4.check()"
   ]
  },
  {
   "cell_type": "code",
   "execution_count": 9,
   "id": "81b9c6ba",
   "metadata": {
    "execution": {
     "iopub.execute_input": "2023-06-05T11:08:06.176990Z",
     "iopub.status.busy": "2023-06-05T11:08:06.176639Z",
     "iopub.status.idle": "2023-06-05T11:08:06.184630Z",
     "shell.execute_reply": "2023-06-05T11:08:06.183680Z"
    },
    "papermill": {
     "duration": 0.017394,
     "end_time": "2023-06-05T11:08:06.186644",
     "exception": false,
     "start_time": "2023-06-05T11:08:06.169250",
     "status": "completed"
    },
    "tags": []
   },
   "outputs": [
    {
     "data": {
      "application/javascript": [
       "parent.postMessage({\"jupyterEvent\": \"custom.exercise_interaction\", \"data\": {\"interactionType\": 3, \"questionType\": 1, \"questionId\": \"4_CenteredPrice\", \"learnToolsVersion\": \"0.3.4\", \"valueTowardsCompletion\": 0.0, \"failureMessage\": \"\", \"exceptionClass\": \"\", \"trace\": \"\", \"outcomeType\": 4}}, \"*\")"
      ],
      "text/plain": [
       "<IPython.core.display.Javascript object>"
      ]
     },
     "metadata": {},
     "output_type": "display_data"
    },
    {
     "data": {
      "text/markdown": [
       "<span style=\"color:#33cc99\">Solution:</span> \n",
       "```python\n",
       "centered_price = reviews.price - reviews.price.mean()\n",
       "```"
      ],
      "text/plain": [
       "Solution: \n",
       "```python\n",
       "centered_price = reviews.price - reviews.price.mean()\n",
       "```"
      ]
     },
     "metadata": {},
     "output_type": "display_data"
    }
   ],
   "source": [
    "#q4.hint()\n",
    "q4.solution()"
   ]
  },
  {
   "cell_type": "markdown",
   "id": "d29c6697",
   "metadata": {
    "papermill": {
     "duration": 0.005991,
     "end_time": "2023-06-05T11:08:06.199135",
     "exception": false,
     "start_time": "2023-06-05T11:08:06.193144",
     "status": "completed"
    },
    "tags": []
   },
   "source": [
    "## 5.\n",
    "I'm an economical wine buyer. Which wine is the \"best bargain\"? Create a variable `bargain_wine` with the title of the wine with the highest points-to-price ratio in the dataset."
   ]
  },
  {
   "cell_type": "code",
   "execution_count": 10,
   "id": "3f39f3a4",
   "metadata": {
    "execution": {
     "iopub.execute_input": "2023-06-05T11:08:06.214197Z",
     "iopub.status.busy": "2023-06-05T11:08:06.213617Z",
     "iopub.status.idle": "2023-06-05T11:08:06.221787Z",
     "shell.execute_reply": "2023-06-05T11:08:06.221005Z"
    },
    "papermill": {
     "duration": 0.01786,
     "end_time": "2023-06-05T11:08:06.223501",
     "exception": false,
     "start_time": "2023-06-05T11:08:06.205641",
     "status": "completed"
    },
    "tags": []
   },
   "outputs": [
    {
     "data": {
      "application/javascript": [
       "parent.postMessage({\"jupyterEvent\": \"custom.exercise_interaction\", \"data\": {\"outcomeType\": 2, \"failureMessage\": \"Expected `bargain_wine` to have type `<class 'str'>` but had type `<class 'pandas.core.series.Series'>`\", \"interactionType\": 1, \"questionType\": 2, \"questionId\": \"5_BargainWine\", \"learnToolsVersion\": \"0.3.4\", \"valueTowardsCompletion\": 0.0, \"exceptionClass\": \"\", \"trace\": \"\"}}, \"*\")"
      ],
      "text/plain": [
       "<IPython.core.display.Javascript object>"
      ]
     },
     "metadata": {},
     "output_type": "display_data"
    },
    {
     "data": {
      "text/markdown": [
       "<span style=\"color:#cc3333\">Incorrect:</span> Expected `bargain_wine` to have type `<class 'str'>` but had type `<class 'pandas.core.series.Series'>`"
      ],
      "text/plain": [
       "Incorrect: Expected `bargain_wine` to have type `<class 'str'>` but had type `<class 'pandas.core.series.Series'>`"
      ]
     },
     "metadata": {},
     "output_type": "display_data"
    }
   ],
   "source": [
    "bargain_wine = reviews [\"points\"]/ reviews [\"price\"]\n",
    "\n",
    "# Check your answer\n",
    "q5.check()"
   ]
  },
  {
   "cell_type": "code",
   "execution_count": 11,
   "id": "2b4ec133",
   "metadata": {
    "execution": {
     "iopub.execute_input": "2023-06-05T11:08:06.239058Z",
     "iopub.status.busy": "2023-06-05T11:08:06.237855Z",
     "iopub.status.idle": "2023-06-05T11:08:06.245981Z",
     "shell.execute_reply": "2023-06-05T11:08:06.244955Z"
    },
    "papermill": {
     "duration": 0.018235,
     "end_time": "2023-06-05T11:08:06.248371",
     "exception": false,
     "start_time": "2023-06-05T11:08:06.230136",
     "status": "completed"
    },
    "tags": []
   },
   "outputs": [
    {
     "data": {
      "application/javascript": [
       "parent.postMessage({\"jupyterEvent\": \"custom.exercise_interaction\", \"data\": {\"interactionType\": 3, \"questionType\": 2, \"questionId\": \"5_BargainWine\", \"learnToolsVersion\": \"0.3.4\", \"valueTowardsCompletion\": 0.0, \"failureMessage\": \"\", \"exceptionClass\": \"\", \"trace\": \"\", \"outcomeType\": 4}}, \"*\")"
      ],
      "text/plain": [
       "<IPython.core.display.Javascript object>"
      ]
     },
     "metadata": {},
     "output_type": "display_data"
    },
    {
     "data": {
      "text/markdown": [
       "<span style=\"color:#33cc99\">Solution:</span> \n",
       "```python\n",
       "bargain_idx = (reviews.points / reviews.price).idxmax()\n",
       "bargain_wine = reviews.loc[bargain_idx, 'title']\n",
       "```"
      ],
      "text/plain": [
       "Solution: \n",
       "```python\n",
       "bargain_idx = (reviews.points / reviews.price).idxmax()\n",
       "bargain_wine = reviews.loc[bargain_idx, 'title']\n",
       "```"
      ]
     },
     "metadata": {},
     "output_type": "display_data"
    }
   ],
   "source": [
    "#q5.hint()\n",
    "q5.solution()"
   ]
  },
  {
   "cell_type": "markdown",
   "id": "3477a78e",
   "metadata": {
    "papermill": {
     "duration": 0.007159,
     "end_time": "2023-06-05T11:08:06.262871",
     "exception": false,
     "start_time": "2023-06-05T11:08:06.255712",
     "status": "completed"
    },
    "tags": []
   },
   "source": [
    "## 6.\n",
    "There are only so many words you can use when describing a bottle of wine. Is a wine more likely to be \"tropical\" or \"fruity\"? Create a Series `descriptor_counts` counting how many times each of these two words appears in the `description` column in the dataset. (For simplicity, let's ignore the capitalized versions of these words.)"
   ]
  },
  {
   "cell_type": "code",
   "execution_count": 12,
   "id": "a6db08f6",
   "metadata": {
    "execution": {
     "iopub.execute_input": "2023-06-05T11:08:06.279536Z",
     "iopub.status.busy": "2023-06-05T11:08:06.278585Z",
     "iopub.status.idle": "2023-06-05T11:08:06.286657Z",
     "shell.execute_reply": "2023-06-05T11:08:06.285563Z"
    },
    "papermill": {
     "duration": 0.019575,
     "end_time": "2023-06-05T11:08:06.289320",
     "exception": false,
     "start_time": "2023-06-05T11:08:06.269745",
     "status": "completed"
    },
    "tags": []
   },
   "outputs": [
    {
     "data": {
      "application/javascript": [
       "parent.postMessage({\"jupyterEvent\": \"custom.exercise_interaction\", \"data\": {\"outcomeType\": 4, \"interactionType\": 1, \"questionType\": 1, \"questionId\": \"6_DescriptorCounts\", \"learnToolsVersion\": \"0.3.4\", \"valueTowardsCompletion\": 0.0, \"failureMessage\": \"\", \"exceptionClass\": \"\", \"trace\": \"\"}}, \"*\")"
      ],
      "text/plain": [
       "<IPython.core.display.Javascript object>"
      ]
     },
     "metadata": {},
     "output_type": "display_data"
    },
    {
     "data": {
      "text/markdown": [
       "<span style=\"color:#ccaa33\">Check:</span> When you've updated the starter code, `check()` will tell you whether your code is correct. You need to update the code that creates variable `descriptor_counts`"
      ],
      "text/plain": [
       "Check: When you've updated the starter code, `check()` will tell you whether your code is correct. You need to update the code that creates variable `descriptor_counts`"
      ]
     },
     "metadata": {},
     "output_type": "display_data"
    }
   ],
   "source": [
    "descriptor_counts = ____\n",
    "\n",
    "# Check your answer\n",
    "q6.check()"
   ]
  },
  {
   "cell_type": "code",
   "execution_count": 13,
   "id": "4c041da1",
   "metadata": {
    "execution": {
     "iopub.execute_input": "2023-06-05T11:08:06.306695Z",
     "iopub.status.busy": "2023-06-05T11:08:06.306234Z",
     "iopub.status.idle": "2023-06-05T11:08:06.310134Z",
     "shell.execute_reply": "2023-06-05T11:08:06.309048Z"
    },
    "papermill": {
     "duration": 0.014824,
     "end_time": "2023-06-05T11:08:06.312060",
     "exception": false,
     "start_time": "2023-06-05T11:08:06.297236",
     "status": "completed"
    },
    "tags": []
   },
   "outputs": [],
   "source": [
    "#q6.hint()\n",
    "#q6.solution()"
   ]
  },
  {
   "cell_type": "markdown",
   "id": "0b375925",
   "metadata": {
    "papermill": {
     "duration": 0.006889,
     "end_time": "2023-06-05T11:08:06.326594",
     "exception": false,
     "start_time": "2023-06-05T11:08:06.319705",
     "status": "completed"
    },
    "tags": []
   },
   "source": [
    "## 7.\n",
    "We'd like to host these wine reviews on our website, but a rating system ranging from 80 to 100 points is too hard to understand - we'd like to translate them into simple star ratings. A score of 95 or higher counts as 3 stars, a score of at least 85 but less than 95 is 2 stars. Any other score is 1 star.\n",
    "\n",
    "Also, the Canadian Vintners Association bought a lot of ads on the site, so any wines from Canada should automatically get 3 stars, regardless of points.\n",
    "\n",
    "Create a series `star_ratings` with the number of stars corresponding to each review in the dataset."
   ]
  },
  {
   "cell_type": "code",
   "execution_count": 14,
   "id": "b7eeddf2",
   "metadata": {
    "execution": {
     "iopub.execute_input": "2023-06-05T11:08:06.343036Z",
     "iopub.status.busy": "2023-06-05T11:08:06.342502Z",
     "iopub.status.idle": "2023-06-05T11:08:06.348261Z",
     "shell.execute_reply": "2023-06-05T11:08:06.347663Z"
    },
    "papermill": {
     "duration": 0.016527,
     "end_time": "2023-06-05T11:08:06.350451",
     "exception": false,
     "start_time": "2023-06-05T11:08:06.333924",
     "status": "completed"
    },
    "tags": []
   },
   "outputs": [
    {
     "data": {
      "application/javascript": [
       "parent.postMessage({\"jupyterEvent\": \"custom.exercise_interaction\", \"data\": {\"outcomeType\": 4, \"interactionType\": 1, \"questionType\": 1, \"questionId\": \"7_StarRatings\", \"learnToolsVersion\": \"0.3.4\", \"valueTowardsCompletion\": 0.0, \"failureMessage\": \"\", \"exceptionClass\": \"\", \"trace\": \"\"}}, \"*\")"
      ],
      "text/plain": [
       "<IPython.core.display.Javascript object>"
      ]
     },
     "metadata": {},
     "output_type": "display_data"
    },
    {
     "data": {
      "text/markdown": [
       "<span style=\"color:#ccaa33\">Check:</span> When you've updated the starter code, `check()` will tell you whether your code is correct. You need to update the code that creates variable `star_ratings`"
      ],
      "text/plain": [
       "Check: When you've updated the starter code, `check()` will tell you whether your code is correct. You need to update the code that creates variable `star_ratings`"
      ]
     },
     "metadata": {},
     "output_type": "display_data"
    }
   ],
   "source": [
    "star_ratings = ____\n",
    "\n",
    "# Check your answer\n",
    "q7.check()"
   ]
  },
  {
   "cell_type": "code",
   "execution_count": 15,
   "id": "51a77cca",
   "metadata": {
    "execution": {
     "iopub.execute_input": "2023-06-05T11:08:06.369048Z",
     "iopub.status.busy": "2023-06-05T11:08:06.368527Z",
     "iopub.status.idle": "2023-06-05T11:08:06.371630Z",
     "shell.execute_reply": "2023-06-05T11:08:06.371006Z"
    },
    "papermill": {
     "duration": 0.01479,
     "end_time": "2023-06-05T11:08:06.373718",
     "exception": false,
     "start_time": "2023-06-05T11:08:06.358928",
     "status": "completed"
    },
    "tags": []
   },
   "outputs": [],
   "source": [
    "#q7.hint()\n",
    "#q7.solution()"
   ]
  },
  {
   "cell_type": "markdown",
   "id": "06c5bed0",
   "metadata": {
    "papermill": {
     "duration": 0.00733,
     "end_time": "2023-06-05T11:08:06.388609",
     "exception": false,
     "start_time": "2023-06-05T11:08:06.381279",
     "status": "completed"
    },
    "tags": []
   },
   "source": [
    "# Keep going\n",
    "Continue to **[grouping and sorting](https://www.kaggle.com/residentmario/grouping-and-sorting)**."
   ]
  },
  {
   "cell_type": "markdown",
   "id": "f8802bef",
   "metadata": {
    "papermill": {
     "duration": 0.00718,
     "end_time": "2023-06-05T11:08:06.403397",
     "exception": false,
     "start_time": "2023-06-05T11:08:06.396217",
     "status": "completed"
    },
    "tags": []
   },
   "source": [
    "---\n",
    "\n",
    "\n",
    "\n",
    "\n",
    "*Have questions or comments? Visit the [course discussion forum](https://www.kaggle.com/learn/pandas/discussion) to chat with other learners.*"
   ]
  }
 ],
 "metadata": {
  "kernelspec": {
   "display_name": "Python 3",
   "language": "python",
   "name": "python3"
  },
  "language_info": {
   "codemirror_mode": {
    "name": "ipython",
    "version": 3
   },
   "file_extension": ".py",
   "mimetype": "text/x-python",
   "name": "python",
   "nbconvert_exporter": "python",
   "pygments_lexer": "ipython3",
   "version": "3.10.10"
  },
  "papermill": {
   "default_parameters": {},
   "duration": 17.056804,
   "end_time": "2023-06-05T11:08:07.332536",
   "environment_variables": {},
   "exception": null,
   "input_path": "__notebook__.ipynb",
   "output_path": "__notebook__.ipynb",
   "parameters": {},
   "start_time": "2023-06-05T11:07:50.275732",
   "version": "2.4.0"
  }
 },
 "nbformat": 4,
 "nbformat_minor": 5
}
