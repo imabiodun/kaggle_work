{
 "cells": [
  {
   "cell_type": "markdown",
   "id": "f80ef353",
   "metadata": {
    "papermill": {
     "duration": 0.013948,
     "end_time": "2023-06-21T20:29:12.381962",
     "exception": false,
     "start_time": "2023-06-21T20:29:12.368014",
     "status": "completed"
    },
    "tags": []
   },
   "source": [
    "**This notebook is an exercise in the [Data Visualization](https://www.kaggle.com/learn/data-visualization) course.  You can reference the tutorial at [this link](https://www.kaggle.com/alexisbcook/scatter-plots).**\n",
    "\n",
    "---\n"
   ]
  },
  {
   "cell_type": "markdown",
   "id": "81cb85ef",
   "metadata": {
    "papermill": {
     "duration": 0.011279,
     "end_time": "2023-06-21T20:29:12.405069",
     "exception": false,
     "start_time": "2023-06-21T20:29:12.393790",
     "status": "completed"
    },
    "tags": []
   },
   "source": [
    "In this exercise, you will use your new knowledge to propose a solution to a real-world scenario.  To succeed, you will need to import data into Python, answer questions using the data, and generate **scatter plots** to understand patterns in the data.\n",
    "\n",
    "## Scenario\n",
    "\n",
    "You work for a major candy producer, and your goal is to write a report that your company can use to guide the design of its next product.  Soon after starting your research, you stumble across this [very interesting dataset](https://fivethirtyeight.com/features/the-ultimate-halloween-candy-power-ranking/) containing results from a fun survey to crowdsource favorite candies.\n",
    "\n",
    "## Setup\n",
    "\n",
    "Run the next cell to import and configure the Python libraries that you need to complete the exercise."
   ]
  },
  {
   "cell_type": "code",
   "execution_count": 1,
   "id": "8f3f2eb0",
   "metadata": {
    "execution": {
     "iopub.execute_input": "2023-06-21T20:29:12.430974Z",
     "iopub.status.busy": "2023-06-21T20:29:12.430464Z",
     "iopub.status.idle": "2023-06-21T20:29:14.261526Z",
     "shell.execute_reply": "2023-06-21T20:29:14.260321Z"
    },
    "papermill": {
     "duration": 1.847538,
     "end_time": "2023-06-21T20:29:14.264342",
     "exception": false,
     "start_time": "2023-06-21T20:29:12.416804",
     "status": "completed"
    },
    "tags": []
   },
   "outputs": [
    {
     "name": "stdout",
     "output_type": "stream",
     "text": [
      "Setup Complete\n"
     ]
    }
   ],
   "source": [
    "import pandas as pd\n",
    "pd.plotting.register_matplotlib_converters()\n",
    "import matplotlib.pyplot as plt\n",
    "%matplotlib inline\n",
    "import seaborn as sns\n",
    "print(\"Setup Complete\")"
   ]
  },
  {
   "cell_type": "markdown",
   "id": "7b7a02bb",
   "metadata": {
    "papermill": {
     "duration": 0.011505,
     "end_time": "2023-06-21T20:29:14.287797",
     "exception": false,
     "start_time": "2023-06-21T20:29:14.276292",
     "status": "completed"
    },
    "tags": []
   },
   "source": [
    "The questions below will give you feedback on your work. Run the following cell to set up our feedback system."
   ]
  },
  {
   "cell_type": "code",
   "execution_count": 2,
   "id": "bb3a19cc",
   "metadata": {
    "execution": {
     "iopub.execute_input": "2023-06-21T20:29:14.313455Z",
     "iopub.status.busy": "2023-06-21T20:29:14.313028Z",
     "iopub.status.idle": "2023-06-21T20:29:14.404527Z",
     "shell.execute_reply": "2023-06-21T20:29:14.403183Z"
    },
    "papermill": {
     "duration": 0.10743,
     "end_time": "2023-06-21T20:29:14.407184",
     "exception": false,
     "start_time": "2023-06-21T20:29:14.299754",
     "status": "completed"
    },
    "tags": []
   },
   "outputs": [
    {
     "name": "stdout",
     "output_type": "stream",
     "text": [
      "Setup Complete\n"
     ]
    }
   ],
   "source": [
    "# Set up code checking\n",
    "import os\n",
    "if not os.path.exists(\"../input/candy.csv\"):\n",
    "    os.symlink(\"../input/data-for-datavis/candy.csv\", \"../input/candy.csv\") \n",
    "from learntools.core import binder\n",
    "binder.bind(globals())\n",
    "from learntools.data_viz_to_coder.ex4 import *\n",
    "print(\"Setup Complete\")"
   ]
  },
  {
   "cell_type": "markdown",
   "id": "c8e50bf2",
   "metadata": {
    "papermill": {
     "duration": 0.011731,
     "end_time": "2023-06-21T20:29:14.431016",
     "exception": false,
     "start_time": "2023-06-21T20:29:14.419285",
     "status": "completed"
    },
    "tags": []
   },
   "source": [
    "## Step 1: Load the Data\n",
    "\n",
    "Read the candy data file into `candy_data`.  Use the `\"id\"` column to label the rows."
   ]
  },
  {
   "cell_type": "code",
   "execution_count": 3,
   "id": "801a1187",
   "metadata": {
    "execution": {
     "iopub.execute_input": "2023-06-21T20:29:14.456450Z",
     "iopub.status.busy": "2023-06-21T20:29:14.456062Z",
     "iopub.status.idle": "2023-06-21T20:29:14.474508Z",
     "shell.execute_reply": "2023-06-21T20:29:14.473315Z"
    },
    "papermill": {
     "duration": 0.034139,
     "end_time": "2023-06-21T20:29:14.476974",
     "exception": false,
     "start_time": "2023-06-21T20:29:14.442835",
     "status": "completed"
    },
    "tags": []
   },
   "outputs": [
    {
     "data": {
      "application/javascript": [
       "parent.postMessage({\"jupyterEvent\": \"custom.exercise_interaction\", \"data\": {\"outcomeType\": 1, \"valueTowardsCompletion\": 0.3333333333333333, \"interactionType\": 1, \"questionType\": 1, \"questionId\": \"1_LoadData\", \"learnToolsVersion\": \"0.3.4\", \"failureMessage\": \"\", \"exceptionClass\": \"\", \"trace\": \"\"}}, \"*\")"
      ],
      "text/plain": [
       "<IPython.core.display.Javascript object>"
      ]
     },
     "metadata": {},
     "output_type": "display_data"
    },
    {
     "data": {
      "text/markdown": [
       "<span style=\"color:#33cc33\">Correct</span>"
      ],
      "text/plain": [
       "Correct"
      ]
     },
     "metadata": {},
     "output_type": "display_data"
    }
   ],
   "source": [
    "# Path of the file to read\n",
    "candy_filepath = \"../input/candy.csv\"\n",
    "\n",
    "# Fill in the line below to read the file into a variable candy_data\n",
    "candy_data = pd.read_csv(candy_filepath, index_col='id')\n",
    "\n",
    "# Run the line below with no changes to check that you've loaded the data correctly\n",
    "step_1.check()"
   ]
  },
  {
   "cell_type": "code",
   "execution_count": 4,
   "id": "8f411db0",
   "metadata": {
    "execution": {
     "iopub.execute_input": "2023-06-21T20:29:14.503784Z",
     "iopub.status.busy": "2023-06-21T20:29:14.503421Z",
     "iopub.status.idle": "2023-06-21T20:29:14.508021Z",
     "shell.execute_reply": "2023-06-21T20:29:14.506937Z"
    },
    "papermill": {
     "duration": 0.021024,
     "end_time": "2023-06-21T20:29:14.510314",
     "exception": false,
     "start_time": "2023-06-21T20:29:14.489290",
     "status": "completed"
    },
    "tags": []
   },
   "outputs": [],
   "source": [
    "# Lines below will give you a hint or solution code\n",
    "#step_1.hint()\n",
    "#step_1.solution()"
   ]
  },
  {
   "cell_type": "markdown",
   "id": "05d33fa5",
   "metadata": {
    "papermill": {
     "duration": 0.011995,
     "end_time": "2023-06-21T20:29:14.534801",
     "exception": false,
     "start_time": "2023-06-21T20:29:14.522806",
     "status": "completed"
    },
    "tags": []
   },
   "source": [
    "## Step 2: Review the data\n",
    "\n",
    "Use a Python command to print the first five rows of the data."
   ]
  },
  {
   "cell_type": "code",
   "execution_count": 5,
   "id": "97aeea6e",
   "metadata": {
    "execution": {
     "iopub.execute_input": "2023-06-21T20:29:14.561118Z",
     "iopub.status.busy": "2023-06-21T20:29:14.560687Z",
     "iopub.status.idle": "2023-06-21T20:29:14.593934Z",
     "shell.execute_reply": "2023-06-21T20:29:14.592802Z"
    },
    "papermill": {
     "duration": 0.049493,
     "end_time": "2023-06-21T20:29:14.596682",
     "exception": false,
     "start_time": "2023-06-21T20:29:14.547189",
     "status": "completed"
    },
    "tags": []
   },
   "outputs": [
    {
     "data": {
      "text/html": [
       "<div>\n",
       "<style scoped>\n",
       "    .dataframe tbody tr th:only-of-type {\n",
       "        vertical-align: middle;\n",
       "    }\n",
       "\n",
       "    .dataframe tbody tr th {\n",
       "        vertical-align: top;\n",
       "    }\n",
       "\n",
       "    .dataframe thead th {\n",
       "        text-align: right;\n",
       "    }\n",
       "</style>\n",
       "<table border=\"1\" class=\"dataframe\">\n",
       "  <thead>\n",
       "    <tr style=\"text-align: right;\">\n",
       "      <th></th>\n",
       "      <th>competitorname</th>\n",
       "      <th>chocolate</th>\n",
       "      <th>fruity</th>\n",
       "      <th>caramel</th>\n",
       "      <th>peanutyalmondy</th>\n",
       "      <th>nougat</th>\n",
       "      <th>crispedricewafer</th>\n",
       "      <th>hard</th>\n",
       "      <th>bar</th>\n",
       "      <th>pluribus</th>\n",
       "      <th>sugarpercent</th>\n",
       "      <th>pricepercent</th>\n",
       "      <th>winpercent</th>\n",
       "    </tr>\n",
       "    <tr>\n",
       "      <th>id</th>\n",
       "      <th></th>\n",
       "      <th></th>\n",
       "      <th></th>\n",
       "      <th></th>\n",
       "      <th></th>\n",
       "      <th></th>\n",
       "      <th></th>\n",
       "      <th></th>\n",
       "      <th></th>\n",
       "      <th></th>\n",
       "      <th></th>\n",
       "      <th></th>\n",
       "      <th></th>\n",
       "    </tr>\n",
       "  </thead>\n",
       "  <tbody>\n",
       "    <tr>\n",
       "      <th>0</th>\n",
       "      <td>100 Grand</td>\n",
       "      <td>Yes</td>\n",
       "      <td>No</td>\n",
       "      <td>Yes</td>\n",
       "      <td>No</td>\n",
       "      <td>No</td>\n",
       "      <td>Yes</td>\n",
       "      <td>No</td>\n",
       "      <td>Yes</td>\n",
       "      <td>No</td>\n",
       "      <td>0.732</td>\n",
       "      <td>0.860</td>\n",
       "      <td>66.971725</td>\n",
       "    </tr>\n",
       "    <tr>\n",
       "      <th>1</th>\n",
       "      <td>3 Musketeers</td>\n",
       "      <td>Yes</td>\n",
       "      <td>No</td>\n",
       "      <td>No</td>\n",
       "      <td>No</td>\n",
       "      <td>Yes</td>\n",
       "      <td>No</td>\n",
       "      <td>No</td>\n",
       "      <td>Yes</td>\n",
       "      <td>No</td>\n",
       "      <td>0.604</td>\n",
       "      <td>0.511</td>\n",
       "      <td>67.602936</td>\n",
       "    </tr>\n",
       "    <tr>\n",
       "      <th>2</th>\n",
       "      <td>Air Heads</td>\n",
       "      <td>No</td>\n",
       "      <td>Yes</td>\n",
       "      <td>No</td>\n",
       "      <td>No</td>\n",
       "      <td>No</td>\n",
       "      <td>No</td>\n",
       "      <td>No</td>\n",
       "      <td>No</td>\n",
       "      <td>No</td>\n",
       "      <td>0.906</td>\n",
       "      <td>0.511</td>\n",
       "      <td>52.341465</td>\n",
       "    </tr>\n",
       "    <tr>\n",
       "      <th>3</th>\n",
       "      <td>Almond Joy</td>\n",
       "      <td>Yes</td>\n",
       "      <td>No</td>\n",
       "      <td>No</td>\n",
       "      <td>Yes</td>\n",
       "      <td>No</td>\n",
       "      <td>No</td>\n",
       "      <td>No</td>\n",
       "      <td>Yes</td>\n",
       "      <td>No</td>\n",
       "      <td>0.465</td>\n",
       "      <td>0.767</td>\n",
       "      <td>50.347546</td>\n",
       "    </tr>\n",
       "    <tr>\n",
       "      <th>4</th>\n",
       "      <td>Baby Ruth</td>\n",
       "      <td>Yes</td>\n",
       "      <td>No</td>\n",
       "      <td>Yes</td>\n",
       "      <td>Yes</td>\n",
       "      <td>Yes</td>\n",
       "      <td>No</td>\n",
       "      <td>No</td>\n",
       "      <td>Yes</td>\n",
       "      <td>No</td>\n",
       "      <td>0.604</td>\n",
       "      <td>0.767</td>\n",
       "      <td>56.914547</td>\n",
       "    </tr>\n",
       "    <tr>\n",
       "      <th>5</th>\n",
       "      <td>Boston Baked Beans</td>\n",
       "      <td>No</td>\n",
       "      <td>No</td>\n",
       "      <td>No</td>\n",
       "      <td>Yes</td>\n",
       "      <td>No</td>\n",
       "      <td>No</td>\n",
       "      <td>No</td>\n",
       "      <td>No</td>\n",
       "      <td>Yes</td>\n",
       "      <td>0.313</td>\n",
       "      <td>0.511</td>\n",
       "      <td>23.417824</td>\n",
       "    </tr>\n",
       "    <tr>\n",
       "      <th>6</th>\n",
       "      <td>Candy Corn</td>\n",
       "      <td>No</td>\n",
       "      <td>No</td>\n",
       "      <td>No</td>\n",
       "      <td>No</td>\n",
       "      <td>No</td>\n",
       "      <td>No</td>\n",
       "      <td>No</td>\n",
       "      <td>No</td>\n",
       "      <td>Yes</td>\n",
       "      <td>0.906</td>\n",
       "      <td>0.325</td>\n",
       "      <td>38.010963</td>\n",
       "    </tr>\n",
       "    <tr>\n",
       "      <th>7</th>\n",
       "      <td>Caramel Apple Pops</td>\n",
       "      <td>No</td>\n",
       "      <td>Yes</td>\n",
       "      <td>Yes</td>\n",
       "      <td>No</td>\n",
       "      <td>No</td>\n",
       "      <td>No</td>\n",
       "      <td>No</td>\n",
       "      <td>No</td>\n",
       "      <td>No</td>\n",
       "      <td>0.604</td>\n",
       "      <td>0.325</td>\n",
       "      <td>34.517681</td>\n",
       "    </tr>\n",
       "    <tr>\n",
       "      <th>8</th>\n",
       "      <td>Charleston Chew</td>\n",
       "      <td>Yes</td>\n",
       "      <td>No</td>\n",
       "      <td>No</td>\n",
       "      <td>No</td>\n",
       "      <td>Yes</td>\n",
       "      <td>No</td>\n",
       "      <td>No</td>\n",
       "      <td>Yes</td>\n",
       "      <td>No</td>\n",
       "      <td>0.604</td>\n",
       "      <td>0.511</td>\n",
       "      <td>38.975037</td>\n",
       "    </tr>\n",
       "    <tr>\n",
       "      <th>9</th>\n",
       "      <td>Chewey Lemonhead Fruit Mix</td>\n",
       "      <td>No</td>\n",
       "      <td>Yes</td>\n",
       "      <td>No</td>\n",
       "      <td>No</td>\n",
       "      <td>No</td>\n",
       "      <td>No</td>\n",
       "      <td>No</td>\n",
       "      <td>No</td>\n",
       "      <td>Yes</td>\n",
       "      <td>0.732</td>\n",
       "      <td>0.511</td>\n",
       "      <td>36.017628</td>\n",
       "    </tr>\n",
       "  </tbody>\n",
       "</table>\n",
       "</div>"
      ],
      "text/plain": [
       "                competitorname chocolate fruity caramel peanutyalmondy nougat  \\\n",
       "id                                                                              \n",
       "0                    100 Grand       Yes     No     Yes             No     No   \n",
       "1                 3 Musketeers       Yes     No      No             No    Yes   \n",
       "2                    Air Heads        No    Yes      No             No     No   \n",
       "3                   Almond Joy       Yes     No      No            Yes     No   \n",
       "4                    Baby Ruth       Yes     No     Yes            Yes    Yes   \n",
       "5           Boston Baked Beans        No     No      No            Yes     No   \n",
       "6                   Candy Corn        No     No      No             No     No   \n",
       "7           Caramel Apple Pops        No    Yes     Yes             No     No   \n",
       "8              Charleston Chew       Yes     No      No             No    Yes   \n",
       "9   Chewey Lemonhead Fruit Mix        No    Yes      No             No     No   \n",
       "\n",
       "   crispedricewafer hard  bar pluribus  sugarpercent  pricepercent  winpercent  \n",
       "id                                                                              \n",
       "0               Yes   No  Yes       No         0.732         0.860   66.971725  \n",
       "1                No   No  Yes       No         0.604         0.511   67.602936  \n",
       "2                No   No   No       No         0.906         0.511   52.341465  \n",
       "3                No   No  Yes       No         0.465         0.767   50.347546  \n",
       "4                No   No  Yes       No         0.604         0.767   56.914547  \n",
       "5                No   No   No      Yes         0.313         0.511   23.417824  \n",
       "6                No   No   No      Yes         0.906         0.325   38.010963  \n",
       "7                No   No   No       No         0.604         0.325   34.517681  \n",
       "8                No   No  Yes       No         0.604         0.511   38.975037  \n",
       "9                No   No   No      Yes         0.732         0.511   36.017628  "
      ]
     },
     "execution_count": 5,
     "metadata": {},
     "output_type": "execute_result"
    }
   ],
   "source": [
    "# Print the first five rows of the data\n",
    "# ____ # Your code here\n",
    "candy_data.head(10)"
   ]
  },
  {
   "cell_type": "markdown",
   "id": "9362db95",
   "metadata": {
    "papermill": {
     "duration": 0.012318,
     "end_time": "2023-06-21T20:29:14.621781",
     "exception": false,
     "start_time": "2023-06-21T20:29:14.609463",
     "status": "completed"
    },
    "tags": []
   },
   "source": [
    "The dataset contains 83 rows, where each corresponds to a different candy bar.  There are 13 columns:\n",
    "- `'competitorname'` contains the name of the candy bar. \n",
    "- the next **9** columns (from `'chocolate'` to `'pluribus'`) describe the candy.  For instance, rows with chocolate candies have `\"Yes\"` in the `'chocolate'` column (and candies without chocolate have `\"No\"` in the same column).\n",
    "- `'sugarpercent'` provides some indication of the amount of sugar, where higher values signify higher sugar content.\n",
    "- `'pricepercent'` shows the price per unit, relative to the other candies in the dataset.\n",
    "- `'winpercent'` is calculated from the survey results; higher values indicate that the candy was more popular with survey respondents.\n",
    "\n",
    "Use the first five rows of the data to answer the questions below."
   ]
  },
  {
   "cell_type": "code",
   "execution_count": 6,
   "id": "99deb902",
   "metadata": {
    "execution": {
     "iopub.execute_input": "2023-06-21T20:29:14.649455Z",
     "iopub.status.busy": "2023-06-21T20:29:14.649030Z",
     "iopub.status.idle": "2023-06-21T20:29:14.658709Z",
     "shell.execute_reply": "2023-06-21T20:29:14.657613Z"
    },
    "papermill": {
     "duration": 0.02624,
     "end_time": "2023-06-21T20:29:14.660914",
     "exception": false,
     "start_time": "2023-06-21T20:29:14.634674",
     "status": "completed"
    },
    "tags": []
   },
   "outputs": [
    {
     "data": {
      "application/javascript": [
       "parent.postMessage({\"jupyterEvent\": \"custom.exercise_interaction\", \"data\": {\"outcomeType\": 1, \"valueTowardsCompletion\": 0.3333333333333333, \"interactionType\": 1, \"questionType\": 1, \"questionId\": \"2_ReviewData\", \"learnToolsVersion\": \"0.3.4\", \"failureMessage\": \"\", \"exceptionClass\": \"\", \"trace\": \"\"}}, \"*\")"
      ],
      "text/plain": [
       "<IPython.core.display.Javascript object>"
      ]
     },
     "metadata": {},
     "output_type": "display_data"
    },
    {
     "data": {
      "text/markdown": [
       "<span style=\"color:#33cc33\">Correct</span>"
      ],
      "text/plain": [
       "Correct"
      ]
     },
     "metadata": {},
     "output_type": "display_data"
    }
   ],
   "source": [
    "# Fill in the line below: Which candy was more popular with survey respondents:\n",
    "# '3 Musketeers' or 'Almond Joy'?  (Please enclose your answer in single quotes.)\n",
    "more_popular = '3 Musketeers'\n",
    "\n",
    "# Fill in the line below: Which candy has higher sugar content: 'Air Heads'\n",
    "# or 'Baby Ruth'? (Please enclose your answer in single quotes.)\n",
    "more_sugar = 'Air Heads'\n",
    "\n",
    "# Check your answers\n",
    "step_2.check()"
   ]
  },
  {
   "cell_type": "code",
   "execution_count": 7,
   "id": "4a678df1",
   "metadata": {
    "execution": {
     "iopub.execute_input": "2023-06-21T20:29:14.689254Z",
     "iopub.status.busy": "2023-06-21T20:29:14.688202Z",
     "iopub.status.idle": "2023-06-21T20:29:14.692939Z",
     "shell.execute_reply": "2023-06-21T20:29:14.692066Z"
    },
    "papermill": {
     "duration": 0.021408,
     "end_time": "2023-06-21T20:29:14.695330",
     "exception": false,
     "start_time": "2023-06-21T20:29:14.673922",
     "status": "completed"
    },
    "tags": []
   },
   "outputs": [],
   "source": [
    "# Lines below will give you a hint or solution code\n",
    "#step_2.hint()\n",
    "#step_2.solution()"
   ]
  },
  {
   "cell_type": "markdown",
   "id": "0f8310f7",
   "metadata": {
    "papermill": {
     "duration": 0.013179,
     "end_time": "2023-06-21T20:29:14.721851",
     "exception": false,
     "start_time": "2023-06-21T20:29:14.708672",
     "status": "completed"
    },
    "tags": []
   },
   "source": [
    "## Step 3: The role of sugar\n",
    "\n",
    "Do people tend to prefer candies with higher sugar content?  \n",
    "\n",
    "#### Part A\n",
    "\n",
    "Create a scatter plot that shows the relationship between `'sugarpercent'` (on the horizontal x-axis) and `'winpercent'` (on the vertical y-axis).  _Don't add a regression line just yet -- you'll do that in the next step!_"
   ]
  },
  {
   "cell_type": "code",
   "execution_count": 8,
   "id": "91b539c2",
   "metadata": {
    "execution": {
     "iopub.execute_input": "2023-06-21T20:29:14.750174Z",
     "iopub.status.busy": "2023-06-21T20:29:14.749250Z",
     "iopub.status.idle": "2023-06-21T20:29:15.132984Z",
     "shell.execute_reply": "2023-06-21T20:29:15.131779Z"
    },
    "papermill": {
     "duration": 0.400466,
     "end_time": "2023-06-21T20:29:15.135412",
     "exception": false,
     "start_time": "2023-06-21T20:29:14.734946",
     "status": "completed"
    },
    "tags": []
   },
   "outputs": [
    {
     "data": {
      "application/javascript": [
       "parent.postMessage({\"jupyterEvent\": \"custom.exercise_interaction\", \"data\": {\"outcomeType\": 1, \"valueTowardsCompletion\": 0.3333333333333333, \"interactionType\": 1, \"questionType\": 2, \"questionId\": \"3.1_PlotBlueScatter\", \"learnToolsVersion\": \"0.3.4\", \"failureMessage\": \"\", \"exceptionClass\": \"\", \"trace\": \"\"}}, \"*\")"
      ],
      "text/plain": [
       "<IPython.core.display.Javascript object>"
      ]
     },
     "metadata": {},
     "output_type": "display_data"
    },
    {
     "data": {
      "text/markdown": [
       "<span style=\"color:#33cc33\">Correct</span>"
      ],
      "text/plain": [
       "Correct"
      ]
     },
     "metadata": {},
     "output_type": "display_data"
    },
    {
     "data": {
      "image/png": "[encoded data removed]",
      "text/plain": [
       "<Figure size 640x480 with 1 Axes>"
      ]
     },
     "metadata": {},
     "output_type": "display_data"
    }
   ],
   "source": [
    "# Scatter plot showing the relationship between 'sugarpercent' and 'winpercent'\n",
    "____ # Your code here\n",
    "sns.scatterplot(x='sugarpercent', y='winpercent', data=candy_data)\n",
    "plt.title('Win Percentage against Sugar Percentage')\n",
    "\n",
    "# Check your answer\n",
    "step_3.a.check()"
   ]
  },
  {
   "cell_type": "code",
   "execution_count": 9,
   "id": "04959dc6",
   "metadata": {
    "execution": {
     "iopub.execute_input": "2023-06-21T20:29:15.165286Z",
     "iopub.status.busy": "2023-06-21T20:29:15.164808Z",
     "iopub.status.idle": "2023-06-21T20:29:15.169602Z",
     "shell.execute_reply": "2023-06-21T20:29:15.168451Z"
    },
    "papermill": {
     "duration": 0.023102,
     "end_time": "2023-06-21T20:29:15.172417",
     "exception": false,
     "start_time": "2023-06-21T20:29:15.149315",
     "status": "completed"
    },
    "tags": []
   },
   "outputs": [],
   "source": [
    "# Lines below will give you a hint or solution code\n",
    "#step_3.a.hint()\n",
    "#step_3.a.solution_plot()"
   ]
  },
  {
   "cell_type": "markdown",
   "id": "d28c85ea",
   "metadata": {
    "papermill": {
     "duration": 0.013633,
     "end_time": "2023-06-21T20:29:15.200445",
     "exception": false,
     "start_time": "2023-06-21T20:29:15.186812",
     "status": "completed"
    },
    "tags": []
   },
   "source": [
    "#### Part B\n",
    "\n",
    "Does the scatter plot show a **strong** correlation between the two variables?  If so, are candies with more sugar relatively more or less popular with the survey respondents?"
   ]
  },
  {
   "cell_type": "markdown",
   "id": "bdb84484",
   "metadata": {
    "papermill": {
     "duration": 0.013538,
     "end_time": "2023-06-21T20:29:15.228392",
     "exception": false,
     "start_time": "2023-06-21T20:29:15.214854",
     "status": "completed"
    },
    "tags": []
   },
   "source": [
    "No, it doesn't"
   ]
  },
  {
   "cell_type": "code",
   "execution_count": 10,
   "id": "b1e2ca8a",
   "metadata": {
    "execution": {
     "iopub.execute_input": "2023-06-21T20:29:15.258467Z",
     "iopub.status.busy": "2023-06-21T20:29:15.258014Z",
     "iopub.status.idle": "2023-06-21T20:29:15.262805Z",
     "shell.execute_reply": "2023-06-21T20:29:15.261482Z"
    },
    "papermill": {
     "duration": 0.022696,
     "end_time": "2023-06-21T20:29:15.265031",
     "exception": false,
     "start_time": "2023-06-21T20:29:15.242335",
     "status": "completed"
    },
    "tags": []
   },
   "outputs": [],
   "source": [
    "#step_3.b.hint()\n"
   ]
  },
  {
   "cell_type": "code",
   "execution_count": 11,
   "id": "a7ea6bcf",
   "metadata": {
    "execution": {
     "iopub.execute_input": "2023-06-21T20:29:15.295765Z",
     "iopub.status.busy": "2023-06-21T20:29:15.295260Z",
     "iopub.status.idle": "2023-06-21T20:29:15.304984Z",
     "shell.execute_reply": "2023-06-21T20:29:15.303705Z"
    },
    "papermill": {
     "duration": 0.028284,
     "end_time": "2023-06-21T20:29:15.307479",
     "exception": false,
     "start_time": "2023-06-21T20:29:15.279195",
     "status": "completed"
    },
    "tags": []
   },
   "outputs": [
    {
     "data": {
      "application/javascript": [
       "parent.postMessage({\"jupyterEvent\": \"custom.exercise_interaction\", \"data\": {\"interactionType\": 3, \"questionType\": 4, \"questionId\": \"3.2_ThinkBlueScatter\", \"learnToolsVersion\": \"0.3.4\", \"valueTowardsCompletion\": 0.0, \"failureMessage\": \"\", \"exceptionClass\": \"\", \"trace\": \"\", \"outcomeType\": 4}}, \"*\")"
      ],
      "text/plain": [
       "<IPython.core.display.Javascript object>"
      ]
     },
     "metadata": {},
     "output_type": "display_data"
    },
    {
     "data": {
      "text/markdown": [
       "<span style=\"color:#33cc99\">Solution:</span> The scatter plot does not show a strong correlation between the two variables. Since there is no clear relationship between the two variables, this tells us that sugar content does not play a strong role in candy popularity."
      ],
      "text/plain": [
       "Solution: The scatter plot does not show a strong correlation between the two variables. Since there is no clear relationship between the two variables, this tells us that sugar content does not play a strong role in candy popularity."
      ]
     },
     "metadata": {},
     "output_type": "display_data"
    }
   ],
   "source": [
    "# Check your answer (Run this code cell to receive credit!)\n",
    "step_3.b.solution()"
   ]
  },
  {
   "cell_type": "markdown",
   "id": "ca7591c4",
   "metadata": {
    "papermill": {
     "duration": 0.013939,
     "end_time": "2023-06-21T20:29:15.335873",
     "exception": false,
     "start_time": "2023-06-21T20:29:15.321934",
     "status": "completed"
    },
    "tags": []
   },
   "source": [
    "## Step 4: Take a closer look\n",
    "\n",
    "#### Part A\n",
    "\n",
    "Create the same scatter plot you created in **Step 3**, but now with a regression line!"
   ]
  },
  {
   "cell_type": "code",
   "execution_count": 12,
   "id": "673e160a",
   "metadata": {
    "execution": {
     "iopub.execute_input": "2023-06-21T20:29:15.366086Z",
     "iopub.status.busy": "2023-06-21T20:29:15.365689Z",
     "iopub.status.idle": "2023-06-21T20:29:15.862468Z",
     "shell.execute_reply": "2023-06-21T20:29:15.861218Z"
    },
    "papermill": {
     "duration": 0.514965,
     "end_time": "2023-06-21T20:29:15.865157",
     "exception": false,
     "start_time": "2023-06-21T20:29:15.350192",
     "status": "completed"
    },
    "tags": []
   },
   "outputs": [
    {
     "data": {
      "application/javascript": [
       "parent.postMessage({\"jupyterEvent\": \"custom.exercise_interaction\", \"data\": {\"outcomeType\": 1, \"valueTowardsCompletion\": 0.3333333333333333, \"interactionType\": 1, \"questionType\": 2, \"questionId\": \"4.1_PlotBlueReg\", \"learnToolsVersion\": \"0.3.4\", \"failureMessage\": \"\", \"exceptionClass\": \"\", \"trace\": \"\"}}, \"*\")"
      ],
      "text/plain": [
       "<IPython.core.display.Javascript object>"
      ]
     },
     "metadata": {},
     "output_type": "display_data"
    },
    {
     "data": {
      "text/markdown": [
       "<span style=\"color:#33cc33\">Correct</span>"
      ],
      "text/plain": [
       "Correct"
      ]
     },
     "metadata": {},
     "output_type": "display_data"
    },
    {
     "data": {
      "image/png": "[encoded data removed]",
      "text/plain": [
       "<Figure size 500x500 with 1 Axes>"
      ]
     },
     "metadata": {},
     "output_type": "display_data"
    }
   ],
   "source": [
    "# Scatter plot w/ regression line showing the relationship between 'sugarpercent' and 'winpercent'\n",
    "sns.lmplot(x='sugarpercent', y='winpercent', data=candy_data)\n",
    "\n",
    "# Your code here\n",
    "\n",
    "# Check your answer\n",
    "step_4.a.check()"
   ]
  },
  {
   "cell_type": "code",
   "execution_count": 13,
   "id": "12d38627",
   "metadata": {
    "execution": {
     "iopub.execute_input": "2023-06-21T20:29:15.898217Z",
     "iopub.status.busy": "2023-06-21T20:29:15.897832Z",
     "iopub.status.idle": "2023-06-21T20:29:15.903051Z",
     "shell.execute_reply": "2023-06-21T20:29:15.901880Z"
    },
    "papermill": {
     "duration": 0.025113,
     "end_time": "2023-06-21T20:29:15.905588",
     "exception": false,
     "start_time": "2023-06-21T20:29:15.880475",
     "status": "completed"
    },
    "tags": []
   },
   "outputs": [],
   "source": [
    "# Lines below will give you a hint or solution code\n",
    "#step_4.a.hint()\n",
    "#step_4.a.solution_plot()"
   ]
  },
  {
   "cell_type": "markdown",
   "id": "d73f1e06",
   "metadata": {
    "papermill": {
     "duration": 0.015328,
     "end_time": "2023-06-21T20:29:15.936469",
     "exception": false,
     "start_time": "2023-06-21T20:29:15.921141",
     "status": "completed"
    },
    "tags": []
   },
   "source": [
    "#### Part B\n",
    "\n",
    "According to the plot above, is there a **slight** correlation between `'winpercent'` and `'sugarpercent'`?  What does this tell you about the candy that people tend to prefer?"
   ]
  },
  {
   "cell_type": "code",
   "execution_count": 14,
   "id": "ad6894c0",
   "metadata": {
    "execution": {
     "iopub.execute_input": "2023-06-21T20:29:15.968992Z",
     "iopub.status.busy": "2023-06-21T20:29:15.968592Z",
     "iopub.status.idle": "2023-06-21T20:29:15.973724Z",
     "shell.execute_reply": "2023-06-21T20:29:15.972563Z"
    },
    "papermill": {
     "duration": 0.024293,
     "end_time": "2023-06-21T20:29:15.976182",
     "exception": false,
     "start_time": "2023-06-21T20:29:15.951889",
     "status": "completed"
    },
    "tags": []
   },
   "outputs": [],
   "source": [
    "#step_4.b.hint()"
   ]
  },
  {
   "cell_type": "code",
   "execution_count": 15,
   "id": "00aa3e58",
   "metadata": {
    "execution": {
     "iopub.execute_input": "2023-06-21T20:29:16.010315Z",
     "iopub.status.busy": "2023-06-21T20:29:16.009871Z",
     "iopub.status.idle": "2023-06-21T20:29:16.018673Z",
     "shell.execute_reply": "2023-06-21T20:29:16.017612Z"
    },
    "papermill": {
     "duration": 0.029151,
     "end_time": "2023-06-21T20:29:16.020905",
     "exception": false,
     "start_time": "2023-06-21T20:29:15.991754",
     "status": "completed"
    },
    "tags": []
   },
   "outputs": [
    {
     "data": {
      "application/javascript": [
       "parent.postMessage({\"jupyterEvent\": \"custom.exercise_interaction\", \"data\": {\"interactionType\": 3, \"questionType\": 4, \"questionId\": \"4.2_ThinkBlueReg\", \"learnToolsVersion\": \"0.3.4\", \"valueTowardsCompletion\": 0.0, \"failureMessage\": \"\", \"exceptionClass\": \"\", \"trace\": \"\", \"outcomeType\": 4}}, \"*\")"
      ],
      "text/plain": [
       "<IPython.core.display.Javascript object>"
      ]
     },
     "metadata": {},
     "output_type": "display_data"
    },
    {
     "data": {
      "text/markdown": [
       "<span style=\"color:#33cc99\">Solution:</span> Since the regression line has a slightly positive slope, this tells us that there is a slightly positive correlation between `'winpercent'` and `'sugarpercent'`. Thus, people have a slight preference for candies containing relatively more sugar."
      ],
      "text/plain": [
       "Solution: Since the regression line has a slightly positive slope, this tells us that there is a slightly positive correlation between `'winpercent'` and `'sugarpercent'`. Thus, people have a slight preference for candies containing relatively more sugar."
      ]
     },
     "metadata": {},
     "output_type": "display_data"
    }
   ],
   "source": [
    "# Check your answer (Run this code cell to receive credit!)\n",
    "step_4.b.solution()"
   ]
  },
  {
   "cell_type": "markdown",
   "id": "515784d2",
   "metadata": {
    "papermill": {
     "duration": 0.016246,
     "end_time": "2023-06-21T20:29:16.053326",
     "exception": false,
     "start_time": "2023-06-21T20:29:16.037080",
     "status": "completed"
    },
    "tags": []
   },
   "source": [
    "## Step 5: Chocolate!\n",
    "\n",
    "In the code cell below, create a scatter plot to show the relationship between `'pricepercent'` (on the horizontal x-axis) and `'winpercent'` (on the vertical y-axis). Use the `'chocolate'` column to color-code the points.  _Don't add any regression lines just yet -- you'll do that in the next step!_"
   ]
  },
  {
   "cell_type": "code",
   "execution_count": 16,
   "id": "41079fe0",
   "metadata": {
    "execution": {
     "iopub.execute_input": "2023-06-21T20:29:16.087521Z",
     "iopub.status.busy": "2023-06-21T20:29:16.086945Z",
     "iopub.status.idle": "2023-06-21T20:29:16.486283Z",
     "shell.execute_reply": "2023-06-21T20:29:16.485500Z"
    },
    "papermill": {
     "duration": 0.419389,
     "end_time": "2023-06-21T20:29:16.488496",
     "exception": false,
     "start_time": "2023-06-21T20:29:16.069107",
     "status": "completed"
    },
    "tags": []
   },
   "outputs": [
    {
     "data": {
      "application/javascript": [
       "parent.postMessage({\"jupyterEvent\": \"custom.exercise_interaction\", \"data\": {\"outcomeType\": 1, \"valueTowardsCompletion\": 0.3333333333333333, \"interactionType\": 1, \"questionType\": 2, \"questionId\": \"5_ColorScatter\", \"learnToolsVersion\": \"0.3.4\", \"failureMessage\": \"\", \"exceptionClass\": \"\", \"trace\": \"\"}}, \"*\")"
      ],
      "text/plain": [
       "<IPython.core.display.Javascript object>"
      ]
     },
     "metadata": {},
     "output_type": "display_data"
    },
    {
     "data": {
      "text/markdown": [
       "<span style=\"color:#33cc33\">Correct</span>"
      ],
      "text/plain": [
       "Correct"
      ]
     },
     "metadata": {},
     "output_type": "display_data"
    },
    {
     "data": {
      "image/png": "[encoded data removed]",
      "text/plain": [
       "<Figure size 640x480 with 1 Axes>"
      ]
     },
     "metadata": {},
     "output_type": "display_data"
    }
   ],
   "source": [
    "# Scatter plot showing the relationship between 'pricepercent', 'winpercent', and 'chocolate'\n",
    "____ # Your code here\n",
    "sns.scatterplot(x='pricepercent', y='winpercent', data=candy_data, hue='chocolate')\n",
    "# Check your answer\n",
    "step_5.check()"
   ]
  },
  {
   "cell_type": "code",
   "execution_count": 17,
   "id": "89ffb711",
   "metadata": {
    "execution": {
     "iopub.execute_input": "2023-06-21T20:29:16.526171Z",
     "iopub.status.busy": "2023-06-21T20:29:16.525044Z",
     "iopub.status.idle": "2023-06-21T20:29:16.530714Z",
     "shell.execute_reply": "2023-06-21T20:29:16.529070Z"
    },
    "papermill": {
     "duration": 0.027048,
     "end_time": "2023-06-21T20:29:16.533376",
     "exception": false,
     "start_time": "2023-06-21T20:29:16.506328",
     "status": "completed"
    },
    "tags": []
   },
   "outputs": [],
   "source": [
    "# Lines below will give you a hint or solution code\n",
    "#step_5.hint()\n",
    "#step_5.solution_plot()"
   ]
  },
  {
   "cell_type": "markdown",
   "id": "1f8373e7",
   "metadata": {
    "papermill": {
     "duration": 0.016218,
     "end_time": "2023-06-21T20:29:16.566238",
     "exception": false,
     "start_time": "2023-06-21T20:29:16.550020",
     "status": "completed"
    },
    "tags": []
   },
   "source": [
    "Can you see any interesting patterns in the scatter plot?  We'll investigate this plot further  by adding regression lines in the next step!\n",
    "\n",
    "## Step 6: Investigate chocolate\n",
    "\n",
    "#### Part A\n",
    "\n",
    "Create the same scatter plot you created in **Step 5**, but now with two regression lines, corresponding to (1) chocolate candies and (2) candies without chocolate."
   ]
  },
  {
   "cell_type": "code",
   "execution_count": 18,
   "id": "e441aa31",
   "metadata": {
    "execution": {
     "iopub.execute_input": "2023-06-21T20:29:16.602114Z",
     "iopub.status.busy": "2023-06-21T20:29:16.601602Z",
     "iopub.status.idle": "2023-06-21T20:29:17.488583Z",
     "shell.execute_reply": "2023-06-21T20:29:17.487280Z"
    },
    "papermill": {
     "duration": 0.908348,
     "end_time": "2023-06-21T20:29:17.491201",
     "exception": false,
     "start_time": "2023-06-21T20:29:16.582853",
     "status": "completed"
    },
    "tags": []
   },
   "outputs": [
    {
     "data": {
      "application/javascript": [
       "parent.postMessage({\"jupyterEvent\": \"custom.exercise_interaction\", \"data\": {\"outcomeType\": 1, \"valueTowardsCompletion\": 0.3333333333333333, \"interactionType\": 1, \"questionType\": 2, \"questionId\": \"6.1_PlotColorReg\", \"learnToolsVersion\": \"0.3.4\", \"failureMessage\": \"\", \"exceptionClass\": \"\", \"trace\": \"\"}}, \"*\")"
      ],
      "text/plain": [
       "<IPython.core.display.Javascript object>"
      ]
     },
     "metadata": {},
     "output_type": "display_data"
    },
    {
     "data": {
      "text/markdown": [
       "<span style=\"color:#33cc33\">Correct</span>"
      ],
      "text/plain": [
       "Correct"
      ]
     },
     "metadata": {},
     "output_type": "display_data"
    },
    {
     "data": {
      "image/png": "[encoded data removed]",
      "text/plain": [
       "<Figure size 578.611x500 with 1 Axes>"
      ]
     },
     "metadata": {},
     "output_type": "display_data"
    }
   ],
   "source": [
    "# Color-coded scatter plot w/ regression lines\n",
    "____ # Your code here\n",
    "sns.lmplot(x='pricepercent', y='winpercent', data=candy_data, hue='chocolate')\n",
    "# Check your answer\n",
    "step_6.a.check()"
   ]
  },
  {
   "cell_type": "code",
   "execution_count": 19,
   "id": "7fc45516",
   "metadata": {
    "execution": {
     "iopub.execute_input": "2023-06-21T20:29:17.528162Z",
     "iopub.status.busy": "2023-06-21T20:29:17.527748Z",
     "iopub.status.idle": "2023-06-21T20:29:17.532790Z",
     "shell.execute_reply": "2023-06-21T20:29:17.531377Z"
    },
    "papermill": {
     "duration": 0.026294,
     "end_time": "2023-06-21T20:29:17.535200",
     "exception": false,
     "start_time": "2023-06-21T20:29:17.508906",
     "status": "completed"
    },
    "tags": []
   },
   "outputs": [],
   "source": [
    "# Lines below will give you a hint or solution code\n",
    "#step_6.a.hint()\n",
    "#step_6.a.solution_plot()"
   ]
  },
  {
   "cell_type": "markdown",
   "id": "c0726708",
   "metadata": {
    "papermill": {
     "duration": 0.017556,
     "end_time": "2023-06-21T20:29:17.570530",
     "exception": false,
     "start_time": "2023-06-21T20:29:17.552974",
     "status": "completed"
    },
    "tags": []
   },
   "source": [
    "#### Part B\n",
    "\n",
    "Using the regression lines, what conclusions can you draw about the effects of chocolate and price on candy popularity?"
   ]
  },
  {
   "cell_type": "code",
   "execution_count": null,
   "id": "79fb6372",
   "metadata": {
    "papermill": {
     "duration": 0.017235,
     "end_time": "2023-06-21T20:29:17.605438",
     "exception": false,
     "start_time": "2023-06-21T20:29:17.588203",
     "status": "completed"
    },
    "tags": []
   },
   "outputs": [],
   "source": []
  },
  {
   "cell_type": "code",
   "execution_count": 20,
   "id": "12bb96ac",
   "metadata": {
    "execution": {
     "iopub.execute_input": "2023-06-21T20:29:17.643494Z",
     "iopub.status.busy": "2023-06-21T20:29:17.643064Z",
     "iopub.status.idle": "2023-06-21T20:29:17.652021Z",
     "shell.execute_reply": "2023-06-21T20:29:17.651143Z"
    },
    "papermill": {
     "duration": 0.03066,
     "end_time": "2023-06-21T20:29:17.654189",
     "exception": false,
     "start_time": "2023-06-21T20:29:17.623529",
     "status": "completed"
    },
    "tags": []
   },
   "outputs": [
    {
     "data": {
      "application/javascript": [
       "parent.postMessage({\"jupyterEvent\": \"custom.exercise_interaction\", \"data\": {\"interactionType\": 2, \"questionType\": 4, \"questionId\": \"6.2_ThinkColorReg\", \"learnToolsVersion\": \"0.3.4\", \"valueTowardsCompletion\": 0.0, \"failureMessage\": \"\", \"exceptionClass\": \"\", \"trace\": \"\", \"outcomeType\": 4}}, \"*\")"
      ],
      "text/plain": [
       "<IPython.core.display.Javascript object>"
      ]
     },
     "metadata": {},
     "output_type": "display_data"
    },
    {
     "data": {
      "text/markdown": [
       "<span style=\"color:#3366cc\">Hint:</span> Look at each regression line - do you notice a positive or negative slope?"
      ],
      "text/plain": [
       "Hint: Look at each regression line - do you notice a positive or negative slope?"
      ]
     },
     "metadata": {},
     "output_type": "display_data"
    }
   ],
   "source": [
    "step_6.b.hint()"
   ]
  },
  {
   "cell_type": "code",
   "execution_count": 21,
   "id": "6e3d8b35",
   "metadata": {
    "execution": {
     "iopub.execute_input": "2023-06-21T20:29:17.692147Z",
     "iopub.status.busy": "2023-06-21T20:29:17.691549Z",
     "iopub.status.idle": "2023-06-21T20:29:17.698980Z",
     "shell.execute_reply": "2023-06-21T20:29:17.697882Z"
    },
    "papermill": {
     "duration": 0.029242,
     "end_time": "2023-06-21T20:29:17.701355",
     "exception": false,
     "start_time": "2023-06-21T20:29:17.672113",
     "status": "completed"
    },
    "tags": []
   },
   "outputs": [
    {
     "data": {
      "application/javascript": [
       "parent.postMessage({\"jupyterEvent\": \"custom.exercise_interaction\", \"data\": {\"interactionType\": 3, \"questionType\": 4, \"questionId\": \"6.2_ThinkColorReg\", \"learnToolsVersion\": \"0.3.4\", \"valueTowardsCompletion\": 0.0, \"failureMessage\": \"\", \"exceptionClass\": \"\", \"trace\": \"\", \"outcomeType\": 4}}, \"*\")"
      ],
      "text/plain": [
       "<IPython.core.display.Javascript object>"
      ]
     },
     "metadata": {},
     "output_type": "display_data"
    },
    {
     "data": {
      "text/markdown": [
       "<span style=\"color:#33cc99\">Solution:</span> We'll begin with the regression line for chocolate candies. Since this line has a slightly positive slope, we can say that more expensive chocolate candies tend to be more popular (than relatively cheaper chocolate candies).  Likewise, since the regression line for candies without chocolate has a negative slope, we can say that if candies don't contain chocolate, they tend to be more popular when they are cheaper.  One important note, however, is that the dataset is quite small -- so we shouldn't invest too much trust in these patterns!  To inspire more confidence in the results, we should add more candies to the dataset."
      ],
      "text/plain": [
       "Solution: We'll begin with the regression line for chocolate candies. Since this line has a slightly positive slope, we can say that more expensive chocolate candies tend to be more popular (than relatively cheaper chocolate candies).  Likewise, since the regression line for candies without chocolate has a negative slope, we can say that if candies don't contain chocolate, they tend to be more popular when they are cheaper.  One important note, however, is that the dataset is quite small -- so we shouldn't invest too much trust in these patterns!  To inspire more confidence in the results, we should add more candies to the dataset."
      ]
     },
     "metadata": {},
     "output_type": "display_data"
    }
   ],
   "source": [
    "# Check your answer (Run this code cell to receive credit!)\n",
    "step_6.b.solution()"
   ]
  },
  {
   "cell_type": "markdown",
   "id": "32280227",
   "metadata": {
    "papermill": {
     "duration": 0.018782,
     "end_time": "2023-06-21T20:29:17.738713",
     "exception": false,
     "start_time": "2023-06-21T20:29:17.719931",
     "status": "completed"
    },
    "tags": []
   },
   "source": [
    "## Step 7: Everybody loves chocolate.\n",
    "\n",
    "#### Part A\n",
    "\n",
    "Create a categorical scatter plot to highlight the relationship between `'chocolate'` and `'winpercent'`.  Put `'chocolate'` on the (horizontal) x-axis, and `'winpercent'` on the (vertical) y-axis."
   ]
  },
  {
   "cell_type": "code",
   "execution_count": 22,
   "id": "2b90cb04",
   "metadata": {
    "execution": {
     "iopub.execute_input": "2023-06-21T20:29:17.777982Z",
     "iopub.status.busy": "2023-06-21T20:29:17.777318Z",
     "iopub.status.idle": "2023-06-21T20:29:18.322162Z",
     "shell.execute_reply": "2023-06-21T20:29:18.320590Z"
    },
    "papermill": {
     "duration": 0.56885,
     "end_time": "2023-06-21T20:29:18.326380",
     "exception": false,
     "start_time": "2023-06-21T20:29:17.757530",
     "status": "completed"
    },
    "tags": []
   },
   "outputs": [
    {
     "data": {
      "application/javascript": [
       "parent.postMessage({\"jupyterEvent\": \"custom.exercise_interaction\", \"data\": {\"outcomeType\": 1, \"valueTowardsCompletion\": 0.3333333333333333, \"interactionType\": 1, \"questionType\": 2, \"questionId\": \"7.1_PlotSwarm\", \"learnToolsVersion\": \"0.3.4\", \"failureMessage\": \"\", \"exceptionClass\": \"\", \"trace\": \"\"}}, \"*\")"
      ],
      "text/plain": [
       "<IPython.core.display.Javascript object>"
      ]
     },
     "metadata": {},
     "output_type": "display_data"
    },
    {
     "data": {
      "text/markdown": [
       "<span style=\"color:#33cc33\">Correct</span>"
      ],
      "text/plain": [
       "Correct"
      ]
     },
     "metadata": {},
     "output_type": "display_data"
    },
    {
     "data": {
      "image/png": "[encoded data removed]",
      "text/plain": [
       "<Figure size 640x480 with 1 Axes>"
      ]
     },
     "metadata": {},
     "output_type": "display_data"
    }
   ],
   "source": [
    "# Scatter plot showing the relationship between 'chocolate' and 'winpercent'\n",
    "sns.swarmplot(x='chocolate', y='winpercent', data=candy_data)\n",
    "# Your code here\n",
    "\n",
    "# Check your answer\n",
    "step_7.a.check()"
   ]
  },
  {
   "cell_type": "code",
   "execution_count": 23,
   "id": "4468f232",
   "metadata": {
    "execution": {
     "iopub.execute_input": "2023-06-21T20:29:18.379552Z",
     "iopub.status.busy": "2023-06-21T20:29:18.378789Z",
     "iopub.status.idle": "2023-06-21T20:29:18.383005Z",
     "shell.execute_reply": "2023-06-21T20:29:18.382071Z"
    },
    "papermill": {
     "duration": 0.027167,
     "end_time": "2023-06-21T20:29:18.385316",
     "exception": false,
     "start_time": "2023-06-21T20:29:18.358149",
     "status": "completed"
    },
    "tags": []
   },
   "outputs": [],
   "source": [
    "# Lines below will give you a hint or solution code\n",
    "#step_7.a.hint()\n",
    "#step_7.a.solution_plot()"
   ]
  },
  {
   "cell_type": "markdown",
   "id": "333c2bb1",
   "metadata": {
    "papermill": {
     "duration": 0.018928,
     "end_time": "2023-06-21T20:29:18.424486",
     "exception": false,
     "start_time": "2023-06-21T20:29:18.405558",
     "status": "completed"
    },
    "tags": []
   },
   "source": [
    "#### Part B\n",
    "\n",
    "You decide to dedicate a section of your report to the fact that chocolate candies tend to be more popular than candies without chocolate.  Which plot is more appropriate to tell this story: the plot from **Step 6**, or the plot from **Step 7**?"
   ]
  },
  {
   "cell_type": "markdown",
   "id": "83277043",
   "metadata": {
    "papermill": {
     "duration": 0.01883,
     "end_time": "2023-06-21T20:29:18.462577",
     "exception": false,
     "start_time": "2023-06-21T20:29:18.443747",
     "status": "completed"
    },
    "tags": []
   },
   "source": [
    "Step 6"
   ]
  },
  {
   "cell_type": "code",
   "execution_count": 24,
   "id": "d7913376",
   "metadata": {
    "execution": {
     "iopub.execute_input": "2023-06-21T20:29:18.502241Z",
     "iopub.status.busy": "2023-06-21T20:29:18.501689Z",
     "iopub.status.idle": "2023-06-21T20:29:18.506849Z",
     "shell.execute_reply": "2023-06-21T20:29:18.505530Z"
    },
    "papermill": {
     "duration": 0.027784,
     "end_time": "2023-06-21T20:29:18.509250",
     "exception": false,
     "start_time": "2023-06-21T20:29:18.481466",
     "status": "completed"
    },
    "tags": []
   },
   "outputs": [],
   "source": [
    "#step_7.b.hint()"
   ]
  },
  {
   "cell_type": "code",
   "execution_count": 25,
   "id": "724c7b8e",
   "metadata": {
    "execution": {
     "iopub.execute_input": "2023-06-21T20:29:18.549493Z",
     "iopub.status.busy": "2023-06-21T20:29:18.549026Z",
     "iopub.status.idle": "2023-06-21T20:29:18.558919Z",
     "shell.execute_reply": "2023-06-21T20:29:18.557721Z"
    },
    "papermill": {
     "duration": 0.033069,
     "end_time": "2023-06-21T20:29:18.561420",
     "exception": false,
     "start_time": "2023-06-21T20:29:18.528351",
     "status": "completed"
    },
    "tags": []
   },
   "outputs": [
    {
     "data": {
      "application/javascript": [
       "parent.postMessage({\"jupyterEvent\": \"custom.exercise_interaction\", \"data\": {\"interactionType\": 3, \"questionType\": 4, \"questionId\": \"7.2_ThinkSwarm\", \"learnToolsVersion\": \"0.3.4\", \"valueTowardsCompletion\": 0.0, \"failureMessage\": \"\", \"exceptionClass\": \"\", \"trace\": \"\", \"outcomeType\": 4}}, \"*\")"
      ],
      "text/plain": [
       "<IPython.core.display.Javascript object>"
      ]
     },
     "metadata": {},
     "output_type": "display_data"
    },
    {
     "data": {
      "text/markdown": [
       "<span style=\"color:#33cc99\">Solution:</span> In this case, the categorical scatter plot from **Step 7** is the more appropriate plot. While both plots tell the desired story, the plot from **Step 6** conveys far more information that could distract from the main point."
      ],
      "text/plain": [
       "Solution: In this case, the categorical scatter plot from **Step 7** is the more appropriate plot. While both plots tell the desired story, the plot from **Step 6** conveys far more information that could distract from the main point."
      ]
     },
     "metadata": {},
     "output_type": "display_data"
    }
   ],
   "source": [
    "# Check your answer (Run this code cell to receive credit!)\n",
    "step_7.b.solution()"
   ]
  },
  {
   "cell_type": "markdown",
   "id": "7e844bbe",
   "metadata": {
    "papermill": {
     "duration": 0.018842,
     "end_time": "2023-06-21T20:29:18.599702",
     "exception": false,
     "start_time": "2023-06-21T20:29:18.580860",
     "status": "completed"
    },
    "tags": []
   },
   "source": [
    "## Keep going\n",
    "\n",
    "Explore **[histograms and density plots](https://www.kaggle.com/alexisbcook/distributions)**."
   ]
  },
  {
   "cell_type": "markdown",
   "id": "ff6d5770",
   "metadata": {
    "papermill": {
     "duration": 0.018821,
     "end_time": "2023-06-21T20:29:18.637812",
     "exception": false,
     "start_time": "2023-06-21T20:29:18.618991",
     "status": "completed"
    },
    "tags": []
   },
   "source": [
    "---\n",
    "\n",
    "\n",
    "\n",
    "\n",
    "*Have questions or comments? Visit the [course discussion forum](https://www.kaggle.com/learn/data-visualization/discussion) to chat with other learners.*"
   ]
  }
 ],
 "metadata": {
  "kernelspec": {
   "display_name": "Python 3",
   "language": "python",
   "name": "python3"
  },
  "language_info": {
   "codemirror_mode": {
    "name": "ipython",
    "version": 3
   },
   "file_extension": ".py",
   "mimetype": "text/x-python",
   "name": "python",
   "nbconvert_exporter": "python",
   "pygments_lexer": "ipython3",
   "version": "3.10.10"
  },
  "papermill": {
   "default_parameters": {},
   "duration": 20.278479,
   "end_time": "2023-06-21T20:29:19.680073",
   "environment_variables": {},
   "exception": null,
   "input_path": "__notebook__.ipynb",
   "output_path": "__notebook__.ipynb",
   "parameters": {},
   "start_time": "2023-06-21T20:28:59.401594",
   "version": "2.4.0"
  }
 },
 "nbformat": 4,
 "nbformat_minor": 5
}
