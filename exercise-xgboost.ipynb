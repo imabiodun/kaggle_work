{
 "cells": [
  {
   "cell_type": "markdown",
   "id": "799b693e",
   "metadata": {
    "papermill": {
     "duration": 0.008709,
     "end_time": "2023-06-20T20:08:36.579819",
     "exception": false,
     "start_time": "2023-06-20T20:08:36.571110",
     "status": "completed"
    },
    "tags": []
   },
   "source": [
    "**This notebook is an exercise in the [Intermediate Machine Learning](https://www.kaggle.com/learn/intermediate-machine-learning) course.  You can reference the tutorial at [this link](https://www.kaggle.com/alexisbcook/xgboost).**\n",
    "\n",
    "---\n"
   ]
  },
  {
   "cell_type": "markdown",
   "id": "355fb3f4",
   "metadata": {
    "papermill": {
     "duration": 0.00767,
     "end_time": "2023-06-20T20:08:36.595423",
     "exception": false,
     "start_time": "2023-06-20T20:08:36.587753",
     "status": "completed"
    },
    "tags": []
   },
   "source": [
    "In this exercise, you will use your new knowledge to train a model with **gradient boosting**.\n",
    "\n",
    "# Setup\n",
    "\n",
    "The questions below will give you feedback on your work. Run the following cell to set up the feedback system."
   ]
  },
  {
   "cell_type": "code",
   "execution_count": 1,
   "id": "1997df0f",
   "metadata": {
    "execution": {
     "iopub.execute_input": "2023-06-20T20:08:36.613444Z",
     "iopub.status.busy": "2023-06-20T20:08:36.613065Z",
     "iopub.status.idle": "2023-06-20T20:08:39.215769Z",
     "shell.execute_reply": "2023-06-20T20:08:39.214862Z"
    },
    "papermill": {
     "duration": 2.614926,
     "end_time": "2023-06-20T20:08:39.218435",
     "exception": false,
     "start_time": "2023-06-20T20:08:36.603509",
     "status": "completed"
    },
    "tags": []
   },
   "outputs": [
    {
     "name": "stdout",
     "output_type": "stream",
     "text": [
      "Setup Complete\n"
     ]
    }
   ],
   "source": [
    "# Set up code checking\n",
    "import os\n",
    "if not os.path.exists(\"../input/train.csv\"):\n",
    "    os.symlink(\"../input/home-data-for-ml-course/train.csv\", \"../input/train.csv\")  \n",
    "    os.symlink(\"../input/home-data-for-ml-course/test.csv\", \"../input/test.csv\") \n",
    "from learntools.core import binder\n",
    "binder.bind(globals())\n",
    "from learntools.ml_intermediate.ex6 import *\n",
    "print(\"Setup Complete\")"
   ]
  },
  {
   "cell_type": "markdown",
   "id": "8dad15bc",
   "metadata": {
    "papermill": {
     "duration": 0.008133,
     "end_time": "2023-06-20T20:08:39.235817",
     "exception": false,
     "start_time": "2023-06-20T20:08:39.227684",
     "status": "completed"
    },
    "tags": []
   },
   "source": [
    "You will work with the [Housing Prices Competition for Kaggle Learn Users](https://www.kaggle.com/c/home-data-for-ml-course) dataset from the previous exercise. \n",
    "\n",
    "![Ames Housing dataset image](https://storage.googleapis.com/kaggle-media/learn/images/lTJVG4e.png)\n",
    "\n",
    "Run the next code cell without changes to load the training and validation sets in `X_train`, `X_valid`, `y_train`, and `y_valid`.  The test set is loaded in `X_test`."
   ]
  },
  {
   "cell_type": "code",
   "execution_count": 2,
   "id": "049dbb3a",
   "metadata": {
    "execution": {
     "iopub.execute_input": "2023-06-20T20:08:39.255564Z",
     "iopub.status.busy": "2023-06-20T20:08:39.255150Z",
     "iopub.status.idle": "2023-06-20T20:08:39.334823Z",
     "shell.execute_reply": "2023-06-20T20:08:39.333759Z"
    },
    "papermill": {
     "duration": 0.092067,
     "end_time": "2023-06-20T20:08:39.337525",
     "exception": false,
     "start_time": "2023-06-20T20:08:39.245458",
     "status": "completed"
    },
    "tags": []
   },
   "outputs": [],
   "source": [
    "import pandas as pd\n",
    "from sklearn.model_selection import train_test_split\n",
    "\n",
    "# Read the data\n",
    "X = pd.read_csv('../input/train.csv', index_col='Id')\n",
    "X_test_full = pd.read_csv('../input/test.csv', index_col='Id')\n",
    "\n",
    "# Remove rows with missing target, separate target from predictors\n",
    "X.dropna(axis=0, subset=['SalePrice'], inplace=True)\n",
    "y = X.SalePrice              \n",
    "X.drop(['SalePrice'], axis=1, inplace=True)\n",
    "\n",
    "# Break off validation set from training data\n",
    "X_train_full, X_valid_full, y_train, y_valid = train_test_split(X, y, train_size=0.8, test_size=0.2,\n",
    "                                                                random_state=0)\n",
    "\n",
    "# \"Cardinality\" means the number of unique values in a column\n",
    "# Select categorical columns with relatively low cardinality (convenient but arbitrary)\n",
    "low_cardinality_cols = [cname for cname in X_train_full.columns if X_train_full[cname].nunique() < 10 and \n",
    "                        X_train_full[cname].dtype == \"object\"]\n",
    "\n",
    "# Select numeric columns\n",
    "numeric_cols = [cname for cname in X_train_full.columns if X_train_full[cname].dtype in ['int64', 'float64']]\n",
    "\n"
   ]
  },
  {
   "cell_type": "code",
   "execution_count": 3,
   "id": "45fc5af2",
   "metadata": {
    "execution": {
     "iopub.execute_input": "2023-06-20T20:08:39.355874Z",
     "iopub.status.busy": "2023-06-20T20:08:39.355537Z",
     "iopub.status.idle": "2023-06-20T20:08:39.366643Z",
     "shell.execute_reply": "2023-06-20T20:08:39.365950Z"
    },
    "papermill": {
     "duration": 0.022854,
     "end_time": "2023-06-20T20:08:39.368984",
     "exception": false,
     "start_time": "2023-06-20T20:08:39.346130",
     "status": "completed"
    },
    "tags": []
   },
   "outputs": [],
   "source": [
    "# Keep selected columns only\n",
    "my_cols = low_cardinality_cols + numeric_cols\n",
    "X_train = X_train_full[my_cols].copy()\n",
    "X_valid = X_valid_full[my_cols].copy()\n",
    "X_test = X_test_full[my_cols].copy()"
   ]
  },
  {
   "cell_type": "code",
   "execution_count": 4,
   "id": "60a5e193",
   "metadata": {
    "execution": {
     "iopub.execute_input": "2023-06-20T20:08:39.386917Z",
     "iopub.status.busy": "2023-06-20T20:08:39.386289Z",
     "iopub.status.idle": "2023-06-20T20:08:39.489676Z",
     "shell.execute_reply": "2023-06-20T20:08:39.488608Z"
    },
    "papermill": {
     "duration": 0.115093,
     "end_time": "2023-06-20T20:08:39.492241",
     "exception": false,
     "start_time": "2023-06-20T20:08:39.377148",
     "status": "completed"
    },
    "tags": []
   },
   "outputs": [],
   "source": [
    "# One-hot encode the data (to shorten the code, we use pandas)\n",
    "X_train = pd.get_dummies(X_train)\n",
    "X_valid = pd.get_dummies(X_valid)\n",
    "X_test = pd.get_dummies(X_test)\n"
   ]
  },
  {
   "cell_type": "code",
   "execution_count": 5,
   "id": "ab83be4e",
   "metadata": {
    "execution": {
     "iopub.execute_input": "2023-06-20T20:08:39.510823Z",
     "iopub.status.busy": "2023-06-20T20:08:39.510462Z",
     "iopub.status.idle": "2023-06-20T20:08:39.550092Z",
     "shell.execute_reply": "2023-06-20T20:08:39.548990Z"
    },
    "papermill": {
     "duration": 0.051737,
     "end_time": "2023-06-20T20:08:39.552319",
     "exception": false,
     "start_time": "2023-06-20T20:08:39.500582",
     "status": "completed"
    },
    "tags": []
   },
   "outputs": [
    {
     "data": {
      "text/html": [
       "<div>\n",
       "<style scoped>\n",
       "    .dataframe tbody tr th:only-of-type {\n",
       "        vertical-align: middle;\n",
       "    }\n",
       "\n",
       "    .dataframe tbody tr th {\n",
       "        vertical-align: top;\n",
       "    }\n",
       "\n",
       "    .dataframe thead th {\n",
       "        text-align: right;\n",
       "    }\n",
       "</style>\n",
       "<table border=\"1\" class=\"dataframe\">\n",
       "  <thead>\n",
       "    <tr style=\"text-align: right;\">\n",
       "      <th></th>\n",
       "      <th>MSSubClass</th>\n",
       "      <th>LotFrontage</th>\n",
       "      <th>LotArea</th>\n",
       "      <th>OverallQual</th>\n",
       "      <th>OverallCond</th>\n",
       "      <th>YearBuilt</th>\n",
       "      <th>YearRemodAdd</th>\n",
       "      <th>MasVnrArea</th>\n",
       "      <th>BsmtFinSF1</th>\n",
       "      <th>BsmtFinSF2</th>\n",
       "      <th>...</th>\n",
       "      <th>SaleType_ConLw</th>\n",
       "      <th>SaleType_New</th>\n",
       "      <th>SaleType_Oth</th>\n",
       "      <th>SaleType_WD</th>\n",
       "      <th>SaleCondition_Abnorml</th>\n",
       "      <th>SaleCondition_AdjLand</th>\n",
       "      <th>SaleCondition_Alloca</th>\n",
       "      <th>SaleCondition_Family</th>\n",
       "      <th>SaleCondition_Normal</th>\n",
       "      <th>SaleCondition_Partial</th>\n",
       "    </tr>\n",
       "    <tr>\n",
       "      <th>Id</th>\n",
       "      <th></th>\n",
       "      <th></th>\n",
       "      <th></th>\n",
       "      <th></th>\n",
       "      <th></th>\n",
       "      <th></th>\n",
       "      <th></th>\n",
       "      <th></th>\n",
       "      <th></th>\n",
       "      <th></th>\n",
       "      <th></th>\n",
       "      <th></th>\n",
       "      <th></th>\n",
       "      <th></th>\n",
       "      <th></th>\n",
       "      <th></th>\n",
       "      <th></th>\n",
       "      <th></th>\n",
       "      <th></th>\n",
       "      <th></th>\n",
       "      <th></th>\n",
       "    </tr>\n",
       "  </thead>\n",
       "  <tbody>\n",
       "    <tr>\n",
       "      <th>619</th>\n",
       "      <td>20</td>\n",
       "      <td>90.0</td>\n",
       "      <td>11694</td>\n",
       "      <td>9</td>\n",
       "      <td>5</td>\n",
       "      <td>2007</td>\n",
       "      <td>2007</td>\n",
       "      <td>452.0</td>\n",
       "      <td>48</td>\n",
       "      <td>0</td>\n",
       "      <td>...</td>\n",
       "      <td>0</td>\n",
       "      <td>1</td>\n",
       "      <td>0</td>\n",
       "      <td>0</td>\n",
       "      <td>0</td>\n",
       "      <td>0</td>\n",
       "      <td>0</td>\n",
       "      <td>0</td>\n",
       "      <td>0</td>\n",
       "      <td>1</td>\n",
       "    </tr>\n",
       "    <tr>\n",
       "      <th>871</th>\n",
       "      <td>20</td>\n",
       "      <td>60.0</td>\n",
       "      <td>6600</td>\n",
       "      <td>5</td>\n",
       "      <td>5</td>\n",
       "      <td>1962</td>\n",
       "      <td>1962</td>\n",
       "      <td>0.0</td>\n",
       "      <td>0</td>\n",
       "      <td>0</td>\n",
       "      <td>...</td>\n",
       "      <td>0</td>\n",
       "      <td>0</td>\n",
       "      <td>0</td>\n",
       "      <td>1</td>\n",
       "      <td>0</td>\n",
       "      <td>0</td>\n",
       "      <td>0</td>\n",
       "      <td>0</td>\n",
       "      <td>1</td>\n",
       "      <td>0</td>\n",
       "    </tr>\n",
       "    <tr>\n",
       "      <th>93</th>\n",
       "      <td>30</td>\n",
       "      <td>80.0</td>\n",
       "      <td>13360</td>\n",
       "      <td>5</td>\n",
       "      <td>7</td>\n",
       "      <td>1921</td>\n",
       "      <td>2006</td>\n",
       "      <td>0.0</td>\n",
       "      <td>713</td>\n",
       "      <td>0</td>\n",
       "      <td>...</td>\n",
       "      <td>0</td>\n",
       "      <td>0</td>\n",
       "      <td>0</td>\n",
       "      <td>1</td>\n",
       "      <td>0</td>\n",
       "      <td>0</td>\n",
       "      <td>0</td>\n",
       "      <td>0</td>\n",
       "      <td>1</td>\n",
       "      <td>0</td>\n",
       "    </tr>\n",
       "    <tr>\n",
       "      <th>818</th>\n",
       "      <td>20</td>\n",
       "      <td>NaN</td>\n",
       "      <td>13265</td>\n",
       "      <td>8</td>\n",
       "      <td>5</td>\n",
       "      <td>2002</td>\n",
       "      <td>2002</td>\n",
       "      <td>148.0</td>\n",
       "      <td>1218</td>\n",
       "      <td>0</td>\n",
       "      <td>...</td>\n",
       "      <td>0</td>\n",
       "      <td>0</td>\n",
       "      <td>0</td>\n",
       "      <td>1</td>\n",
       "      <td>0</td>\n",
       "      <td>0</td>\n",
       "      <td>0</td>\n",
       "      <td>0</td>\n",
       "      <td>1</td>\n",
       "      <td>0</td>\n",
       "    </tr>\n",
       "    <tr>\n",
       "      <th>303</th>\n",
       "      <td>20</td>\n",
       "      <td>118.0</td>\n",
       "      <td>13704</td>\n",
       "      <td>7</td>\n",
       "      <td>5</td>\n",
       "      <td>2001</td>\n",
       "      <td>2002</td>\n",
       "      <td>150.0</td>\n",
       "      <td>0</td>\n",
       "      <td>0</td>\n",
       "      <td>...</td>\n",
       "      <td>0</td>\n",
       "      <td>0</td>\n",
       "      <td>0</td>\n",
       "      <td>1</td>\n",
       "      <td>0</td>\n",
       "      <td>0</td>\n",
       "      <td>0</td>\n",
       "      <td>0</td>\n",
       "      <td>1</td>\n",
       "      <td>0</td>\n",
       "    </tr>\n",
       "    <tr>\n",
       "      <th>...</th>\n",
       "      <td>...</td>\n",
       "      <td>...</td>\n",
       "      <td>...</td>\n",
       "      <td>...</td>\n",
       "      <td>...</td>\n",
       "      <td>...</td>\n",
       "      <td>...</td>\n",
       "      <td>...</td>\n",
       "      <td>...</td>\n",
       "      <td>...</td>\n",
       "      <td>...</td>\n",
       "      <td>...</td>\n",
       "      <td>...</td>\n",
       "      <td>...</td>\n",
       "      <td>...</td>\n",
       "      <td>...</td>\n",
       "      <td>...</td>\n",
       "      <td>...</td>\n",
       "      <td>...</td>\n",
       "      <td>...</td>\n",
       "      <td>...</td>\n",
       "    </tr>\n",
       "    <tr>\n",
       "      <th>764</th>\n",
       "      <td>60</td>\n",
       "      <td>82.0</td>\n",
       "      <td>9430</td>\n",
       "      <td>8</td>\n",
       "      <td>5</td>\n",
       "      <td>1999</td>\n",
       "      <td>1999</td>\n",
       "      <td>673.0</td>\n",
       "      <td>1163</td>\n",
       "      <td>0</td>\n",
       "      <td>...</td>\n",
       "      <td>0</td>\n",
       "      <td>0</td>\n",
       "      <td>0</td>\n",
       "      <td>1</td>\n",
       "      <td>0</td>\n",
       "      <td>0</td>\n",
       "      <td>0</td>\n",
       "      <td>0</td>\n",
       "      <td>1</td>\n",
       "      <td>0</td>\n",
       "    </tr>\n",
       "    <tr>\n",
       "      <th>836</th>\n",
       "      <td>20</td>\n",
       "      <td>60.0</td>\n",
       "      <td>9600</td>\n",
       "      <td>4</td>\n",
       "      <td>7</td>\n",
       "      <td>1950</td>\n",
       "      <td>1995</td>\n",
       "      <td>0.0</td>\n",
       "      <td>442</td>\n",
       "      <td>0</td>\n",
       "      <td>...</td>\n",
       "      <td>0</td>\n",
       "      <td>0</td>\n",
       "      <td>0</td>\n",
       "      <td>1</td>\n",
       "      <td>0</td>\n",
       "      <td>0</td>\n",
       "      <td>0</td>\n",
       "      <td>0</td>\n",
       "      <td>1</td>\n",
       "      <td>0</td>\n",
       "    </tr>\n",
       "    <tr>\n",
       "      <th>1217</th>\n",
       "      <td>90</td>\n",
       "      <td>68.0</td>\n",
       "      <td>8930</td>\n",
       "      <td>6</td>\n",
       "      <td>5</td>\n",
       "      <td>1978</td>\n",
       "      <td>1978</td>\n",
       "      <td>0.0</td>\n",
       "      <td>0</td>\n",
       "      <td>0</td>\n",
       "      <td>...</td>\n",
       "      <td>0</td>\n",
       "      <td>0</td>\n",
       "      <td>0</td>\n",
       "      <td>1</td>\n",
       "      <td>0</td>\n",
       "      <td>0</td>\n",
       "      <td>0</td>\n",
       "      <td>0</td>\n",
       "      <td>1</td>\n",
       "      <td>0</td>\n",
       "    </tr>\n",
       "    <tr>\n",
       "      <th>560</th>\n",
       "      <td>120</td>\n",
       "      <td>NaN</td>\n",
       "      <td>3196</td>\n",
       "      <td>7</td>\n",
       "      <td>5</td>\n",
       "      <td>2003</td>\n",
       "      <td>2004</td>\n",
       "      <td>18.0</td>\n",
       "      <td>0</td>\n",
       "      <td>0</td>\n",
       "      <td>...</td>\n",
       "      <td>0</td>\n",
       "      <td>0</td>\n",
       "      <td>0</td>\n",
       "      <td>1</td>\n",
       "      <td>0</td>\n",
       "      <td>0</td>\n",
       "      <td>0</td>\n",
       "      <td>0</td>\n",
       "      <td>1</td>\n",
       "      <td>0</td>\n",
       "    </tr>\n",
       "    <tr>\n",
       "      <th>685</th>\n",
       "      <td>60</td>\n",
       "      <td>58.0</td>\n",
       "      <td>16770</td>\n",
       "      <td>7</td>\n",
       "      <td>5</td>\n",
       "      <td>1998</td>\n",
       "      <td>1998</td>\n",
       "      <td>30.0</td>\n",
       "      <td>0</td>\n",
       "      <td>0</td>\n",
       "      <td>...</td>\n",
       "      <td>0</td>\n",
       "      <td>0</td>\n",
       "      <td>0</td>\n",
       "      <td>1</td>\n",
       "      <td>0</td>\n",
       "      <td>0</td>\n",
       "      <td>0</td>\n",
       "      <td>0</td>\n",
       "      <td>1</td>\n",
       "      <td>0</td>\n",
       "    </tr>\n",
       "  </tbody>\n",
       "</table>\n",
       "<p>1168 rows × 227 columns</p>\n",
       "</div>"
      ],
      "text/plain": [
       "      MSSubClass  LotFrontage  LotArea  OverallQual  OverallCond  YearBuilt  \\\n",
       "Id                                                                            \n",
       "619           20         90.0    11694            9            5       2007   \n",
       "871           20         60.0     6600            5            5       1962   \n",
       "93            30         80.0    13360            5            7       1921   \n",
       "818           20          NaN    13265            8            5       2002   \n",
       "303           20        118.0    13704            7            5       2001   \n",
       "...          ...          ...      ...          ...          ...        ...   \n",
       "764           60         82.0     9430            8            5       1999   \n",
       "836           20         60.0     9600            4            7       1950   \n",
       "1217          90         68.0     8930            6            5       1978   \n",
       "560          120          NaN     3196            7            5       2003   \n",
       "685           60         58.0    16770            7            5       1998   \n",
       "\n",
       "      YearRemodAdd  MasVnrArea  BsmtFinSF1  BsmtFinSF2  ...  SaleType_ConLw  \\\n",
       "Id                                                      ...                   \n",
       "619           2007       452.0          48           0  ...               0   \n",
       "871           1962         0.0           0           0  ...               0   \n",
       "93            2006         0.0         713           0  ...               0   \n",
       "818           2002       148.0        1218           0  ...               0   \n",
       "303           2002       150.0           0           0  ...               0   \n",
       "...            ...         ...         ...         ...  ...             ...   \n",
       "764           1999       673.0        1163           0  ...               0   \n",
       "836           1995         0.0         442           0  ...               0   \n",
       "1217          1978         0.0           0           0  ...               0   \n",
       "560           2004        18.0           0           0  ...               0   \n",
       "685           1998        30.0           0           0  ...               0   \n",
       "\n",
       "      SaleType_New  SaleType_Oth  SaleType_WD  SaleCondition_Abnorml  \\\n",
       "Id                                                                     \n",
       "619              1             0            0                      0   \n",
       "871              0             0            1                      0   \n",
       "93               0             0            1                      0   \n",
       "818              0             0            1                      0   \n",
       "303              0             0            1                      0   \n",
       "...            ...           ...          ...                    ...   \n",
       "764              0             0            1                      0   \n",
       "836              0             0            1                      0   \n",
       "1217             0             0            1                      0   \n",
       "560              0             0            1                      0   \n",
       "685              0             0            1                      0   \n",
       "\n",
       "      SaleCondition_AdjLand  SaleCondition_Alloca  SaleCondition_Family  \\\n",
       "Id                                                                        \n",
       "619                       0                     0                     0   \n",
       "871                       0                     0                     0   \n",
       "93                        0                     0                     0   \n",
       "818                       0                     0                     0   \n",
       "303                       0                     0                     0   \n",
       "...                     ...                   ...                   ...   \n",
       "764                       0                     0                     0   \n",
       "836                       0                     0                     0   \n",
       "1217                      0                     0                     0   \n",
       "560                       0                     0                     0   \n",
       "685                       0                     0                     0   \n",
       "\n",
       "      SaleCondition_Normal  SaleCondition_Partial  \n",
       "Id                                                 \n",
       "619                      0                      1  \n",
       "871                      1                      0  \n",
       "93                       1                      0  \n",
       "818                      1                      0  \n",
       "303                      1                      0  \n",
       "...                    ...                    ...  \n",
       "764                      1                      0  \n",
       "836                      1                      0  \n",
       "1217                     1                      0  \n",
       "560                      1                      0  \n",
       "685                      1                      0  \n",
       "\n",
       "[1168 rows x 227 columns]"
      ]
     },
     "execution_count": 5,
     "metadata": {},
     "output_type": "execute_result"
    }
   ],
   "source": [
    "X_train"
   ]
  },
  {
   "cell_type": "code",
   "execution_count": 6,
   "id": "b6b4285d",
   "metadata": {
    "execution": {
     "iopub.execute_input": "2023-06-20T20:08:39.571742Z",
     "iopub.status.busy": "2023-06-20T20:08:39.571400Z",
     "iopub.status.idle": "2023-06-20T20:08:39.583712Z",
     "shell.execute_reply": "2023-06-20T20:08:39.582641Z"
    },
    "papermill": {
     "duration": 0.024915,
     "end_time": "2023-06-20T20:08:39.586321",
     "exception": false,
     "start_time": "2023-06-20T20:08:39.561406",
     "status": "completed"
    },
    "tags": []
   },
   "outputs": [],
   "source": [
    "X_train, X_valid = X_train.align(X_valid, join='left', axis=1)\n",
    "X_train, X_test = X_train.align(X_test, join='left', axis=1)"
   ]
  },
  {
   "cell_type": "markdown",
   "id": "a3541765",
   "metadata": {
    "papermill": {
     "duration": 0.008721,
     "end_time": "2023-06-20T20:08:39.603814",
     "exception": false,
     "start_time": "2023-06-20T20:08:39.595093",
     "status": "completed"
    },
    "tags": []
   },
   "source": [
    "# Step 1: Build model\n",
    "\n",
    "### Part A\n",
    "\n",
    "In this step, you'll build and train your first model with gradient boosting.\n",
    "\n",
    "- Begin by setting `my_model_1` to an XGBoost model.  Use the [XGBRegressor](https://xgboost.readthedocs.io/en/latest/python/python_api.html#xgboost.XGBRegressor) class, and set the random seed to 0 (`random_state=0`).  **Leave all other parameters as default.**\n",
    "- Then, fit the model to the training data in `X_train` and `y_train`."
   ]
  },
  {
   "cell_type": "code",
   "execution_count": 7,
   "id": "60751003",
   "metadata": {
    "execution": {
     "iopub.execute_input": "2023-06-20T20:08:39.622462Z",
     "iopub.status.busy": "2023-06-20T20:08:39.622120Z",
     "iopub.status.idle": "2023-06-20T20:08:40.543043Z",
     "shell.execute_reply": "2023-06-20T20:08:40.542185Z"
    },
    "papermill": {
     "duration": 0.932748,
     "end_time": "2023-06-20T20:08:40.545217",
     "exception": false,
     "start_time": "2023-06-20T20:08:39.612469",
     "status": "completed"
    },
    "tags": []
   },
   "outputs": [
    {
     "data": {
      "application/javascript": [
       "parent.postMessage({\"jupyterEvent\": \"custom.exercise_interaction\", \"data\": {\"outcomeType\": 1, \"valueTowardsCompletion\": 0.5, \"interactionType\": 1, \"questionType\": 2, \"questionId\": \"1.1_Model1A\", \"learnToolsVersion\": \"0.3.4\", \"failureMessage\": \"\", \"exceptionClass\": \"\", \"trace\": \"\"}}, \"*\")"
      ],
      "text/plain": [
       "<IPython.core.display.Javascript object>"
      ]
     },
     "metadata": {},
     "output_type": "display_data"
    },
    {
     "data": {
      "text/markdown": [
       "<span style=\"color:#33cc33\">Correct</span>"
      ],
      "text/plain": [
       "Correct"
      ]
     },
     "metadata": {},
     "output_type": "display_data"
    }
   ],
   "source": [
    "from xgboost import XGBRegressor\n",
    "\n",
    "# Define the model\n",
    "my_model_1 = XGBRegressor(random_state=0) # Your code here\n",
    "\n",
    "# Fit the model\n",
    "my_model_1.fit(X_train,y_train)\n",
    "# Your code here\n",
    "\n",
    "\n",
    "# Check your answer\n",
    "step_1.a.check()"
   ]
  },
  {
   "cell_type": "code",
   "execution_count": 8,
   "id": "6cc79378",
   "metadata": {
    "execution": {
     "iopub.execute_input": "2023-06-20T20:08:40.566428Z",
     "iopub.status.busy": "2023-06-20T20:08:40.566001Z",
     "iopub.status.idle": "2023-06-20T20:08:40.574528Z",
     "shell.execute_reply": "2023-06-20T20:08:40.573590Z"
    },
    "papermill": {
     "duration": 0.02393,
     "end_time": "2023-06-20T20:08:40.579129",
     "exception": false,
     "start_time": "2023-06-20T20:08:40.555199",
     "status": "completed"
    },
    "tags": []
   },
   "outputs": [],
   "source": [
    "# Lines below will give you a hint or solution code\n",
    "#step_1.a.hint()\n",
    "#step_1.a.solution()"
   ]
  },
  {
   "cell_type": "markdown",
   "id": "f566116e",
   "metadata": {
    "papermill": {
     "duration": 0.010101,
     "end_time": "2023-06-20T20:08:40.601819",
     "exception": false,
     "start_time": "2023-06-20T20:08:40.591718",
     "status": "completed"
    },
    "tags": []
   },
   "source": [
    "### Part B\n",
    "\n",
    "Set `predictions_1` to the model's predictions for the validation data.  Recall that the validation features are stored in `X_valid`."
   ]
  },
  {
   "cell_type": "code",
   "execution_count": 9,
   "id": "8877d428",
   "metadata": {
    "execution": {
     "iopub.execute_input": "2023-06-20T20:08:40.620804Z",
     "iopub.status.busy": "2023-06-20T20:08:40.620457Z",
     "iopub.status.idle": "2023-06-20T20:08:40.672239Z",
     "shell.execute_reply": "2023-06-20T20:08:40.671478Z"
    },
    "papermill": {
     "duration": 0.064107,
     "end_time": "2023-06-20T20:08:40.674656",
     "exception": false,
     "start_time": "2023-06-20T20:08:40.610549",
     "status": "completed"
    },
    "tags": []
   },
   "outputs": [
    {
     "data": {
      "application/javascript": [
       "parent.postMessage({\"jupyterEvent\": \"custom.exercise_interaction\", \"data\": {\"outcomeType\": 1, \"valueTowardsCompletion\": 0.5, \"interactionType\": 1, \"questionType\": 2, \"questionId\": \"1.2_Model1B\", \"learnToolsVersion\": \"0.3.4\", \"failureMessage\": \"\", \"exceptionClass\": \"\", \"trace\": \"\"}}, \"*\")"
      ],
      "text/plain": [
       "<IPython.core.display.Javascript object>"
      ]
     },
     "metadata": {},
     "output_type": "display_data"
    },
    {
     "data": {
      "text/markdown": [
       "<span style=\"color:#33cc33\">Correct</span>"
      ],
      "text/plain": [
       "Correct"
      ]
     },
     "metadata": {},
     "output_type": "display_data"
    }
   ],
   "source": [
    "from sklearn.metrics import mean_absolute_error\n",
    "\n",
    "# Get predictions\n",
    "predictions_1 =  my_model_1.predict(X_valid)\n",
    "# Your code here\n",
    "\n",
    "# Check your answer\n",
    "step_1.b.check()"
   ]
  },
  {
   "cell_type": "code",
   "execution_count": 10,
   "id": "8e521c09",
   "metadata": {
    "execution": {
     "iopub.execute_input": "2023-06-20T20:08:40.701090Z",
     "iopub.status.busy": "2023-06-20T20:08:40.700074Z",
     "iopub.status.idle": "2023-06-20T20:08:40.704482Z",
     "shell.execute_reply": "2023-06-20T20:08:40.703578Z"
    },
    "papermill": {
     "duration": 0.019659,
     "end_time": "2023-06-20T20:08:40.706485",
     "exception": false,
     "start_time": "2023-06-20T20:08:40.686826",
     "status": "completed"
    },
    "tags": []
   },
   "outputs": [],
   "source": [
    "# Lines below will give you a hint or solution code\n",
    "#step_1.b.hint()\n",
    "# step_1.b.solution()"
   ]
  },
  {
   "cell_type": "markdown",
   "id": "155ccf57",
   "metadata": {
    "papermill": {
     "duration": 0.011063,
     "end_time": "2023-06-20T20:08:40.727631",
     "exception": false,
     "start_time": "2023-06-20T20:08:40.716568",
     "status": "completed"
    },
    "tags": []
   },
   "source": [
    "### Part C\n",
    "\n",
    "Finally, use the `mean_absolute_error()` function to calculate the mean absolute error (MAE) corresponding to the predictions for the validation set.  Recall that the labels for the validation data are stored in `y_valid`."
   ]
  },
  {
   "cell_type": "code",
   "execution_count": 11,
   "id": "921ac071",
   "metadata": {
    "execution": {
     "iopub.execute_input": "2023-06-20T20:08:40.747206Z",
     "iopub.status.busy": "2023-06-20T20:08:40.746719Z",
     "iopub.status.idle": "2023-06-20T20:08:40.755228Z",
     "shell.execute_reply": "2023-06-20T20:08:40.754499Z"
    },
    "papermill": {
     "duration": 0.020834,
     "end_time": "2023-06-20T20:08:40.757485",
     "exception": false,
     "start_time": "2023-06-20T20:08:40.736651",
     "status": "completed"
    },
    "tags": []
   },
   "outputs": [
    {
     "name": "stdout",
     "output_type": "stream",
     "text": [
      "Mean Absolute Error: 17662.736729452055\n"
     ]
    },
    {
     "data": {
      "application/javascript": [
       "parent.postMessage({\"jupyterEvent\": \"custom.exercise_interaction\", \"data\": {\"outcomeType\": 1, \"valueTowardsCompletion\": 0.5, \"interactionType\": 1, \"questionType\": 2, \"questionId\": \"1.3_Model1C\", \"learnToolsVersion\": \"0.3.4\", \"failureMessage\": \"\", \"exceptionClass\": \"\", \"trace\": \"\"}}, \"*\")"
      ],
      "text/plain": [
       "<IPython.core.display.Javascript object>"
      ]
     },
     "metadata": {},
     "output_type": "display_data"
    },
    {
     "data": {
      "text/markdown": [
       "<span style=\"color:#33cc33\">Correct</span>"
      ],
      "text/plain": [
       "Correct"
      ]
     },
     "metadata": {},
     "output_type": "display_data"
    }
   ],
   "source": [
    "# Calculate MAE\n",
    "mae_1 = mean_absolute_error(predictions_1,y_valid)\n",
    "# Your code here\n",
    "\n",
    "# Uncomment to print MAE\n",
    "print(\"Mean Absolute Error:\" , mae_1)\n",
    "\n",
    "# Check your answer\n",
    "step_1.c.check()\n"
   ]
  },
  {
   "cell_type": "code",
   "execution_count": 12,
   "id": "d0de8047",
   "metadata": {
    "execution": {
     "iopub.execute_input": "2023-06-20T20:08:40.785893Z",
     "iopub.status.busy": "2023-06-20T20:08:40.785328Z",
     "iopub.status.idle": "2023-06-20T20:08:40.788702Z",
     "shell.execute_reply": "2023-06-20T20:08:40.788054Z"
    },
    "papermill": {
     "duration": 0.019976,
     "end_time": "2023-06-20T20:08:40.791066",
     "exception": false,
     "start_time": "2023-06-20T20:08:40.771090",
     "status": "completed"
    },
    "tags": []
   },
   "outputs": [],
   "source": [
    "# Lines below will give you a hint or solution code\n",
    "#step_1.c.hint()\n",
    "# step_1.c.solution()"
   ]
  },
  {
   "cell_type": "markdown",
   "id": "9fd8bb96",
   "metadata": {
    "papermill": {
     "duration": 0.013074,
     "end_time": "2023-06-20T20:08:40.816972",
     "exception": false,
     "start_time": "2023-06-20T20:08:40.803898",
     "status": "completed"
    },
    "tags": []
   },
   "source": [
    "# Step 2: Improve the model\n",
    "\n",
    "Now that you've trained a default model as baseline, it's time to tinker with the parameters, to see if you can get better performance!\n",
    "- Begin by setting `my_model_2` to an XGBoost model, using the [XGBRegressor](https://xgboost.readthedocs.io/en/latest/python/python_api.html#xgboost.XGBRegressor) class.  Use what you learned in the previous tutorial to figure out how to change the default parameters (like `n_estimators` and `learning_rate`) to get better results.\n",
    "- Then, fit the model to the training data in `X_train` and `y_train`.\n",
    "- Set `predictions_2` to the model's predictions for the validation data.  Recall that the validation features are stored in `X_valid`.\n",
    "- Finally, use the `mean_absolute_error()` function to calculate the mean absolute error (MAE) corresponding to the predictions on the validation set.  Recall that the labels for the validation data are stored in `y_valid`.\n",
    "\n",
    "In order for this step to be marked correct, your model in `my_model_2` must attain lower MAE than the model in `my_model_1`. "
   ]
  },
  {
   "cell_type": "code",
   "execution_count": 13,
   "id": "f05fa8e3",
   "metadata": {
    "execution": {
     "iopub.execute_input": "2023-06-20T20:08:40.846302Z",
     "iopub.status.busy": "2023-06-20T20:08:40.844600Z",
     "iopub.status.idle": "2023-06-20T20:09:02.319865Z",
     "shell.execute_reply": "2023-06-20T20:09:02.319059Z"
    },
    "papermill": {
     "duration": 21.492243,
     "end_time": "2023-06-20T20:09:02.322325",
     "exception": false,
     "start_time": "2023-06-20T20:08:40.830082",
     "status": "completed"
    },
    "tags": []
   },
   "outputs": [
    {
     "name": "stdout",
     "output_type": "stream",
     "text": [
      "Mean Absolute Error: 16682.035022474316\n"
     ]
    },
    {
     "data": {
      "application/javascript": [
       "parent.postMessage({\"jupyterEvent\": \"custom.exercise_interaction\", \"data\": {\"outcomeType\": 1, \"valueTowardsCompletion\": 0.5, \"interactionType\": 1, \"questionType\": 2, \"questionId\": \"2_Model2\", \"learnToolsVersion\": \"0.3.4\", \"failureMessage\": \"\", \"exceptionClass\": \"\", \"trace\": \"\"}}, \"*\")"
      ],
      "text/plain": [
       "<IPython.core.display.Javascript object>"
      ]
     },
     "metadata": {},
     "output_type": "display_data"
    },
    {
     "data": {
      "text/markdown": [
       "<span style=\"color:#33cc33\">Correct</span>"
      ],
      "text/plain": [
       "Correct"
      ]
     },
     "metadata": {},
     "output_type": "display_data"
    }
   ],
   "source": [
    "# Define the model\n",
    "my_model_2 = XGBRegressor(n_estimators=2600, learning_rate=.05,random_state=0)\n",
    "\n",
    "# Fit the model\n",
    "my_model_2.fit(X_train,y_train)\n",
    "____ # Your code here\n",
    "\n",
    "# Get predictions\n",
    "predictions_2 = my_model_2.predict(X_valid)\n",
    "\n",
    "# Calculate MAE\n",
    "mae_2 = mean_absolute_error(predictions_2,y_valid)\n",
    "\n",
    "# Uncomment to print MAE\n",
    "print(\"Mean Absolute Error:\" , mae_2)\n",
    "\n",
    "\n",
    "# Check your answer\n",
    "step_2.check()"
   ]
  },
  {
   "cell_type": "code",
   "execution_count": 14,
   "id": "7cad5e5b",
   "metadata": {
    "execution": {
     "iopub.execute_input": "2023-06-20T20:09:02.345437Z",
     "iopub.status.busy": "2023-06-20T20:09:02.345045Z",
     "iopub.status.idle": "2023-06-20T20:09:02.350955Z",
     "shell.execute_reply": "2023-06-20T20:09:02.350225Z"
    },
    "papermill": {
     "duration": 0.01964,
     "end_time": "2023-06-20T20:09:02.352951",
     "exception": false,
     "start_time": "2023-06-20T20:09:02.333311",
     "status": "completed"
    },
    "tags": []
   },
   "outputs": [],
   "source": [
    "\n",
    "def get_n_estimator(list_):\n",
    "    listed_={}\n",
    "    for a in list_:\n",
    "        \n",
    "        # Define the model\n",
    "        my_model_ = XGBRegressor(n_estimators=a, learning_rate=0.05)\n",
    "\n",
    "        # Fit the model\n",
    "        my_model_.fit(X_train, y_train)\n",
    "\n",
    "        # Get predictions\n",
    "        predictions_ = my_model_.predict(X_valid)\n",
    "\n",
    "        # Calculate MAE\n",
    "        mae_ = mean_absolute_error(predictions_, y_valid)\n",
    "        listed_[a]=mae_\n",
    "    return listed_"
   ]
  },
  {
   "cell_type": "code",
   "execution_count": 15,
   "id": "5dc743fd",
   "metadata": {
    "execution": {
     "iopub.execute_input": "2023-06-20T20:09:02.376249Z",
     "iopub.status.busy": "2023-06-20T20:09:02.375305Z",
     "iopub.status.idle": "2023-06-20T20:09:04.309875Z",
     "shell.execute_reply": "2023-06-20T20:09:04.308960Z"
    },
    "papermill": {
     "duration": 1.949055,
     "end_time": "2023-06-20T20:09:04.312623",
     "exception": false,
     "start_time": "2023-06-20T20:09:02.363568",
     "status": "completed"
    },
    "tags": []
   },
   "outputs": [
    {
     "data": {
      "text/plain": [
       "{1: 172457.41701141777,\n",
       " 21: 64215.77765143407,\n",
       " 41: 27585.09578339041,\n",
       " 61: 19038.07483411815,\n",
       " 81: 17595.535370291094}"
      ]
     },
     "execution_count": 15,
     "metadata": {},
     "output_type": "execute_result"
    }
   ],
   "source": [
    "N_Est=[a for a in range(1,100,20)]\n",
    "get_n_estimator(N_Est)"
   ]
  },
  {
   "cell_type": "code",
   "execution_count": null,
   "id": "2f21a950",
   "metadata": {
    "papermill": {
     "duration": 0.013966,
     "end_time": "2023-06-20T20:09:04.338298",
     "exception": false,
     "start_time": "2023-06-20T20:09:04.324332",
     "status": "completed"
    },
    "tags": []
   },
   "outputs": [],
   "source": []
  },
  {
   "cell_type": "code",
   "execution_count": 16,
   "id": "c2a6977e",
   "metadata": {
    "execution": {
     "iopub.execute_input": "2023-06-20T20:09:04.366153Z",
     "iopub.status.busy": "2023-06-20T20:09:04.365617Z",
     "iopub.status.idle": "2023-06-20T20:09:04.370895Z",
     "shell.execute_reply": "2023-06-20T20:09:04.370105Z"
    },
    "papermill": {
     "duration": 0.023642,
     "end_time": "2023-06-20T20:09:04.375627",
     "exception": false,
     "start_time": "2023-06-20T20:09:04.351985",
     "status": "completed"
    },
    "tags": []
   },
   "outputs": [],
   "source": [
    "# Lines below will give you a hint or solution code\n",
    "#step_2.hint()\n",
    "# step_2.solution()"
   ]
  },
  {
   "cell_type": "markdown",
   "id": "211f8e29",
   "metadata": {
    "papermill": {
     "duration": 0.010714,
     "end_time": "2023-06-20T20:09:04.403457",
     "exception": false,
     "start_time": "2023-06-20T20:09:04.392743",
     "status": "completed"
    },
    "tags": []
   },
   "source": [
    "# Step 3: Break the model\n",
    "\n",
    "In this step, you will create a model that performs worse than the original model in Step 1.  This will help you to develop your intuition for how to set parameters.  You might even find that you accidentally get better performance, which is ultimately a nice problem to have and a valuable learning experience!\n",
    "- Begin by setting `my_model_3` to an XGBoost model, using the [XGBRegressor](https://xgboost.readthedocs.io/en/latest/python/python_api.html#xgboost.XGBRegressor) class.  Use what you learned in the previous tutorial to figure out how to change the default parameters (like `n_estimators` and `learning_rate`) to design a model to get high MAE.\n",
    "- Then, fit the model to the training data in `X_train` and `y_train`.\n",
    "- Set `predictions_3` to the model's predictions for the validation data.  Recall that the validation features are stored in `X_valid`.\n",
    "- Finally, use the `mean_absolute_error()` function to calculate the mean absolute error (MAE) corresponding to the predictions on the validation set.  Recall that the labels for the validation data are stored in `y_valid`.\n",
    "\n",
    "In order for this step to be marked correct, your model in `my_model_3` must attain higher MAE than the model in `my_model_1`. "
   ]
  },
  {
   "cell_type": "code",
   "execution_count": 17,
   "id": "e458cc9c",
   "metadata": {
    "execution": {
     "iopub.execute_input": "2023-06-20T20:09:04.426975Z",
     "iopub.status.busy": "2023-06-20T20:09:04.426413Z",
     "iopub.status.idle": "2023-06-20T20:09:04.974312Z",
     "shell.execute_reply": "2023-06-20T20:09:04.973478Z"
    },
    "papermill": {
     "duration": 0.562286,
     "end_time": "2023-06-20T20:09:04.976786",
     "exception": false,
     "start_time": "2023-06-20T20:09:04.414500",
     "status": "completed"
    },
    "tags": []
   },
   "outputs": [
    {
     "data": {
      "application/javascript": [
       "parent.postMessage({\"jupyterEvent\": \"custom.exercise_interaction\", \"data\": {\"outcomeType\": 1, \"valueTowardsCompletion\": 0.5, \"interactionType\": 1, \"questionType\": 2, \"questionId\": \"3_Model3\", \"learnToolsVersion\": \"0.3.4\", \"failureMessage\": \"\", \"exceptionClass\": \"\", \"trace\": \"\"}}, \"*\")"
      ],
      "text/plain": [
       "<IPython.core.display.Javascript object>"
      ]
     },
     "metadata": {},
     "output_type": "display_data"
    },
    {
     "data": {
      "text/markdown": [
       "<span style=\"color:#33cc33\">Correct</span>"
      ],
      "text/plain": [
       "Correct"
      ]
     },
     "metadata": {},
     "output_type": "display_data"
    }
   ],
   "source": [
    "# Define the model\n",
    "my_model_3 = XGBRegressor(n_estimators=61, learning_rate=.05,random_state=0)\n",
    "\n",
    "# Fit the model\n",
    "my_model_3.fit(X_train,y_train)\n",
    "____ # Your code here\n",
    "\n",
    "# Get predictions\n",
    "predictions_3 = my_model_3.predict(X_valid)\n",
    "\n",
    "# Calculate MAE\n",
    "mae_3 = mean_absolute_error(predictions_3,y_valid)\n",
    "\n",
    "# Uncomment to print MAE\n",
    "# print(\"Mean Absolute Error:\" , mae_3)\n",
    "\n",
    "# Check your answer\n",
    "step_3.check()"
   ]
  },
  {
   "cell_type": "code",
   "execution_count": 18,
   "id": "b6c15605",
   "metadata": {
    "execution": {
     "iopub.execute_input": "2023-06-20T20:09:05.001849Z",
     "iopub.status.busy": "2023-06-20T20:09:05.001489Z",
     "iopub.status.idle": "2023-06-20T20:09:05.013248Z",
     "shell.execute_reply": "2023-06-20T20:09:05.012328Z"
    },
    "papermill": {
     "duration": 0.026617,
     "end_time": "2023-06-20T20:09:05.015588",
     "exception": false,
     "start_time": "2023-06-20T20:09:04.988971",
     "status": "completed"
    },
    "tags": []
   },
   "outputs": [
    {
     "data": {
      "application/javascript": [
       "parent.postMessage({\"jupyterEvent\": \"custom.exercise_interaction\", \"data\": {\"interactionType\": 2, \"questionType\": 2, \"questionId\": \"3_Model3\", \"learnToolsVersion\": \"0.3.4\", \"valueTowardsCompletion\": 0.0, \"failureMessage\": \"\", \"exceptionClass\": \"\", \"trace\": \"\", \"outcomeType\": 4}}, \"*\")"
      ],
      "text/plain": [
       "<IPython.core.display.Javascript object>"
      ]
     },
     "metadata": {},
     "output_type": "display_data"
    },
    {
     "data": {
      "text/markdown": [
       "<span style=\"color:#3366cc\">Hint:</span> In the official solution for this problem, we chose to greatly decrease the number of trees in the model by tinkering with the `n_estimators` parameter."
      ],
      "text/plain": [
       "Hint: In the official solution for this problem, we chose to greatly decrease the number of trees in the model by tinkering with the `n_estimators` parameter."
      ]
     },
     "metadata": {},
     "output_type": "display_data"
    },
    {
     "data": {
      "application/javascript": [
       "parent.postMessage({\"jupyterEvent\": \"custom.exercise_interaction\", \"data\": {\"interactionType\": 3, \"questionType\": 2, \"questionId\": \"3_Model3\", \"learnToolsVersion\": \"0.3.4\", \"valueTowardsCompletion\": 0.0, \"failureMessage\": \"\", \"exceptionClass\": \"\", \"trace\": \"\", \"outcomeType\": 4}}, \"*\")"
      ],
      "text/plain": [
       "<IPython.core.display.Javascript object>"
      ]
     },
     "metadata": {},
     "output_type": "display_data"
    },
    {
     "data": {
      "text/markdown": [
       "<span style=\"color:#33cc99\">Solution:</span> \n",
       "```python\n",
       "# Define the model\n",
       "my_model_3 = XGBRegressor(n_estimators=1)\n",
       "\n",
       "# Fit the model\n",
       "my_model_3.fit(X_train, y_train)\n",
       "\n",
       "# Get predictions\n",
       "predictions_3 = my_model_3.predict(X_valid)\n",
       "\n",
       "# Calculate MAE\n",
       "mae_3 = mean_absolute_error(predictions_3, y_valid)\n",
       "print(\"Mean Absolute Error:\" , mae_3)\n",
       "\n",
       "```"
      ],
      "text/plain": [
       "Solution: \n",
       "```python\n",
       "# Define the model\n",
       "my_model_3 = XGBRegressor(n_estimators=1)\n",
       "\n",
       "# Fit the model\n",
       "my_model_3.fit(X_train, y_train)\n",
       "\n",
       "# Get predictions\n",
       "predictions_3 = my_model_3.predict(X_valid)\n",
       "\n",
       "# Calculate MAE\n",
       "mae_3 = mean_absolute_error(predictions_3, y_valid)\n",
       "print(\"Mean Absolute Error:\" , mae_3)\n",
       "\n",
       "```"
      ]
     },
     "metadata": {},
     "output_type": "display_data"
    }
   ],
   "source": [
    "# Lines below will give you a hint or solution code\n",
    "step_3.hint()\n",
    "step_3.solution()"
   ]
  },
  {
   "cell_type": "markdown",
   "id": "51daf9ce",
   "metadata": {
    "papermill": {
     "duration": 0.011467,
     "end_time": "2023-06-20T20:09:05.038630",
     "exception": false,
     "start_time": "2023-06-20T20:09:05.027163",
     "status": "completed"
    },
    "tags": []
   },
   "source": [
    "# Keep going\n",
    "\n",
    "Continue to learn about **[data leakage](https://www.kaggle.com/alexisbcook/data-leakage)**.  This is an important issue for a data scientist to understand, and it has the potential to ruin your models in subtle and dangerous ways!"
   ]
  },
  {
   "cell_type": "markdown",
   "id": "57fb123e",
   "metadata": {
    "papermill": {
     "duration": 0.011,
     "end_time": "2023-06-20T20:09:05.061122",
     "exception": false,
     "start_time": "2023-06-20T20:09:05.050122",
     "status": "completed"
    },
    "tags": []
   },
   "source": [
    "---\n",
    "\n",
    "\n",
    "\n",
    "\n",
    "*Have questions or comments? Visit the [course discussion forum](https://www.kaggle.com/learn/intermediate-machine-learning/discussion) to chat with other learners.*"
   ]
  }
 ],
 "metadata": {
  "kernelspec": {
   "display_name": "Python 3",
   "language": "python",
   "name": "python3"
  },
  "language_info": {
   "codemirror_mode": {
    "name": "ipython",
    "version": 3
   },
   "file_extension": ".py",
   "mimetype": "text/x-python",
   "name": "python",
   "nbconvert_exporter": "python",
   "pygments_lexer": "ipython3",
   "version": "3.10.10"
  },
  "papermill": {
   "default_parameters": {},
   "duration": 40.797203,
   "end_time": "2023-06-20T20:09:05.994751",
   "environment_variables": {},
   "exception": null,
   "input_path": "__notebook__.ipynb",
   "output_path": "__notebook__.ipynb",
   "parameters": {},
   "start_time": "2023-06-20T20:08:25.197548",
   "version": "2.4.0"
  }
 },
 "nbformat": 4,
 "nbformat_minor": 5
}
