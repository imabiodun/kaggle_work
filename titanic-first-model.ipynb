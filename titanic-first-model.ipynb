{
 "cells": [
  {
   "cell_type": "code",
   "execution_count": 1,
   "id": "021820ff",
   "metadata": {
    "_cell_guid": "b1076dfc-b9ad-4769-8c92-a6c4dae69d19",
    "_uuid": "8f2839f25d086af736a60e9eeb907d3b93b6e0e5",
    "execution": {
     "iopub.execute_input": "2023-05-29T10:36:13.713688Z",
     "iopub.status.busy": "2023-05-29T10:36:13.713304Z",
     "iopub.status.idle": "2023-05-29T10:36:13.728542Z",
     "shell.execute_reply": "2023-05-29T10:36:13.727105Z"
    },
    "papermill": {
     "duration": 0.027167,
     "end_time": "2023-05-29T10:36:13.730846",
     "exception": false,
     "start_time": "2023-05-29T10:36:13.703679",
     "status": "completed"
    },
    "tags": []
   },
   "outputs": [
    {
     "name": "stdout",
     "output_type": "stream",
     "text": [
      "/kaggle/input/titanic/train.csv\n",
      "/kaggle/input/titanic/test.csv\n",
      "/kaggle/input/titanic/gender_submission.csv\n"
     ]
    }
   ],
   "source": [
    "# This Python 3 environment comes with many helpful analytics libraries installed\n",
    "# It is defined by the kaggle/python Docker image: https://github.com/kaggle/docker-python\n",
    "# For example, here's several helpful packages to load\n",
    "\n",
    "import numpy as np # linear algebra\n",
    "import pandas as pd # data processing, CSV file I/O (e.g. pd.read_csv)\n",
    "import matplotlib.pyplot as plt\n",
    "\n",
    "# Input data files are available in the read-only \"../input/\" directory\n",
    "# For example, running this (by clicking run or pressing Shift+Enter) will list all files under the input directory\n",
    "\n",
    "import os\n",
    "for dirname, _, filenames in os.walk('/kaggle/input'):\n",
    "    for filename in filenames:\n",
    "        print(os.path.join(dirname, filename))\n",
    "\n",
    "# You can write up to 20GB to the current directory (/kaggle/working/) that gets preserved as output when you create a version using \"Save & Run All\" \n",
    "# You can also write temporary files to /kaggle/temp/, but they won't be saved outside of the current session"
   ]
  },
  {
   "cell_type": "code",
   "execution_count": 2,
   "id": "5cad44ee",
   "metadata": {
    "execution": {
     "iopub.execute_input": "2023-05-29T10:36:13.748203Z",
     "iopub.status.busy": "2023-05-29T10:36:13.747409Z",
     "iopub.status.idle": "2023-05-29T10:36:13.794571Z",
     "shell.execute_reply": "2023-05-29T10:36:13.793423Z"
    },
    "papermill": {
     "duration": 0.058848,
     "end_time": "2023-05-29T10:36:13.797458",
     "exception": false,
     "start_time": "2023-05-29T10:36:13.738610",
     "status": "completed"
    },
    "tags": []
   },
   "outputs": [],
   "source": [
    "titanic_train= pd.read_csv('/kaggle/input/titanic/train.csv')\n",
    "titanic_test= pd.read_csv('/kaggle/input/titanic/test.csv')\n",
    "titanic_gender= pd.read_csv('/kaggle/input/titanic/gender_submission.csv')"
   ]
  },
  {
   "cell_type": "code",
   "execution_count": 3,
   "id": "3896d633",
   "metadata": {
    "execution": {
     "iopub.execute_input": "2023-05-29T10:36:13.814200Z",
     "iopub.status.busy": "2023-05-29T10:36:13.813782Z",
     "iopub.status.idle": "2023-05-29T10:36:13.848371Z",
     "shell.execute_reply": "2023-05-29T10:36:13.846975Z"
    },
    "papermill": {
     "duration": 0.046053,
     "end_time": "2023-05-29T10:36:13.850936",
     "exception": false,
     "start_time": "2023-05-29T10:36:13.804883",
     "status": "completed"
    },
    "tags": []
   },
   "outputs": [
    {
     "name": "stdout",
     "output_type": "stream",
     "text": [
      "<class 'pandas.core.frame.DataFrame'>\n",
      "RangeIndex: 891 entries, 0 to 890\n",
      "Data columns (total 12 columns):\n",
      " #   Column       Non-Null Count  Dtype  \n",
      "---  ------       --------------  -----  \n",
      " 0   PassengerId  891 non-null    int64  \n",
      " 1   Survived     891 non-null    int64  \n",
      " 2   Pclass       891 non-null    int64  \n",
      " 3   Name         891 non-null    object \n",
      " 4   Sex          891 non-null    object \n",
      " 5   Age          714 non-null    float64\n",
      " 6   SibSp        891 non-null    int64  \n",
      " 7   Parch        891 non-null    int64  \n",
      " 8   Ticket       891 non-null    object \n",
      " 9   Fare         891 non-null    float64\n",
      " 10  Cabin        204 non-null    object \n",
      " 11  Embarked     889 non-null    object \n",
      "dtypes: float64(2), int64(5), object(5)\n",
      "memory usage: 83.7+ KB\n"
     ]
    }
   ],
   "source": [
    "titanic_train.info()"
   ]
  },
  {
   "cell_type": "code",
   "execution_count": 4,
   "id": "f717d898",
   "metadata": {
    "execution": {
     "iopub.execute_input": "2023-05-29T10:36:13.867732Z",
     "iopub.status.busy": "2023-05-29T10:36:13.867354Z",
     "iopub.status.idle": "2023-05-29T10:36:13.898855Z",
     "shell.execute_reply": "2023-05-29T10:36:13.897754Z"
    },
    "papermill": {
     "duration": 0.04287,
     "end_time": "2023-05-29T10:36:13.901378",
     "exception": false,
     "start_time": "2023-05-29T10:36:13.858508",
     "status": "completed"
    },
    "tags": []
   },
   "outputs": [
    {
     "data": {
      "text/html": [
       "<div>\n",
       "<style scoped>\n",
       "    .dataframe tbody tr th:only-of-type {\n",
       "        vertical-align: middle;\n",
       "    }\n",
       "\n",
       "    .dataframe tbody tr th {\n",
       "        vertical-align: top;\n",
       "    }\n",
       "\n",
       "    .dataframe thead th {\n",
       "        text-align: right;\n",
       "    }\n",
       "</style>\n",
       "<table border=\"1\" class=\"dataframe\">\n",
       "  <thead>\n",
       "    <tr style=\"text-align: right;\">\n",
       "      <th></th>\n",
       "      <th>PassengerId</th>\n",
       "      <th>Survived</th>\n",
       "      <th>Pclass</th>\n",
       "      <th>Name</th>\n",
       "      <th>Sex</th>\n",
       "      <th>Age</th>\n",
       "      <th>SibSp</th>\n",
       "      <th>Parch</th>\n",
       "      <th>Ticket</th>\n",
       "      <th>Fare</th>\n",
       "      <th>Cabin</th>\n",
       "      <th>Embarked</th>\n",
       "    </tr>\n",
       "  </thead>\n",
       "  <tbody>\n",
       "    <tr>\n",
       "      <th>0</th>\n",
       "      <td>1</td>\n",
       "      <td>0</td>\n",
       "      <td>3</td>\n",
       "      <td>Braund, Mr. Owen Harris</td>\n",
       "      <td>male</td>\n",
       "      <td>22.0</td>\n",
       "      <td>1</td>\n",
       "      <td>0</td>\n",
       "      <td>A/5 21171</td>\n",
       "      <td>7.2500</td>\n",
       "      <td>NaN</td>\n",
       "      <td>S</td>\n",
       "    </tr>\n",
       "    <tr>\n",
       "      <th>1</th>\n",
       "      <td>2</td>\n",
       "      <td>1</td>\n",
       "      <td>1</td>\n",
       "      <td>Cumings, Mrs. John Bradley (Florence Briggs Th...</td>\n",
       "      <td>female</td>\n",
       "      <td>38.0</td>\n",
       "      <td>1</td>\n",
       "      <td>0</td>\n",
       "      <td>PC 17599</td>\n",
       "      <td>71.2833</td>\n",
       "      <td>C85</td>\n",
       "      <td>C</td>\n",
       "    </tr>\n",
       "    <tr>\n",
       "      <th>2</th>\n",
       "      <td>3</td>\n",
       "      <td>1</td>\n",
       "      <td>3</td>\n",
       "      <td>Heikkinen, Miss. Laina</td>\n",
       "      <td>female</td>\n",
       "      <td>26.0</td>\n",
       "      <td>0</td>\n",
       "      <td>0</td>\n",
       "      <td>STON/O2. 3101282</td>\n",
       "      <td>7.9250</td>\n",
       "      <td>NaN</td>\n",
       "      <td>S</td>\n",
       "    </tr>\n",
       "    <tr>\n",
       "      <th>3</th>\n",
       "      <td>4</td>\n",
       "      <td>1</td>\n",
       "      <td>1</td>\n",
       "      <td>Futrelle, Mrs. Jacques Heath (Lily May Peel)</td>\n",
       "      <td>female</td>\n",
       "      <td>35.0</td>\n",
       "      <td>1</td>\n",
       "      <td>0</td>\n",
       "      <td>113803</td>\n",
       "      <td>53.1000</td>\n",
       "      <td>C123</td>\n",
       "      <td>S</td>\n",
       "    </tr>\n",
       "    <tr>\n",
       "      <th>4</th>\n",
       "      <td>5</td>\n",
       "      <td>0</td>\n",
       "      <td>3</td>\n",
       "      <td>Allen, Mr. William Henry</td>\n",
       "      <td>male</td>\n",
       "      <td>35.0</td>\n",
       "      <td>0</td>\n",
       "      <td>0</td>\n",
       "      <td>373450</td>\n",
       "      <td>8.0500</td>\n",
       "      <td>NaN</td>\n",
       "      <td>S</td>\n",
       "    </tr>\n",
       "  </tbody>\n",
       "</table>\n",
       "</div>"
      ],
      "text/plain": [
       "   PassengerId  Survived  Pclass  \\\n",
       "0            1         0       3   \n",
       "1            2         1       1   \n",
       "2            3         1       3   \n",
       "3            4         1       1   \n",
       "4            5         0       3   \n",
       "\n",
       "                                                Name     Sex   Age  SibSp  \\\n",
       "0                            Braund, Mr. Owen Harris    male  22.0      1   \n",
       "1  Cumings, Mrs. John Bradley (Florence Briggs Th...  female  38.0      1   \n",
       "2                             Heikkinen, Miss. Laina  female  26.0      0   \n",
       "3       Futrelle, Mrs. Jacques Heath (Lily May Peel)  female  35.0      1   \n",
       "4                           Allen, Mr. William Henry    male  35.0      0   \n",
       "\n",
       "   Parch            Ticket     Fare Cabin Embarked  \n",
       "0      0         A/5 21171   7.2500   NaN        S  \n",
       "1      0          PC 17599  71.2833   C85        C  \n",
       "2      0  STON/O2. 3101282   7.9250   NaN        S  \n",
       "3      0            113803  53.1000  C123        S  \n",
       "4      0            373450   8.0500   NaN        S  "
      ]
     },
     "execution_count": 4,
     "metadata": {},
     "output_type": "execute_result"
    }
   ],
   "source": [
    "titanic_train.head()"
   ]
  },
  {
   "cell_type": "code",
   "execution_count": 5,
   "id": "67e10454",
   "metadata": {
    "execution": {
     "iopub.execute_input": "2023-05-29T10:36:13.921520Z",
     "iopub.status.busy": "2023-05-29T10:36:13.920607Z",
     "iopub.status.idle": "2023-05-29T10:36:13.937904Z",
     "shell.execute_reply": "2023-05-29T10:36:13.937092Z"
    },
    "papermill": {
     "duration": 0.030741,
     "end_time": "2023-05-29T10:36:13.940392",
     "exception": false,
     "start_time": "2023-05-29T10:36:13.909651",
     "status": "completed"
    },
    "tags": []
   },
   "outputs": [
    {
     "data": {
      "text/html": [
       "<div>\n",
       "<style scoped>\n",
       "    .dataframe tbody tr th:only-of-type {\n",
       "        vertical-align: middle;\n",
       "    }\n",
       "\n",
       "    .dataframe tbody tr th {\n",
       "        vertical-align: top;\n",
       "    }\n",
       "\n",
       "    .dataframe thead th {\n",
       "        text-align: right;\n",
       "    }\n",
       "</style>\n",
       "<table border=\"1\" class=\"dataframe\">\n",
       "  <thead>\n",
       "    <tr style=\"text-align: right;\">\n",
       "      <th></th>\n",
       "      <th>PassengerId</th>\n",
       "      <th>Pclass</th>\n",
       "      <th>Name</th>\n",
       "      <th>Sex</th>\n",
       "      <th>Age</th>\n",
       "      <th>SibSp</th>\n",
       "      <th>Parch</th>\n",
       "      <th>Ticket</th>\n",
       "      <th>Fare</th>\n",
       "      <th>Cabin</th>\n",
       "      <th>Embarked</th>\n",
       "    </tr>\n",
       "  </thead>\n",
       "  <tbody>\n",
       "    <tr>\n",
       "      <th>0</th>\n",
       "      <td>892</td>\n",
       "      <td>3</td>\n",
       "      <td>Kelly, Mr. James</td>\n",
       "      <td>male</td>\n",
       "      <td>34.5</td>\n",
       "      <td>0</td>\n",
       "      <td>0</td>\n",
       "      <td>330911</td>\n",
       "      <td>7.8292</td>\n",
       "      <td>NaN</td>\n",
       "      <td>Q</td>\n",
       "    </tr>\n",
       "    <tr>\n",
       "      <th>1</th>\n",
       "      <td>893</td>\n",
       "      <td>3</td>\n",
       "      <td>Wilkes, Mrs. James (Ellen Needs)</td>\n",
       "      <td>female</td>\n",
       "      <td>47.0</td>\n",
       "      <td>1</td>\n",
       "      <td>0</td>\n",
       "      <td>363272</td>\n",
       "      <td>7.0000</td>\n",
       "      <td>NaN</td>\n",
       "      <td>S</td>\n",
       "    </tr>\n",
       "    <tr>\n",
       "      <th>2</th>\n",
       "      <td>894</td>\n",
       "      <td>2</td>\n",
       "      <td>Myles, Mr. Thomas Francis</td>\n",
       "      <td>male</td>\n",
       "      <td>62.0</td>\n",
       "      <td>0</td>\n",
       "      <td>0</td>\n",
       "      <td>240276</td>\n",
       "      <td>9.6875</td>\n",
       "      <td>NaN</td>\n",
       "      <td>Q</td>\n",
       "    </tr>\n",
       "    <tr>\n",
       "      <th>3</th>\n",
       "      <td>895</td>\n",
       "      <td>3</td>\n",
       "      <td>Wirz, Mr. Albert</td>\n",
       "      <td>male</td>\n",
       "      <td>27.0</td>\n",
       "      <td>0</td>\n",
       "      <td>0</td>\n",
       "      <td>315154</td>\n",
       "      <td>8.6625</td>\n",
       "      <td>NaN</td>\n",
       "      <td>S</td>\n",
       "    </tr>\n",
       "    <tr>\n",
       "      <th>4</th>\n",
       "      <td>896</td>\n",
       "      <td>3</td>\n",
       "      <td>Hirvonen, Mrs. Alexander (Helga E Lindqvist)</td>\n",
       "      <td>female</td>\n",
       "      <td>22.0</td>\n",
       "      <td>1</td>\n",
       "      <td>1</td>\n",
       "      <td>3101298</td>\n",
       "      <td>12.2875</td>\n",
       "      <td>NaN</td>\n",
       "      <td>S</td>\n",
       "    </tr>\n",
       "  </tbody>\n",
       "</table>\n",
       "</div>"
      ],
      "text/plain": [
       "   PassengerId  Pclass                                          Name     Sex  \\\n",
       "0          892       3                              Kelly, Mr. James    male   \n",
       "1          893       3              Wilkes, Mrs. James (Ellen Needs)  female   \n",
       "2          894       2                     Myles, Mr. Thomas Francis    male   \n",
       "3          895       3                              Wirz, Mr. Albert    male   \n",
       "4          896       3  Hirvonen, Mrs. Alexander (Helga E Lindqvist)  female   \n",
       "\n",
       "    Age  SibSp  Parch   Ticket     Fare Cabin Embarked  \n",
       "0  34.5      0      0   330911   7.8292   NaN        Q  \n",
       "1  47.0      1      0   363272   7.0000   NaN        S  \n",
       "2  62.0      0      0   240276   9.6875   NaN        Q  \n",
       "3  27.0      0      0   315154   8.6625   NaN        S  \n",
       "4  22.0      1      1  3101298  12.2875   NaN        S  "
      ]
     },
     "execution_count": 5,
     "metadata": {},
     "output_type": "execute_result"
    }
   ],
   "source": [
    "titanic_test.head()"
   ]
  },
  {
   "cell_type": "code",
   "execution_count": 6,
   "id": "53f93f0c",
   "metadata": {
    "execution": {
     "iopub.execute_input": "2023-05-29T10:36:13.958827Z",
     "iopub.status.busy": "2023-05-29T10:36:13.958433Z",
     "iopub.status.idle": "2023-05-29T10:36:13.968472Z",
     "shell.execute_reply": "2023-05-29T10:36:13.967206Z"
    },
    "papermill": {
     "duration": 0.022053,
     "end_time": "2023-05-29T10:36:13.970761",
     "exception": false,
     "start_time": "2023-05-29T10:36:13.948708",
     "status": "completed"
    },
    "tags": []
   },
   "outputs": [],
   "source": [
    "survived_women= titanic_train.loc[titanic_train['Sex']=='female']['Survived']\n",
    "# np.array(survived_women)"
   ]
  },
  {
   "cell_type": "code",
   "execution_count": 7,
   "id": "183bc9f0",
   "metadata": {
    "execution": {
     "iopub.execute_input": "2023-05-29T10:36:13.989268Z",
     "iopub.status.busy": "2023-05-29T10:36:13.988509Z",
     "iopub.status.idle": "2023-05-29T10:36:13.995436Z",
     "shell.execute_reply": "2023-05-29T10:36:13.994450Z"
    },
    "papermill": {
     "duration": 0.018506,
     "end_time": "2023-05-29T10:36:13.997609",
     "exception": false,
     "start_time": "2023-05-29T10:36:13.979103",
     "status": "completed"
    },
    "tags": []
   },
   "outputs": [],
   "source": [
    "survived_men =titanic_train.loc[titanic_train['Sex']=='male']['Survived']"
   ]
  },
  {
   "cell_type": "code",
   "execution_count": 8,
   "id": "11beca1a",
   "metadata": {
    "execution": {
     "iopub.execute_input": "2023-05-29T10:36:14.016208Z",
     "iopub.status.busy": "2023-05-29T10:36:14.015508Z",
     "iopub.status.idle": "2023-05-29T10:36:14.023186Z",
     "shell.execute_reply": "2023-05-29T10:36:14.021794Z"
    },
    "papermill": {
     "duration": 0.019717,
     "end_time": "2023-05-29T10:36:14.025475",
     "exception": false,
     "start_time": "2023-05-29T10:36:14.005758",
     "status": "completed"
    },
    "tags": []
   },
   "outputs": [
    {
     "name": "stdout",
     "output_type": "stream",
     "text": [
      "CPU times: user 4 µs, sys: 0 ns, total: 4 µs\n",
      "Wall time: 7.87 µs\n",
      "The percentage of survived women is  74.2 %\n"
     ]
    }
   ],
   "source": [
    "%time\n",
    "print('The percentage of survived women is ', round(sum((survived_women)/len(survived_women)*100),2),'%')"
   ]
  },
  {
   "cell_type": "code",
   "execution_count": 9,
   "id": "d0d0d04a",
   "metadata": {
    "execution": {
     "iopub.execute_input": "2023-05-29T10:36:14.044236Z",
     "iopub.status.busy": "2023-05-29T10:36:14.043528Z",
     "iopub.status.idle": "2023-05-29T10:36:14.053353Z",
     "shell.execute_reply": "2023-05-29T10:36:14.052212Z"
    },
    "papermill": {
     "duration": 0.021923,
     "end_time": "2023-05-29T10:36:14.055590",
     "exception": false,
     "start_time": "2023-05-29T10:36:14.033667",
     "status": "completed"
    },
    "tags": []
   },
   "outputs": [
    {
     "name": "stdout",
     "output_type": "stream",
     "text": [
      "CPU times: user 237 µs, sys: 26 µs, total: 263 µs\n",
      "Wall time: 270 µs\n"
     ]
    },
    {
     "data": {
      "text/plain": [
       "0.7420382165605095"
      ]
     },
     "execution_count": 9,
     "metadata": {},
     "output_type": "execute_result"
    }
   ],
   "source": [
    "%%time\n",
    "survived_women.sum()/survived_women.count()"
   ]
  },
  {
   "cell_type": "code",
   "execution_count": 10,
   "id": "596d4b17",
   "metadata": {
    "execution": {
     "iopub.execute_input": "2023-05-29T10:36:14.075455Z",
     "iopub.status.busy": "2023-05-29T10:36:14.074303Z",
     "iopub.status.idle": "2023-05-29T10:36:14.082692Z",
     "shell.execute_reply": "2023-05-29T10:36:14.080976Z"
    },
    "papermill": {
     "duration": 0.021049,
     "end_time": "2023-05-29T10:36:14.085423",
     "exception": false,
     "start_time": "2023-05-29T10:36:14.064374",
     "status": "completed"
    },
    "tags": []
   },
   "outputs": [
    {
     "name": "stdout",
     "output_type": "stream",
     "text": [
      "CPU times: user 3 µs, sys: 0 ns, total: 3 µs\n",
      "Wall time: 8.58 µs\n",
      "The percentage of survived women is  74.2 %\n"
     ]
    }
   ],
   "source": [
    "%time\n",
    "print('The percentage of survived women is ', round(sum((survived_women)/len(survived_women)*100),2),'%')"
   ]
  },
  {
   "cell_type": "code",
   "execution_count": 11,
   "id": "46723b60",
   "metadata": {
    "execution": {
     "iopub.execute_input": "2023-05-29T10:36:14.104936Z",
     "iopub.status.busy": "2023-05-29T10:36:14.104523Z",
     "iopub.status.idle": "2023-05-29T10:36:14.111262Z",
     "shell.execute_reply": "2023-05-29T10:36:14.110462Z"
    },
    "papermill": {
     "duration": 0.019593,
     "end_time": "2023-05-29T10:36:14.113767",
     "exception": false,
     "start_time": "2023-05-29T10:36:14.094174",
     "status": "completed"
    },
    "tags": []
   },
   "outputs": [
    {
     "name": "stdout",
     "output_type": "stream",
     "text": [
      "CPU times: user 5 µs, sys: 1 µs, total: 6 µs\n",
      "Wall time: 8.82 µs\n",
      "The percentage of survived men is  18.89 %\n"
     ]
    }
   ],
   "source": [
    "%time\n",
    "print('The percentage of survived men is ', round(sum((survived_men)/len(survived_men)*100),2),'%')"
   ]
  },
  {
   "cell_type": "code",
   "execution_count": 12,
   "id": "6602ebd9",
   "metadata": {
    "execution": {
     "iopub.execute_input": "2023-05-29T10:36:14.133813Z",
     "iopub.status.busy": "2023-05-29T10:36:14.133136Z",
     "iopub.status.idle": "2023-05-29T10:36:14.170354Z",
     "shell.execute_reply": "2023-05-29T10:36:14.169052Z"
    },
    "papermill": {
     "duration": 0.050757,
     "end_time": "2023-05-29T10:36:14.173305",
     "exception": false,
     "start_time": "2023-05-29T10:36:14.122548",
     "status": "completed"
    },
    "tags": []
   },
   "outputs": [
    {
     "data": {
      "text/html": [
       "<div>\n",
       "<style scoped>\n",
       "    .dataframe tbody tr th:only-of-type {\n",
       "        vertical-align: middle;\n",
       "    }\n",
       "\n",
       "    .dataframe tbody tr th {\n",
       "        vertical-align: top;\n",
       "    }\n",
       "\n",
       "    .dataframe thead th {\n",
       "        text-align: right;\n",
       "    }\n",
       "</style>\n",
       "<table border=\"1\" class=\"dataframe\">\n",
       "  <thead>\n",
       "    <tr style=\"text-align: right;\">\n",
       "      <th></th>\n",
       "      <th>PassengerId</th>\n",
       "      <th>Survived</th>\n",
       "      <th>Pclass</th>\n",
       "      <th>Age</th>\n",
       "      <th>SibSp</th>\n",
       "      <th>Parch</th>\n",
       "      <th>Fare</th>\n",
       "    </tr>\n",
       "  </thead>\n",
       "  <tbody>\n",
       "    <tr>\n",
       "      <th>count</th>\n",
       "      <td>891.000000</td>\n",
       "      <td>891.000000</td>\n",
       "      <td>891.000000</td>\n",
       "      <td>714.000000</td>\n",
       "      <td>891.000000</td>\n",
       "      <td>891.000000</td>\n",
       "      <td>891.000000</td>\n",
       "    </tr>\n",
       "    <tr>\n",
       "      <th>mean</th>\n",
       "      <td>446.000000</td>\n",
       "      <td>0.383838</td>\n",
       "      <td>2.308642</td>\n",
       "      <td>29.699118</td>\n",
       "      <td>0.523008</td>\n",
       "      <td>0.381594</td>\n",
       "      <td>32.204208</td>\n",
       "    </tr>\n",
       "    <tr>\n",
       "      <th>std</th>\n",
       "      <td>257.353842</td>\n",
       "      <td>0.486592</td>\n",
       "      <td>0.836071</td>\n",
       "      <td>14.526497</td>\n",
       "      <td>1.102743</td>\n",
       "      <td>0.806057</td>\n",
       "      <td>49.693429</td>\n",
       "    </tr>\n",
       "    <tr>\n",
       "      <th>min</th>\n",
       "      <td>1.000000</td>\n",
       "      <td>0.000000</td>\n",
       "      <td>1.000000</td>\n",
       "      <td>0.420000</td>\n",
       "      <td>0.000000</td>\n",
       "      <td>0.000000</td>\n",
       "      <td>0.000000</td>\n",
       "    </tr>\n",
       "    <tr>\n",
       "      <th>25%</th>\n",
       "      <td>223.500000</td>\n",
       "      <td>0.000000</td>\n",
       "      <td>2.000000</td>\n",
       "      <td>20.125000</td>\n",
       "      <td>0.000000</td>\n",
       "      <td>0.000000</td>\n",
       "      <td>7.910400</td>\n",
       "    </tr>\n",
       "    <tr>\n",
       "      <th>50%</th>\n",
       "      <td>446.000000</td>\n",
       "      <td>0.000000</td>\n",
       "      <td>3.000000</td>\n",
       "      <td>28.000000</td>\n",
       "      <td>0.000000</td>\n",
       "      <td>0.000000</td>\n",
       "      <td>14.454200</td>\n",
       "    </tr>\n",
       "    <tr>\n",
       "      <th>75%</th>\n",
       "      <td>668.500000</td>\n",
       "      <td>1.000000</td>\n",
       "      <td>3.000000</td>\n",
       "      <td>38.000000</td>\n",
       "      <td>1.000000</td>\n",
       "      <td>0.000000</td>\n",
       "      <td>31.000000</td>\n",
       "    </tr>\n",
       "    <tr>\n",
       "      <th>max</th>\n",
       "      <td>891.000000</td>\n",
       "      <td>1.000000</td>\n",
       "      <td>3.000000</td>\n",
       "      <td>80.000000</td>\n",
       "      <td>8.000000</td>\n",
       "      <td>6.000000</td>\n",
       "      <td>512.329200</td>\n",
       "    </tr>\n",
       "  </tbody>\n",
       "</table>\n",
       "</div>"
      ],
      "text/plain": [
       "       PassengerId    Survived      Pclass         Age       SibSp  \\\n",
       "count   891.000000  891.000000  891.000000  714.000000  891.000000   \n",
       "mean    446.000000    0.383838    2.308642   29.699118    0.523008   \n",
       "std     257.353842    0.486592    0.836071   14.526497    1.102743   \n",
       "min       1.000000    0.000000    1.000000    0.420000    0.000000   \n",
       "25%     223.500000    0.000000    2.000000   20.125000    0.000000   \n",
       "50%     446.000000    0.000000    3.000000   28.000000    0.000000   \n",
       "75%     668.500000    1.000000    3.000000   38.000000    1.000000   \n",
       "max     891.000000    1.000000    3.000000   80.000000    8.000000   \n",
       "\n",
       "            Parch        Fare  \n",
       "count  891.000000  891.000000  \n",
       "mean     0.381594   32.204208  \n",
       "std      0.806057   49.693429  \n",
       "min      0.000000    0.000000  \n",
       "25%      0.000000    7.910400  \n",
       "50%      0.000000   14.454200  \n",
       "75%      0.000000   31.000000  \n",
       "max      6.000000  512.329200  "
      ]
     },
     "execution_count": 12,
     "metadata": {},
     "output_type": "execute_result"
    }
   ],
   "source": [
    "titanic_train.describe()"
   ]
  },
  {
   "cell_type": "code",
   "execution_count": 13,
   "id": "c9f85891",
   "metadata": {
    "execution": {
     "iopub.execute_input": "2023-05-29T10:36:14.193675Z",
     "iopub.status.busy": "2023-05-29T10:36:14.193004Z",
     "iopub.status.idle": "2023-05-29T10:36:14.494211Z",
     "shell.execute_reply": "2023-05-29T10:36:14.493004Z"
    },
    "papermill": {
     "duration": 0.314395,
     "end_time": "2023-05-29T10:36:14.496900",
     "exception": false,
     "start_time": "2023-05-29T10:36:14.182505",
     "status": "completed"
    },
    "tags": []
   },
   "outputs": [
    {
     "data": {
      "image/png": "[encoded data removed]",
      "text/plain": [
       "<Figure size 300x600 with 1 Axes>"
      ]
     },
     "metadata": {},
     "output_type": "display_data"
    }
   ],
   "source": [
    "titanic_train.boxplot(column='Age',figsize=(3,6))\n",
    "plt.show()"
   ]
  },
  {
   "cell_type": "code",
   "execution_count": 14,
   "id": "abee4253",
   "metadata": {
    "execution": {
     "iopub.execute_input": "2023-05-29T10:36:14.517898Z",
     "iopub.status.busy": "2023-05-29T10:36:14.517517Z",
     "iopub.status.idle": "2023-05-29T10:36:15.077906Z",
     "shell.execute_reply": "2023-05-29T10:36:15.076523Z"
    },
    "papermill": {
     "duration": 0.573953,
     "end_time": "2023-05-29T10:36:15.080720",
     "exception": false,
     "start_time": "2023-05-29T10:36:14.506767",
     "status": "completed"
    },
    "tags": []
   },
   "outputs": [
    {
     "data": {
      "image/png": "[encoded data removed]",
      "text/plain": [
       "<Figure size 640x480 with 2 Axes>"
      ]
     },
     "metadata": {},
     "output_type": "display_data"
    }
   ],
   "source": [
    "titanic_train.plot.scatter(x='Age',y='Fare',c='Survived',colormap='viridis')\n",
    "plt.ylabel('Fare')\n",
    "plt.xlabel('Age')\n",
    "plt.title('Scatterplot of Fare against Age of the passengers')\n",
    "plt.show()"
   ]
  },
  {
   "cell_type": "code",
   "execution_count": null,
   "id": "146fbcf3",
   "metadata": {
    "papermill": {
     "duration": 0.010332,
     "end_time": "2023-05-29T10:36:15.101836",
     "exception": false,
     "start_time": "2023-05-29T10:36:15.091504",
     "status": "completed"
    },
    "tags": []
   },
   "outputs": [],
   "source": [
    "\n"
   ]
  },
  {
   "cell_type": "code",
   "execution_count": 15,
   "id": "1e768ff4",
   "metadata": {
    "execution": {
     "iopub.execute_input": "2023-05-29T10:36:15.124680Z",
     "iopub.status.busy": "2023-05-29T10:36:15.124286Z",
     "iopub.status.idle": "2023-05-29T10:36:16.938525Z",
     "shell.execute_reply": "2023-05-29T10:36:16.937272Z"
    },
    "papermill": {
     "duration": 1.828994,
     "end_time": "2023-05-29T10:36:16.941367",
     "exception": false,
     "start_time": "2023-05-29T10:36:15.112373",
     "status": "completed"
    },
    "tags": []
   },
   "outputs": [],
   "source": [
    "from sklearn.ensemble import RandomForestClassifier as RFC"
   ]
  },
  {
   "cell_type": "code",
   "execution_count": 16,
   "id": "11498f66",
   "metadata": {
    "execution": {
     "iopub.execute_input": "2023-05-29T10:36:16.964070Z",
     "iopub.status.busy": "2023-05-29T10:36:16.963619Z",
     "iopub.status.idle": "2023-05-29T10:36:16.978399Z",
     "shell.execute_reply": "2023-05-29T10:36:16.977302Z"
    },
    "papermill": {
     "duration": 0.028982,
     "end_time": "2023-05-29T10:36:16.980722",
     "exception": false,
     "start_time": "2023-05-29T10:36:16.951740",
     "status": "completed"
    },
    "tags": []
   },
   "outputs": [],
   "source": [
    "y_Survived=titanic_train['Survived']\n",
    "features=['Pclass','Parch','Sex','SibSp']\n",
    "y_train=pd.get_dummies(titanic_train[features])\n",
    "X_test=pd.get_dummies(titanic_test[features])"
   ]
  },
  {
   "cell_type": "code",
   "execution_count": 17,
   "id": "d0338f1f",
   "metadata": {
    "execution": {
     "iopub.execute_input": "2023-05-29T10:36:17.003347Z",
     "iopub.status.busy": "2023-05-29T10:36:17.002879Z",
     "iopub.status.idle": "2023-05-29T10:36:17.008186Z",
     "shell.execute_reply": "2023-05-29T10:36:17.007090Z"
    },
    "papermill": {
     "duration": 0.019562,
     "end_time": "2023-05-29T10:36:17.010729",
     "exception": false,
     "start_time": "2023-05-29T10:36:16.991167",
     "status": "completed"
    },
    "tags": []
   },
   "outputs": [],
   "source": [
    "model=RFC(n_estimators=100,random_state=1,max_depth=5)"
   ]
  },
  {
   "cell_type": "code",
   "execution_count": 18,
   "id": "16afedca",
   "metadata": {
    "execution": {
     "iopub.execute_input": "2023-05-29T10:36:17.033683Z",
     "iopub.status.busy": "2023-05-29T10:36:17.033273Z",
     "iopub.status.idle": "2023-05-29T10:36:17.289738Z",
     "shell.execute_reply": "2023-05-29T10:36:17.288692Z"
    },
    "papermill": {
     "duration": 0.270662,
     "end_time": "2023-05-29T10:36:17.292051",
     "exception": false,
     "start_time": "2023-05-29T10:36:17.021389",
     "status": "completed"
    },
    "tags": []
   },
   "outputs": [
    {
     "data": {
      "text/html": [
       "<style>#sk-container-id-1 {color: black;background-color: white;}#sk-container-id-1 pre{padding: 0;}#sk-container-id-1 div.sk-toggleable {background-color: white;}#sk-container-id-1 label.sk-toggleable__label {cursor: pointer;display: block;width: 100%;margin-bottom: 0;padding: 0.3em;box-sizing: border-box;text-align: center;}#sk-container-id-1 label.sk-toggleable__label-arrow:before {content: \"▸\";float: left;margin-right: 0.25em;color: #696969;}#sk-container-id-1 label.sk-toggleable__label-arrow:hover:before {color: black;}#sk-container-id-1 div.sk-estimator:hover label.sk-toggleable__label-arrow:before {color: black;}#sk-container-id-1 div.sk-toggleable__content {max-height: 0;max-width: 0;overflow: hidden;text-align: left;background-color: #f0f8ff;}#sk-container-id-1 div.sk-toggleable__content pre {margin: 0.2em;color: black;border-radius: 0.25em;background-color: #f0f8ff;}#sk-container-id-1 input.sk-toggleable__control:checked~div.sk-toggleable__content {max-height: 200px;max-width: 100%;overflow: auto;}#sk-container-id-1 input.sk-toggleable__control:checked~label.sk-toggleable__label-arrow:before {content: \"▾\";}#sk-container-id-1 div.sk-estimator input.sk-toggleable__control:checked~label.sk-toggleable__label {background-color: #d4ebff;}#sk-container-id-1 div.sk-label input.sk-toggleable__control:checked~label.sk-toggleable__label {background-color: #d4ebff;}#sk-container-id-1 input.sk-hidden--visually {border: 0;clip: rect(1px 1px 1px 1px);clip: rect(1px, 1px, 1px, 1px);height: 1px;margin: -1px;overflow: hidden;padding: 0;position: absolute;width: 1px;}#sk-container-id-1 div.sk-estimator {font-family: monospace;background-color: #f0f8ff;border: 1px dotted black;border-radius: 0.25em;box-sizing: border-box;margin-bottom: 0.5em;}#sk-container-id-1 div.sk-estimator:hover {background-color: #d4ebff;}#sk-container-id-1 div.sk-parallel-item::after {content: \"\";width: 100%;border-bottom: 1px solid gray;flex-grow: 1;}#sk-container-id-1 div.sk-label:hover label.sk-toggleable__label {background-color: #d4ebff;}#sk-container-id-1 div.sk-serial::before {content: \"\";position: absolute;border-left: 1px solid gray;box-sizing: border-box;top: 0;bottom: 0;left: 50%;z-index: 0;}#sk-container-id-1 div.sk-serial {display: flex;flex-direction: column;align-items: center;background-color: white;padding-right: 0.2em;padding-left: 0.2em;position: relative;}#sk-container-id-1 div.sk-item {position: relative;z-index: 1;}#sk-container-id-1 div.sk-parallel {display: flex;align-items: stretch;justify-content: center;background-color: white;position: relative;}#sk-container-id-1 div.sk-item::before, #sk-container-id-1 div.sk-parallel-item::before {content: \"\";position: absolute;border-left: 1px solid gray;box-sizing: border-box;top: 0;bottom: 0;left: 50%;z-index: -1;}#sk-container-id-1 div.sk-parallel-item {display: flex;flex-direction: column;z-index: 1;position: relative;background-color: white;}#sk-container-id-1 div.sk-parallel-item:first-child::after {align-self: flex-end;width: 50%;}#sk-container-id-1 div.sk-parallel-item:last-child::after {align-self: flex-start;width: 50%;}#sk-container-id-1 div.sk-parallel-item:only-child::after {width: 0;}#sk-container-id-1 div.sk-dashed-wrapped {border: 1px dashed gray;margin: 0 0.4em 0.5em 0.4em;box-sizing: border-box;padding-bottom: 0.4em;background-color: white;}#sk-container-id-1 div.sk-label label {font-family: monospace;font-weight: bold;display: inline-block;line-height: 1.2em;}#sk-container-id-1 div.sk-label-container {text-align: center;}#sk-container-id-1 div.sk-container {/* jupyter's `normalize.less` sets `[hidden] { display: none; }` but bootstrap.min.css set `[hidden] { display: none !important; }` so we also need the `!important` here to be able to override the default hidden behavior on the sphinx rendered scikit-learn.org. See: https://github.com/scikit-learn/scikit-learn/issues/21755 */display: inline-block !important;position: relative;}#sk-container-id-1 div.sk-text-repr-fallback {display: none;}</style><div id=\"sk-container-id-1\" class=\"sk-top-container\"><div class=\"sk-text-repr-fallback\"><pre>RandomForestClassifier(max_depth=5, random_state=1)</pre><b>In a Jupyter environment, please rerun this cell to show the HTML representation or trust the notebook. <br />On GitHub, the HTML representation is unable to render, please try loading this page with nbviewer.org.</b></div><div class=\"sk-container\" hidden><div class=\"sk-item\"><div class=\"sk-estimator sk-toggleable\"><input class=\"sk-toggleable__control sk-hidden--visually\" id=\"sk-estimator-id-1\" type=\"checkbox\" checked><label for=\"sk-estimator-id-1\" class=\"sk-toggleable__label sk-toggleable__label-arrow\">RandomForestClassifier</label><div class=\"sk-toggleable__content\"><pre>RandomForestClassifier(max_depth=5, random_state=1)</pre></div></div></div></div></div>"
      ],
      "text/plain": [
       "RandomForestClassifier(max_depth=5, random_state=1)"
      ]
     },
     "execution_count": 18,
     "metadata": {},
     "output_type": "execute_result"
    }
   ],
   "source": [
    "model.fit(y_train,y_Survived)"
   ]
  },
  {
   "cell_type": "code",
   "execution_count": 19,
   "id": "8b12d1d6",
   "metadata": {
    "execution": {
     "iopub.execute_input": "2023-05-29T10:36:17.315410Z",
     "iopub.status.busy": "2023-05-29T10:36:17.315040Z",
     "iopub.status.idle": "2023-05-29T10:36:17.341694Z",
     "shell.execute_reply": "2023-05-29T10:36:17.340470Z"
    },
    "papermill": {
     "duration": 0.041531,
     "end_time": "2023-05-29T10:36:17.344413",
     "exception": false,
     "start_time": "2023-05-29T10:36:17.302882",
     "status": "completed"
    },
    "tags": []
   },
   "outputs": [],
   "source": [
    "result=model.predict(X_test)\n",
    "outcome=pd.DataFrame({\"Id\":titanic_test.PassengerId,'Survived':result})"
   ]
  },
  {
   "cell_type": "code",
   "execution_count": 20,
   "id": "04823ad0",
   "metadata": {
    "execution": {
     "iopub.execute_input": "2023-05-29T10:36:17.368010Z",
     "iopub.status.busy": "2023-05-29T10:36:17.367580Z",
     "iopub.status.idle": "2023-05-29T10:36:17.381169Z",
     "shell.execute_reply": "2023-05-29T10:36:17.380177Z"
    },
    "papermill": {
     "duration": 0.028429,
     "end_time": "2023-05-29T10:36:17.383606",
     "exception": false,
     "start_time": "2023-05-29T10:36:17.355177",
     "status": "completed"
    },
    "tags": []
   },
   "outputs": [
    {
     "name": "stdout",
     "output_type": "stream",
     "text": [
      "Your submission was successfully saved!\n"
     ]
    }
   ],
   "source": [
    "outcome.to_csv('submission.csv',index=False)\n",
    "print(\"Your submission was successfully saved!\")"
   ]
  },
  {
   "cell_type": "code",
   "execution_count": null,
   "id": "5e7df864",
   "metadata": {
    "papermill": {
     "duration": 0.010529,
     "end_time": "2023-05-29T10:36:17.404907",
     "exception": false,
     "start_time": "2023-05-29T10:36:17.394378",
     "status": "completed"
    },
    "tags": []
   },
   "outputs": [],
   "source": []
  }
 ],
 "metadata": {
  "kernelspec": {
   "display_name": "Python 3",
   "language": "python",
   "name": "python3"
  },
  "language_info": {
   "codemirror_mode": {
    "name": "ipython",
    "version": 3
   },
   "file_extension": ".py",
   "mimetype": "text/x-python",
   "name": "python",
   "nbconvert_exporter": "python",
   "pygments_lexer": "ipython3",
   "version": "3.10.10"
  },
  "papermill": {
   "default_parameters": {},
   "duration": 17.255733,
   "end_time": "2023-05-29T10:36:18.438850",
   "environment_variables": {},
   "exception": null,
   "input_path": "__notebook__.ipynb",
   "output_path": "__notebook__.ipynb",
   "parameters": {},
   "start_time": "2023-05-29T10:36:01.183117",
   "version": "2.4.0"
  }
 },
 "nbformat": 4,
 "nbformat_minor": 5
}
