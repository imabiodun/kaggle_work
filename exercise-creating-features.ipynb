{
 "cells": [
  {
   "cell_type": "markdown",
   "id": "61da9042",
   "metadata": {
    "papermill": {
     "duration": 0.005513,
     "end_time": "2023-08-28T10:22:52.559535",
     "exception": false,
     "start_time": "2023-08-28T10:22:52.554022",
     "status": "completed"
    },
    "tags": []
   },
   "source": [
    "**This notebook is an exercise in the [Feature Engineering](https://www.kaggle.com/learn/feature-engineering) course.  You can reference the tutorial at [this link](https://www.kaggle.com/ryanholbrook/creating-features).**\n",
    "\n",
    "---\n"
   ]
  },
  {
   "cell_type": "markdown",
   "id": "1b4d5227",
   "metadata": {
    "papermill": {
     "duration": 0.004549,
     "end_time": "2023-08-28T10:22:52.568965",
     "exception": false,
     "start_time": "2023-08-28T10:22:52.564416",
     "status": "completed"
    },
    "tags": []
   },
   "source": [
    "# Introduction #\n",
    "\n",
    "In this exercise you'll start developing the features you identified in Exercise 2 as having the most potential. As you work through this exercise, you might take a moment to look at the data documentation again and consider whether the features we're creating make sense from a real-world perspective, and whether there are any useful combinations that stand out to you.\n",
    "\n",
    "Run this cell to set everything up!"
   ]
  },
  {
   "cell_type": "code",
   "execution_count": 1,
   "id": "314d753f",
   "metadata": {
    "execution": {
     "iopub.execute_input": "2023-08-28T10:22:52.581153Z",
     "iopub.status.busy": "2023-08-28T10:22:52.580398Z",
     "iopub.status.idle": "2023-08-28T10:22:53.914466Z",
     "shell.execute_reply": "2023-08-28T10:22:53.913780Z"
    },
    "papermill": {
     "duration": 1.342617,
     "end_time": "2023-08-28T10:22:53.916561",
     "exception": false,
     "start_time": "2023-08-28T10:22:52.573944",
     "status": "completed"
    },
    "tags": []
   },
   "outputs": [
    {
     "name": "stderr",
     "output_type": "stream",
     "text": [
      "/opt/conda/lib/python3.10/site-packages/scipy/__init__.py:146: UserWarning: A NumPy version >=1.16.5 and <1.23.0 is required for this version of SciPy (detected version 1.23.5\n",
      "  warnings.warn(f\"A NumPy version >={np_minversion} and <{np_maxversion}\"\n"
     ]
    }
   ],
   "source": [
    "# Setup feedback system\n",
    "from learntools.core import binder\n",
    "binder.bind(globals())\n",
    "from learntools.feature_engineering_new.ex3 import *\n",
    "\n",
    "import numpy as np\n",
    "import pandas as pd\n",
    "from sklearn.model_selection import cross_val_score\n",
    "from xgboost import XGBRegressor\n",
    "\n",
    "\n",
    "def score_dataset(X, y, model=XGBRegressor()):\n",
    "    # Label encoding for categoricals\n",
    "    for colname in X.select_dtypes([\"category\", \"object\"]):\n",
    "        X[colname], _ = X[colname].factorize()\n",
    "    # Metric for Housing competition is RMSLE (Root Mean Squared Log Error)\n",
    "    score = cross_val_score(\n",
    "        model, X, y, cv=5, scoring=\"neg_mean_squared_log_error\",\n",
    "    )\n",
    "    score = -1 * score.mean()\n",
    "    score = np.sqrt(score)\n",
    "    return score\n",
    "\n",
    "\n",
    "# Prepare data\n",
    "df = pd.read_csv(\"../input/fe-course-data/ames.csv\")\n",
    "X = df.copy()\n",
    "y = X.pop(\"SalePrice\")"
   ]
  },
  {
   "cell_type": "markdown",
   "id": "96d1ac76",
   "metadata": {
    "papermill": {
     "duration": 0.004806,
     "end_time": "2023-08-28T10:22:53.926995",
     "exception": false,
     "start_time": "2023-08-28T10:22:53.922189",
     "status": "completed"
    },
    "tags": []
   },
   "source": [
    "-------------------------------------------------------------------------------\n",
    "\n",
    "Let's start with a few mathematical combinations. We'll focus on features describing areas -- having the same units (square-feet) makes it easy to combine them in sensible ways. Since we're using XGBoost (a tree-based model), we'll focus on ratios and sums.\n",
    "\n",
    "# 1) Create Mathematical Transforms\n",
    "\n",
    "Create the following features:\n",
    "\n",
    "- `LivLotRatio`: the ratio of `GrLivArea` to `LotArea`\n",
    "- `Spaciousness`: the sum of `FirstFlrSF` and `SecondFlrSF` divided by `TotRmsAbvGrd`\n",
    "- `TotalOutsideSF`: the sum of `WoodDeckSF`, `OpenPorchSF`, `EnclosedPorch`, `Threeseasonporch`, and `ScreenPorch`"
   ]
  },
  {
   "cell_type": "code",
   "execution_count": 2,
   "id": "d9b33cf6",
   "metadata": {
    "execution": {
     "iopub.execute_input": "2023-08-28T10:22:53.939084Z",
     "iopub.status.busy": "2023-08-28T10:22:53.938451Z",
     "iopub.status.idle": "2023-08-28T10:22:53.959133Z",
     "shell.execute_reply": "2023-08-28T10:22:53.958181Z"
    },
    "lines_to_next_cell": 0,
    "papermill": {
     "duration": 0.02886,
     "end_time": "2023-08-28T10:22:53.960977",
     "exception": false,
     "start_time": "2023-08-28T10:22:53.932117",
     "status": "completed"
    },
    "tags": []
   },
   "outputs": [
    {
     "data": {
      "application/javascript": [
       "parent.postMessage({\"jupyterEvent\": \"custom.exercise_interaction\", \"data\": {\"outcomeType\": 1, \"valueTowardsCompletion\": 0.2, \"interactionType\": 1, \"questionType\": 2, \"questionId\": \"1_Q1\", \"learnToolsVersion\": \"0.3.4\", \"failureMessage\": \"\", \"exceptionClass\": \"\", \"trace\": \"\"}}, \"*\")"
      ],
      "text/plain": [
       "<IPython.core.display.Javascript object>"
      ]
     },
     "metadata": {},
     "output_type": "display_data"
    },
    {
     "data": {
      "text/markdown": [
       "<span style=\"color:#33cc33\">Correct</span>"
      ],
      "text/plain": [
       "Correct"
      ]
     },
     "metadata": {},
     "output_type": "display_data"
    }
   ],
   "source": [
    "# YOUR CODE HERE\n",
    "X_1 = pd.DataFrame()  # dataframe to hold new features\n",
    "\n",
    "X_1[\"LivLotRatio\"] = X.GrLivArea/X.LotArea\n",
    "X_1[\"Spaciousness\"] = (X['FirstFlrSF'] +X['SecondFlrSF'])/X.TotRmsAbvGrd\n",
    "X_1[\"TotalOutsideSF\"] = X[['WoodDeckSF', 'OpenPorchSF', 'EnclosedPorch', 'Threeseasonporch', 'ScreenPorch']].sum(axis=1)\n",
    "\n",
    "# print(X_1['TotalOutsideSF'].head())\n",
    "# Check your answer\n",
    "q_1.check()"
   ]
  },
  {
   "cell_type": "code",
   "execution_count": 3,
   "id": "14a589da",
   "metadata": {
    "execution": {
     "iopub.execute_input": "2023-08-28T10:22:53.972373Z",
     "iopub.status.busy": "2023-08-28T10:22:53.972103Z",
     "iopub.status.idle": "2023-08-28T10:22:53.975494Z",
     "shell.execute_reply": "2023-08-28T10:22:53.974784Z"
    },
    "lines_to_next_cell": 0,
    "papermill": {
     "duration": 0.010879,
     "end_time": "2023-08-28T10:22:53.977108",
     "exception": false,
     "start_time": "2023-08-28T10:22:53.966229",
     "status": "completed"
    },
    "tags": []
   },
   "outputs": [],
   "source": [
    "# Lines below will give you a hint or solution code\n",
    "#q_1.hint()\n",
    "# q_1.solution()"
   ]
  },
  {
   "cell_type": "markdown",
   "id": "d60219be",
   "metadata": {
    "papermill": {
     "duration": 0.004765,
     "end_time": "2023-08-28T10:22:53.987044",
     "exception": false,
     "start_time": "2023-08-28T10:22:53.982279",
     "status": "completed"
    },
    "tags": []
   },
   "source": [
    "-------------------------------------------------------------------------------\n",
    "\n",
    "If you've discovered an interaction effect between a numeric feature and a categorical feature, you might want to model it explicitly using a one-hot encoding, like so:\n",
    "\n",
    "```\n",
    "# One-hot encode Categorical feature, adding a column prefix \"Cat\"\n",
    "X_new = pd.get_dummies(df.Categorical, prefix=\"Cat\")\n",
    "\n",
    "# Multiply row-by-row\n",
    "X_new = X_new.mul(df.Continuous, axis=0)\n",
    "\n",
    "# Join the new features to the feature set\n",
    "X = X.join(X_new)\n",
    "```\n",
    "\n",
    "# 2) Interaction with a Categorical\n",
    "\n",
    "We discovered an interaction between `BldgType` and `GrLivArea` in Exercise 2. Now create their interaction features."
   ]
  },
  {
   "cell_type": "code",
   "execution_count": 4,
   "id": "23d24608",
   "metadata": {
    "execution": {
     "iopub.execute_input": "2023-08-28T10:22:53.999935Z",
     "iopub.status.busy": "2023-08-28T10:22:53.999308Z",
     "iopub.status.idle": "2023-08-28T10:22:54.011976Z",
     "shell.execute_reply": "2023-08-28T10:22:54.011291Z"
    },
    "lines_to_next_cell": 0,
    "papermill": {
     "duration": 0.021683,
     "end_time": "2023-08-28T10:22:54.013660",
     "exception": false,
     "start_time": "2023-08-28T10:22:53.991977",
     "status": "completed"
    },
    "tags": []
   },
   "outputs": [
    {
     "data": {
      "application/javascript": [
       "parent.postMessage({\"jupyterEvent\": \"custom.exercise_interaction\", \"data\": {\"outcomeType\": 1, \"valueTowardsCompletion\": 0.2, \"interactionType\": 1, \"questionType\": 2, \"questionId\": \"2_Q2\", \"learnToolsVersion\": \"0.3.4\", \"failureMessage\": \"\", \"exceptionClass\": \"\", \"trace\": \"\"}}, \"*\")"
      ],
      "text/plain": [
       "<IPython.core.display.Javascript object>"
      ]
     },
     "metadata": {},
     "output_type": "display_data"
    },
    {
     "data": {
      "text/markdown": [
       "<span style=\"color:#33cc33\">Correct</span>"
      ],
      "text/plain": [
       "Correct"
      ]
     },
     "metadata": {},
     "output_type": "display_data"
    }
   ],
   "source": [
    "from sklearn.preprocessing import OneHotEncoder\n",
    "OH= OneHotEncoder()\n",
    "\n",
    "# YOUR CODE HERE\n",
    "# One-hot encode BldgType. Use `prefix=\"Bldg\"` in `get_dummies`\n",
    "# X_2 = X['BldgTypeg']\n",
    "X_2 = pd.get_dummies(df.BldgType, prefix=\"Bldg\")\n",
    "# Multiply\n",
    "\n",
    "X_2 = X_2.mul(df.GrLivArea, axis=0)\n",
    "# Check your answer\n",
    "q_2.check()"
   ]
  },
  {
   "cell_type": "code",
   "execution_count": 5,
   "id": "e26fbe77",
   "metadata": {
    "execution": {
     "iopub.execute_input": "2023-08-28T10:22:54.025899Z",
     "iopub.status.busy": "2023-08-28T10:22:54.025546Z",
     "iopub.status.idle": "2023-08-28T10:22:54.044734Z",
     "shell.execute_reply": "2023-08-28T10:22:54.043780Z"
    },
    "papermill": {
     "duration": 0.027463,
     "end_time": "2023-08-28T10:22:54.046559",
     "exception": false,
     "start_time": "2023-08-28T10:22:54.019096",
     "status": "completed"
    },
    "tags": []
   },
   "outputs": [
    {
     "data": {
      "text/html": [
       "<div>\n",
       "<style scoped>\n",
       "    .dataframe tbody tr th:only-of-type {\n",
       "        vertical-align: middle;\n",
       "    }\n",
       "\n",
       "    .dataframe tbody tr th {\n",
       "        vertical-align: top;\n",
       "    }\n",
       "\n",
       "    .dataframe thead th {\n",
       "        text-align: right;\n",
       "    }\n",
       "</style>\n",
       "<table border=\"1\" class=\"dataframe\">\n",
       "  <thead>\n",
       "    <tr style=\"text-align: right;\">\n",
       "      <th></th>\n",
       "      <th>Bldg_Duplex</th>\n",
       "      <th>Bldg_OneFam</th>\n",
       "      <th>Bldg_Twnhs</th>\n",
       "      <th>Bldg_TwnhsE</th>\n",
       "      <th>Bldg_TwoFmCon</th>\n",
       "    </tr>\n",
       "  </thead>\n",
       "  <tbody>\n",
       "    <tr>\n",
       "      <th>0</th>\n",
       "      <td>0.0</td>\n",
       "      <td>1656.0</td>\n",
       "      <td>0.0</td>\n",
       "      <td>0.0</td>\n",
       "      <td>0.0</td>\n",
       "    </tr>\n",
       "    <tr>\n",
       "      <th>1</th>\n",
       "      <td>0.0</td>\n",
       "      <td>896.0</td>\n",
       "      <td>0.0</td>\n",
       "      <td>0.0</td>\n",
       "      <td>0.0</td>\n",
       "    </tr>\n",
       "    <tr>\n",
       "      <th>2</th>\n",
       "      <td>0.0</td>\n",
       "      <td>1329.0</td>\n",
       "      <td>0.0</td>\n",
       "      <td>0.0</td>\n",
       "      <td>0.0</td>\n",
       "    </tr>\n",
       "    <tr>\n",
       "      <th>3</th>\n",
       "      <td>0.0</td>\n",
       "      <td>2110.0</td>\n",
       "      <td>0.0</td>\n",
       "      <td>0.0</td>\n",
       "      <td>0.0</td>\n",
       "    </tr>\n",
       "    <tr>\n",
       "      <th>4</th>\n",
       "      <td>0.0</td>\n",
       "      <td>1629.0</td>\n",
       "      <td>0.0</td>\n",
       "      <td>0.0</td>\n",
       "      <td>0.0</td>\n",
       "    </tr>\n",
       "    <tr>\n",
       "      <th>...</th>\n",
       "      <td>...</td>\n",
       "      <td>...</td>\n",
       "      <td>...</td>\n",
       "      <td>...</td>\n",
       "      <td>...</td>\n",
       "    </tr>\n",
       "    <tr>\n",
       "      <th>2925</th>\n",
       "      <td>0.0</td>\n",
       "      <td>1003.0</td>\n",
       "      <td>0.0</td>\n",
       "      <td>0.0</td>\n",
       "      <td>0.0</td>\n",
       "    </tr>\n",
       "    <tr>\n",
       "      <th>2926</th>\n",
       "      <td>0.0</td>\n",
       "      <td>902.0</td>\n",
       "      <td>0.0</td>\n",
       "      <td>0.0</td>\n",
       "      <td>0.0</td>\n",
       "    </tr>\n",
       "    <tr>\n",
       "      <th>2927</th>\n",
       "      <td>0.0</td>\n",
       "      <td>970.0</td>\n",
       "      <td>0.0</td>\n",
       "      <td>0.0</td>\n",
       "      <td>0.0</td>\n",
       "    </tr>\n",
       "    <tr>\n",
       "      <th>2928</th>\n",
       "      <td>0.0</td>\n",
       "      <td>1389.0</td>\n",
       "      <td>0.0</td>\n",
       "      <td>0.0</td>\n",
       "      <td>0.0</td>\n",
       "    </tr>\n",
       "    <tr>\n",
       "      <th>2929</th>\n",
       "      <td>0.0</td>\n",
       "      <td>2000.0</td>\n",
       "      <td>0.0</td>\n",
       "      <td>0.0</td>\n",
       "      <td>0.0</td>\n",
       "    </tr>\n",
       "  </tbody>\n",
       "</table>\n",
       "<p>2930 rows × 5 columns</p>\n",
       "</div>"
      ],
      "text/plain": [
       "      Bldg_Duplex  Bldg_OneFam  Bldg_Twnhs  Bldg_TwnhsE  Bldg_TwoFmCon\n",
       "0             0.0       1656.0         0.0          0.0            0.0\n",
       "1             0.0        896.0         0.0          0.0            0.0\n",
       "2             0.0       1329.0         0.0          0.0            0.0\n",
       "3             0.0       2110.0         0.0          0.0            0.0\n",
       "4             0.0       1629.0         0.0          0.0            0.0\n",
       "...           ...          ...         ...          ...            ...\n",
       "2925          0.0       1003.0         0.0          0.0            0.0\n",
       "2926          0.0        902.0         0.0          0.0            0.0\n",
       "2927          0.0        970.0         0.0          0.0            0.0\n",
       "2928          0.0       1389.0         0.0          0.0            0.0\n",
       "2929          0.0       2000.0         0.0          0.0            0.0\n",
       "\n",
       "[2930 rows x 5 columns]"
      ]
     },
     "execution_count": 5,
     "metadata": {},
     "output_type": "execute_result"
    }
   ],
   "source": [
    "X_2"
   ]
  },
  {
   "cell_type": "code",
   "execution_count": 6,
   "id": "9f95d9c1",
   "metadata": {
    "execution": {
     "iopub.execute_input": "2023-08-28T10:22:54.059836Z",
     "iopub.status.busy": "2023-08-28T10:22:54.059165Z",
     "iopub.status.idle": "2023-08-28T10:22:54.067133Z",
     "shell.execute_reply": "2023-08-28T10:22:54.065831Z"
    },
    "lines_to_next_cell": 0,
    "papermill": {
     "duration": 0.016543,
     "end_time": "2023-08-28T10:22:54.068907",
     "exception": false,
     "start_time": "2023-08-28T10:22:54.052364",
     "status": "completed"
    },
    "tags": []
   },
   "outputs": [
    {
     "data": {
      "application/javascript": [
       "parent.postMessage({\"jupyterEvent\": \"custom.exercise_interaction\", \"data\": {\"interactionType\": 3, \"questionType\": 2, \"questionId\": \"2_Q2\", \"learnToolsVersion\": \"0.3.4\", \"valueTowardsCompletion\": 0.0, \"failureMessage\": \"\", \"exceptionClass\": \"\", \"trace\": \"\", \"outcomeType\": 4}}, \"*\")"
      ],
      "text/plain": [
       "<IPython.core.display.Javascript object>"
      ]
     },
     "metadata": {},
     "output_type": "display_data"
    },
    {
     "data": {
      "text/markdown": [
       "<span style=\"color:#33cc99\">Solution:</span> \n",
       "```python\n",
       "\n",
       "X_2 = pd.get_dummies(df.BldgType, prefix=\"Bldg\")\n",
       "X_2 = X_2.mul(df.GrLivArea, axis=0)\n",
       "\n",
       "```"
      ],
      "text/plain": [
       "Solution: \n",
       "```python\n",
       "\n",
       "X_2 = pd.get_dummies(df.BldgType, prefix=\"Bldg\")\n",
       "X_2 = X_2.mul(df.GrLivArea, axis=0)\n",
       "\n",
       "```"
      ]
     },
     "metadata": {},
     "output_type": "display_data"
    }
   ],
   "source": [
    "# Lines below will give you a hint or solution code\n",
    "#q_2.hint()\n",
    "q_2.solution()"
   ]
  },
  {
   "cell_type": "markdown",
   "id": "a7513d57",
   "metadata": {
    "lines_to_next_cell": 0,
    "papermill": {
     "duration": 0.006093,
     "end_time": "2023-08-28T10:22:54.080719",
     "exception": false,
     "start_time": "2023-08-28T10:22:54.074626",
     "status": "completed"
    },
    "tags": []
   },
   "source": [
    "# 3) Count Feature\n",
    "\n",
    "Let's try creating a feature that describes how many kinds of outdoor areas a dwelling has. Create a feature `PorchTypes` that counts how many of the following are greater than 0.0:\n",
    "\n",
    "```\n",
    "WoodDeckSF\n",
    "OpenPorchSF\n",
    "EnclosedPorch\n",
    "Threeseasonporch\n",
    "ScreenPorch\n",
    "```"
   ]
  },
  {
   "cell_type": "code",
   "execution_count": 7,
   "id": "5477412c",
   "metadata": {
    "execution": {
     "iopub.execute_input": "2023-08-28T10:22:54.096681Z",
     "iopub.status.busy": "2023-08-28T10:22:54.096246Z",
     "iopub.status.idle": "2023-08-28T10:22:54.115957Z",
     "shell.execute_reply": "2023-08-28T10:22:54.114875Z"
    },
    "lines_to_next_cell": 0,
    "papermill": {
     "duration": 0.031299,
     "end_time": "2023-08-28T10:22:54.118604",
     "exception": false,
     "start_time": "2023-08-28T10:22:54.087305",
     "status": "completed"
    },
    "tags": []
   },
   "outputs": [
    {
     "data": {
      "application/javascript": [
       "parent.postMessage({\"jupyterEvent\": \"custom.exercise_interaction\", \"data\": {\"outcomeType\": 1, \"valueTowardsCompletion\": 0.2, \"interactionType\": 1, \"questionType\": 2, \"questionId\": \"3_Q3\", \"learnToolsVersion\": \"0.3.4\", \"failureMessage\": \"\", \"exceptionClass\": \"\", \"trace\": \"\"}}, \"*\")"
      ],
      "text/plain": [
       "<IPython.core.display.Javascript object>"
      ]
     },
     "metadata": {},
     "output_type": "display_data"
    },
    {
     "data": {
      "text/markdown": [
       "<span style=\"color:#33cc33\">Correct</span>"
      ],
      "text/plain": [
       "Correct"
      ]
     },
     "metadata": {},
     "output_type": "display_data"
    }
   ],
   "source": [
    "X_3 = pd.DataFrame()\n",
    "\n",
    "# YOUR CODE HERE\n",
    "X_3[\"PorchTypes\"] = (X[['WoodDeckSF','OpenPorchSF','EnclosedPorch','Threeseasonporch','ScreenPorch']]>0).sum(axis=1)\n",
    "\n",
    "\n",
    "# Check your answer\n",
    "q_3.check()"
   ]
  },
  {
   "cell_type": "code",
   "execution_count": 8,
   "id": "9efa9729",
   "metadata": {
    "execution": {
     "iopub.execute_input": "2023-08-28T10:22:54.135760Z",
     "iopub.status.busy": "2023-08-28T10:22:54.134629Z",
     "iopub.status.idle": "2023-08-28T10:22:54.139566Z",
     "shell.execute_reply": "2023-08-28T10:22:54.138448Z"
    },
    "lines_to_next_cell": 0,
    "papermill": {
     "duration": 0.015569,
     "end_time": "2023-08-28T10:22:54.141868",
     "exception": false,
     "start_time": "2023-08-28T10:22:54.126299",
     "status": "completed"
    },
    "tags": []
   },
   "outputs": [],
   "source": [
    "# Lines below will give you a hint or solution code\n",
    "# q_3.hint()\n",
    "# q_3.solution()"
   ]
  },
  {
   "cell_type": "markdown",
   "id": "f31bb523",
   "metadata": {
    "papermill": {
     "duration": 0.005822,
     "end_time": "2023-08-28T10:22:54.154269",
     "exception": false,
     "start_time": "2023-08-28T10:22:54.148447",
     "status": "completed"
    },
    "tags": []
   },
   "source": [
    "# 4) Break Down a Categorical Feature\n",
    "\n",
    "`MSSubClass` describes the type of a dwelling:"
   ]
  },
  {
   "cell_type": "code",
   "execution_count": 9,
   "id": "60296f4d",
   "metadata": {
    "execution": {
     "iopub.execute_input": "2023-08-28T10:22:54.168734Z",
     "iopub.status.busy": "2023-08-28T10:22:54.167867Z",
     "iopub.status.idle": "2023-08-28T10:22:54.176820Z",
     "shell.execute_reply": "2023-08-28T10:22:54.175771Z"
    },
    "papermill": {
     "duration": 0.018333,
     "end_time": "2023-08-28T10:22:54.178725",
     "exception": false,
     "start_time": "2023-08-28T10:22:54.160392",
     "status": "completed"
    },
    "tags": []
   },
   "outputs": [
    {
     "data": {
      "text/plain": [
       "array(['One_Story_1946_and_Newer_All_Styles', 'Two_Story_1946_and_Newer',\n",
       "       'One_Story_PUD_1946_and_Newer',\n",
       "       'One_and_Half_Story_Finished_All_Ages', 'Split_Foyer',\n",
       "       'Two_Story_PUD_1946_and_Newer', 'Split_or_Multilevel',\n",
       "       'One_Story_1945_and_Older', 'Duplex_All_Styles_and_Ages',\n",
       "       'Two_Family_conversion_All_Styles_and_Ages',\n",
       "       'One_and_Half_Story_Unfinished_All_Ages',\n",
       "       'Two_Story_1945_and_Older', 'Two_and_Half_Story_All_Ages',\n",
       "       'One_Story_with_Finished_Attic_All_Ages',\n",
       "       'PUD_Multilevel_Split_Level_Foyer',\n",
       "       'One_and_Half_Story_PUD_All_Ages'], dtype=object)"
      ]
     },
     "execution_count": 9,
     "metadata": {},
     "output_type": "execute_result"
    }
   ],
   "source": [
    "df.MSSubClass.unique()"
   ]
  },
  {
   "cell_type": "markdown",
   "id": "abd8a951",
   "metadata": {
    "papermill": {
     "duration": 0.005808,
     "end_time": "2023-08-28T10:22:54.191030",
     "exception": false,
     "start_time": "2023-08-28T10:22:54.185222",
     "status": "completed"
    },
    "tags": []
   },
   "source": [
    "You can see that there is a more general categorization described (roughly) by the first word of each category. Create a feature containing only these first words by splitting `MSSubClass` at the first underscore `_`. (Hint: In the `split` method use an argument `n=1`.)"
   ]
  },
  {
   "cell_type": "code",
   "execution_count": 10,
   "id": "93efc9a2",
   "metadata": {
    "execution": {
     "iopub.execute_input": "2023-08-28T10:22:54.206926Z",
     "iopub.status.busy": "2023-08-28T10:22:54.206261Z",
     "iopub.status.idle": "2023-08-28T10:22:54.220569Z",
     "shell.execute_reply": "2023-08-28T10:22:54.219846Z"
    },
    "lines_to_next_cell": 0,
    "papermill": {
     "duration": 0.0255,
     "end_time": "2023-08-28T10:22:54.222533",
     "exception": false,
     "start_time": "2023-08-28T10:22:54.197033",
     "status": "completed"
    },
    "tags": []
   },
   "outputs": [
    {
     "data": {
      "text/html": [
       "<div>\n",
       "<style scoped>\n",
       "    .dataframe tbody tr th:only-of-type {\n",
       "        vertical-align: middle;\n",
       "    }\n",
       "\n",
       "    .dataframe tbody tr th {\n",
       "        vertical-align: top;\n",
       "    }\n",
       "\n",
       "    .dataframe thead th {\n",
       "        text-align: right;\n",
       "    }\n",
       "</style>\n",
       "<table border=\"1\" class=\"dataframe\">\n",
       "  <thead>\n",
       "    <tr style=\"text-align: right;\">\n",
       "      <th></th>\n",
       "      <th>MSClass</th>\n",
       "    </tr>\n",
       "  </thead>\n",
       "  <tbody>\n",
       "    <tr>\n",
       "      <th>0</th>\n",
       "      <td>One</td>\n",
       "    </tr>\n",
       "    <tr>\n",
       "      <th>1</th>\n",
       "      <td>One</td>\n",
       "    </tr>\n",
       "    <tr>\n",
       "      <th>2</th>\n",
       "      <td>One</td>\n",
       "    </tr>\n",
       "    <tr>\n",
       "      <th>3</th>\n",
       "      <td>One</td>\n",
       "    </tr>\n",
       "    <tr>\n",
       "      <th>4</th>\n",
       "      <td>Two</td>\n",
       "    </tr>\n",
       "    <tr>\n",
       "      <th>...</th>\n",
       "      <td>...</td>\n",
       "    </tr>\n",
       "    <tr>\n",
       "      <th>2925</th>\n",
       "      <td>Split</td>\n",
       "    </tr>\n",
       "    <tr>\n",
       "      <th>2926</th>\n",
       "      <td>One</td>\n",
       "    </tr>\n",
       "    <tr>\n",
       "      <th>2927</th>\n",
       "      <td>Split</td>\n",
       "    </tr>\n",
       "    <tr>\n",
       "      <th>2928</th>\n",
       "      <td>One</td>\n",
       "    </tr>\n",
       "    <tr>\n",
       "      <th>2929</th>\n",
       "      <td>Two</td>\n",
       "    </tr>\n",
       "  </tbody>\n",
       "</table>\n",
       "<p>2930 rows × 1 columns</p>\n",
       "</div>"
      ],
      "text/plain": [
       "     MSClass\n",
       "0        One\n",
       "1        One\n",
       "2        One\n",
       "3        One\n",
       "4        Two\n",
       "...      ...\n",
       "2925   Split\n",
       "2926     One\n",
       "2927   Split\n",
       "2928     One\n",
       "2929     Two\n",
       "\n",
       "[2930 rows x 1 columns]"
      ]
     },
     "execution_count": 10,
     "metadata": {},
     "output_type": "execute_result"
    }
   ],
   "source": [
    "X_4 = pd.DataFrame()\n",
    "\n",
    "# YOUR CODE HERE\n",
    "X_4['MSClass']=df['MSSubClass'].apply(lambda x:x.split('_',1)[0])\n",
    "X_4\n",
    "# Check your answer\n",
    "# q_4.check()"
   ]
  },
  {
   "cell_type": "code",
   "execution_count": 11,
   "id": "0f96f248",
   "metadata": {
    "execution": {
     "iopub.execute_input": "2023-08-28T10:22:54.242267Z",
     "iopub.status.busy": "2023-08-28T10:22:54.241493Z",
     "iopub.status.idle": "2023-08-28T10:22:54.250883Z",
     "shell.execute_reply": "2023-08-28T10:22:54.250101Z"
    },
    "lines_to_next_cell": 0,
    "papermill": {
     "duration": 0.02222,
     "end_time": "2023-08-28T10:22:54.252565",
     "exception": false,
     "start_time": "2023-08-28T10:22:54.230345",
     "status": "completed"
    },
    "tags": []
   },
   "outputs": [
    {
     "data": {
      "application/javascript": [
       "parent.postMessage({\"jupyterEvent\": \"custom.exercise_interaction\", \"data\": {\"interactionType\": 3, \"questionType\": 2, \"questionId\": \"4_Q4\", \"learnToolsVersion\": \"0.3.4\", \"valueTowardsCompletion\": 0.0, \"failureMessage\": \"\", \"exceptionClass\": \"\", \"trace\": \"\", \"outcomeType\": 4}}, \"*\")"
      ],
      "text/plain": [
       "<IPython.core.display.Javascript object>"
      ]
     },
     "metadata": {},
     "output_type": "display_data"
    },
    {
     "data": {
      "text/markdown": [
       "<span style=\"color:#33cc99\">Solution:</span> \n",
       "```python\n",
       "\n",
       "X_4 = pd.DataFrame()\n",
       "\n",
       "X_4[\"MSClass\"] = df.MSSubClass.str.split(\"_\", n=1, expand=True)[0]\n",
       "\n",
       "```"
      ],
      "text/plain": [
       "Solution: \n",
       "```python\n",
       "\n",
       "X_4 = pd.DataFrame()\n",
       "\n",
       "X_4[\"MSClass\"] = df.MSSubClass.str.split(\"_\", n=1, expand=True)[0]\n",
       "\n",
       "```"
      ]
     },
     "metadata": {},
     "output_type": "display_data"
    }
   ],
   "source": [
    "# Lines below will give you a hint or solution code\n",
    "#q_4.hint()\n",
    "q_4.solution()"
   ]
  },
  {
   "cell_type": "markdown",
   "id": "d026492c",
   "metadata": {
    "papermill": {
     "duration": 0.007743,
     "end_time": "2023-08-28T10:22:54.267629",
     "exception": false,
     "start_time": "2023-08-28T10:22:54.259886",
     "status": "completed"
    },
    "tags": []
   },
   "source": [
    "# 5) Use a Grouped Transform\n",
    "\n",
    "The value of a home often depends on how it compares to typical homes in its neighborhood. Create a feature `MedNhbdArea` that describes the *median* of `GrLivArea` grouped on `Neighborhood`."
   ]
  },
  {
   "cell_type": "code",
   "execution_count": 12,
   "id": "6183ae63",
   "metadata": {
    "execution": {
     "iopub.execute_input": "2023-08-28T10:22:54.284137Z",
     "iopub.status.busy": "2023-08-28T10:22:54.283447Z",
     "iopub.status.idle": "2023-08-28T10:22:54.302239Z",
     "shell.execute_reply": "2023-08-28T10:22:54.301378Z"
    },
    "lines_to_next_cell": 0,
    "papermill": {
     "duration": 0.028525,
     "end_time": "2023-08-28T10:22:54.304154",
     "exception": false,
     "start_time": "2023-08-28T10:22:54.275629",
     "status": "completed"
    },
    "tags": []
   },
   "outputs": [
    {
     "data": {
      "text/html": [
       "<div>\n",
       "<style scoped>\n",
       "    .dataframe tbody tr th:only-of-type {\n",
       "        vertical-align: middle;\n",
       "    }\n",
       "\n",
       "    .dataframe tbody tr th {\n",
       "        vertical-align: top;\n",
       "    }\n",
       "\n",
       "    .dataframe thead th {\n",
       "        text-align: right;\n",
       "    }\n",
       "</style>\n",
       "<table border=\"1\" class=\"dataframe\">\n",
       "  <thead>\n",
       "    <tr style=\"text-align: right;\">\n",
       "      <th></th>\n",
       "      <th>MedNhbdArea</th>\n",
       "    </tr>\n",
       "  </thead>\n",
       "  <tbody>\n",
       "    <tr>\n",
       "      <th>0</th>\n",
       "      <td>1200.0</td>\n",
       "    </tr>\n",
       "    <tr>\n",
       "      <th>1</th>\n",
       "      <td>1200.0</td>\n",
       "    </tr>\n",
       "    <tr>\n",
       "      <th>2</th>\n",
       "      <td>1200.0</td>\n",
       "    </tr>\n",
       "    <tr>\n",
       "      <th>3</th>\n",
       "      <td>1200.0</td>\n",
       "    </tr>\n",
       "    <tr>\n",
       "      <th>4</th>\n",
       "      <td>1560.0</td>\n",
       "    </tr>\n",
       "    <tr>\n",
       "      <th>...</th>\n",
       "      <td>...</td>\n",
       "    </tr>\n",
       "    <tr>\n",
       "      <th>2925</th>\n",
       "      <td>1282.0</td>\n",
       "    </tr>\n",
       "    <tr>\n",
       "      <th>2926</th>\n",
       "      <td>1282.0</td>\n",
       "    </tr>\n",
       "    <tr>\n",
       "      <th>2927</th>\n",
       "      <td>1282.0</td>\n",
       "    </tr>\n",
       "    <tr>\n",
       "      <th>2928</th>\n",
       "      <td>1282.0</td>\n",
       "    </tr>\n",
       "    <tr>\n",
       "      <th>2929</th>\n",
       "      <td>1282.0</td>\n",
       "    </tr>\n",
       "  </tbody>\n",
       "</table>\n",
       "<p>2930 rows × 1 columns</p>\n",
       "</div>"
      ],
      "text/plain": [
       "      MedNhbdArea\n",
       "0          1200.0\n",
       "1          1200.0\n",
       "2          1200.0\n",
       "3          1200.0\n",
       "4          1560.0\n",
       "...           ...\n",
       "2925       1282.0\n",
       "2926       1282.0\n",
       "2927       1282.0\n",
       "2928       1282.0\n",
       "2929       1282.0\n",
       "\n",
       "[2930 rows x 1 columns]"
      ]
     },
     "execution_count": 12,
     "metadata": {},
     "output_type": "execute_result"
    }
   ],
   "source": [
    "X_5 = pd.DataFrame()\n",
    "\n",
    "# YOUR CODE HERE\n",
    "X_5[\"MedNhbdArea\"] = X.groupby('Neighborhood')['GrLivArea'].transform('median')\n",
    "X_5\n",
    "# Check your answer\n",
    "# q_5.check()"
   ]
  },
  {
   "cell_type": "code",
   "execution_count": 13,
   "id": "b6a7080f",
   "metadata": {
    "execution": {
     "iopub.execute_input": "2023-08-28T10:22:54.322448Z",
     "iopub.status.busy": "2023-08-28T10:22:54.321685Z",
     "iopub.status.idle": "2023-08-28T10:22:54.327856Z",
     "shell.execute_reply": "2023-08-28T10:22:54.326606Z"
    },
    "lines_to_next_cell": 0,
    "papermill": {
     "duration": 0.018813,
     "end_time": "2023-08-28T10:22:54.330255",
     "exception": false,
     "start_time": "2023-08-28T10:22:54.311442",
     "status": "completed"
    },
    "tags": []
   },
   "outputs": [],
   "source": [
    "# Lines below will give you a hint or solution code\n",
    "# q_5.hint()\n",
    "# q_5.solution()"
   ]
  },
  {
   "cell_type": "markdown",
   "id": "0758a834",
   "metadata": {
    "papermill": {
     "duration": 0.006365,
     "end_time": "2023-08-28T10:22:54.343709",
     "exception": false,
     "start_time": "2023-08-28T10:22:54.337344",
     "status": "completed"
    },
    "tags": []
   },
   "source": [
    "Now you've made your first new feature set! If you like, you can run the cell below to score the model with all of your new features added:"
   ]
  },
  {
   "cell_type": "code",
   "execution_count": 14,
   "id": "6c620492",
   "metadata": {
    "execution": {
     "iopub.execute_input": "2023-08-28T10:22:54.359452Z",
     "iopub.status.busy": "2023-08-28T10:22:54.359094Z",
     "iopub.status.idle": "2023-08-28T10:22:57.223924Z",
     "shell.execute_reply": "2023-08-28T10:22:57.223289Z"
    },
    "papermill": {
     "duration": 2.875474,
     "end_time": "2023-08-28T10:22:57.225644",
     "exception": false,
     "start_time": "2023-08-28T10:22:54.350170",
     "status": "completed"
    },
    "tags": []
   },
   "outputs": [
    {
     "data": {
      "text/plain": [
       "0.13865658070461215"
      ]
     },
     "execution_count": 14,
     "metadata": {},
     "output_type": "execute_result"
    }
   ],
   "source": [
    "X_new = X.join([X_1, X_2, X_3, X_4, X_5])\n",
    "score_dataset(X_new, y)"
   ]
  },
  {
   "cell_type": "code",
   "execution_count": 15,
   "id": "318436dc",
   "metadata": {
    "execution": {
     "iopub.execute_input": "2023-08-28T10:22:57.241543Z",
     "iopub.status.busy": "2023-08-28T10:22:57.241145Z",
     "iopub.status.idle": "2023-08-28T10:22:57.261167Z",
     "shell.execute_reply": "2023-08-28T10:22:57.260532Z"
    },
    "papermill": {
     "duration": 0.030015,
     "end_time": "2023-08-28T10:22:57.262886",
     "exception": false,
     "start_time": "2023-08-28T10:22:57.232871",
     "status": "completed"
    },
    "tags": []
   },
   "outputs": [
    {
     "data": {
      "text/html": [
       "<div>\n",
       "<style scoped>\n",
       "    .dataframe tbody tr th:only-of-type {\n",
       "        vertical-align: middle;\n",
       "    }\n",
       "\n",
       "    .dataframe tbody tr th {\n",
       "        vertical-align: top;\n",
       "    }\n",
       "\n",
       "    .dataframe thead th {\n",
       "        text-align: right;\n",
       "    }\n",
       "</style>\n",
       "<table border=\"1\" class=\"dataframe\">\n",
       "  <thead>\n",
       "    <tr style=\"text-align: right;\">\n",
       "      <th></th>\n",
       "      <th>LivLotRatio</th>\n",
       "      <th>Spaciousness</th>\n",
       "      <th>TotalOutsideSF</th>\n",
       "      <th>Bldg_Duplex</th>\n",
       "      <th>Bldg_OneFam</th>\n",
       "      <th>Bldg_Twnhs</th>\n",
       "      <th>Bldg_TwnhsE</th>\n",
       "      <th>Bldg_TwoFmCon</th>\n",
       "      <th>PorchTypes</th>\n",
       "      <th>MedNhbdArea</th>\n",
       "      <th>MSClass</th>\n",
       "    </tr>\n",
       "  </thead>\n",
       "  <tbody>\n",
       "    <tr>\n",
       "      <th>0</th>\n",
       "      <td>0.052125</td>\n",
       "      <td>236.571429</td>\n",
       "      <td>272.0</td>\n",
       "      <td>0.0</td>\n",
       "      <td>1656.0</td>\n",
       "      <td>0.0</td>\n",
       "      <td>0.0</td>\n",
       "      <td>0.0</td>\n",
       "      <td>2</td>\n",
       "      <td>1200.0</td>\n",
       "      <td>One</td>\n",
       "    </tr>\n",
       "    <tr>\n",
       "      <th>1</th>\n",
       "      <td>0.077095</td>\n",
       "      <td>179.200000</td>\n",
       "      <td>260.0</td>\n",
       "      <td>0.0</td>\n",
       "      <td>896.0</td>\n",
       "      <td>0.0</td>\n",
       "      <td>0.0</td>\n",
       "      <td>0.0</td>\n",
       "      <td>2</td>\n",
       "      <td>1200.0</td>\n",
       "      <td>One</td>\n",
       "    </tr>\n",
       "    <tr>\n",
       "      <th>2</th>\n",
       "      <td>0.093152</td>\n",
       "      <td>221.500000</td>\n",
       "      <td>429.0</td>\n",
       "      <td>0.0</td>\n",
       "      <td>1329.0</td>\n",
       "      <td>0.0</td>\n",
       "      <td>0.0</td>\n",
       "      <td>0.0</td>\n",
       "      <td>2</td>\n",
       "      <td>1200.0</td>\n",
       "      <td>One</td>\n",
       "    </tr>\n",
       "    <tr>\n",
       "      <th>3</th>\n",
       "      <td>0.189068</td>\n",
       "      <td>263.750000</td>\n",
       "      <td>0.0</td>\n",
       "      <td>0.0</td>\n",
       "      <td>2110.0</td>\n",
       "      <td>0.0</td>\n",
       "      <td>0.0</td>\n",
       "      <td>0.0</td>\n",
       "      <td>0</td>\n",
       "      <td>1200.0</td>\n",
       "      <td>One</td>\n",
       "    </tr>\n",
       "    <tr>\n",
       "      <th>4</th>\n",
       "      <td>0.117787</td>\n",
       "      <td>271.500000</td>\n",
       "      <td>246.0</td>\n",
       "      <td>0.0</td>\n",
       "      <td>1629.0</td>\n",
       "      <td>0.0</td>\n",
       "      <td>0.0</td>\n",
       "      <td>0.0</td>\n",
       "      <td>2</td>\n",
       "      <td>1560.0</td>\n",
       "      <td>Two</td>\n",
       "    </tr>\n",
       "    <tr>\n",
       "      <th>...</th>\n",
       "      <td>...</td>\n",
       "      <td>...</td>\n",
       "      <td>...</td>\n",
       "      <td>...</td>\n",
       "      <td>...</td>\n",
       "      <td>...</td>\n",
       "      <td>...</td>\n",
       "      <td>...</td>\n",
       "      <td>...</td>\n",
       "      <td>...</td>\n",
       "      <td>...</td>\n",
       "    </tr>\n",
       "    <tr>\n",
       "      <th>2925</th>\n",
       "      <td>0.126370</td>\n",
       "      <td>167.166667</td>\n",
       "      <td>120.0</td>\n",
       "      <td>0.0</td>\n",
       "      <td>1003.0</td>\n",
       "      <td>0.0</td>\n",
       "      <td>0.0</td>\n",
       "      <td>0.0</td>\n",
       "      <td>1</td>\n",
       "      <td>1282.0</td>\n",
       "      <td>Split</td>\n",
       "    </tr>\n",
       "    <tr>\n",
       "      <th>2926</th>\n",
       "      <td>0.101519</td>\n",
       "      <td>180.400000</td>\n",
       "      <td>164.0</td>\n",
       "      <td>0.0</td>\n",
       "      <td>902.0</td>\n",
       "      <td>0.0</td>\n",
       "      <td>0.0</td>\n",
       "      <td>0.0</td>\n",
       "      <td>1</td>\n",
       "      <td>1282.0</td>\n",
       "      <td>One</td>\n",
       "    </tr>\n",
       "    <tr>\n",
       "      <th>2927</th>\n",
       "      <td>0.092903</td>\n",
       "      <td>161.666667</td>\n",
       "      <td>112.0</td>\n",
       "      <td>0.0</td>\n",
       "      <td>970.0</td>\n",
       "      <td>0.0</td>\n",
       "      <td>0.0</td>\n",
       "      <td>0.0</td>\n",
       "      <td>2</td>\n",
       "      <td>1282.0</td>\n",
       "      <td>Split</td>\n",
       "    </tr>\n",
       "    <tr>\n",
       "      <th>2928</th>\n",
       "      <td>0.138761</td>\n",
       "      <td>231.500000</td>\n",
       "      <td>278.0</td>\n",
       "      <td>0.0</td>\n",
       "      <td>1389.0</td>\n",
       "      <td>0.0</td>\n",
       "      <td>0.0</td>\n",
       "      <td>0.0</td>\n",
       "      <td>2</td>\n",
       "      <td>1282.0</td>\n",
       "      <td>One</td>\n",
       "    </tr>\n",
       "    <tr>\n",
       "      <th>2929</th>\n",
       "      <td>0.207749</td>\n",
       "      <td>222.222222</td>\n",
       "      <td>238.0</td>\n",
       "      <td>0.0</td>\n",
       "      <td>2000.0</td>\n",
       "      <td>0.0</td>\n",
       "      <td>0.0</td>\n",
       "      <td>0.0</td>\n",
       "      <td>2</td>\n",
       "      <td>1282.0</td>\n",
       "      <td>Two</td>\n",
       "    </tr>\n",
       "  </tbody>\n",
       "</table>\n",
       "<p>2930 rows × 11 columns</p>\n",
       "</div>"
      ],
      "text/plain": [
       "      LivLotRatio  Spaciousness  TotalOutsideSF  Bldg_Duplex  Bldg_OneFam  \\\n",
       "0        0.052125    236.571429           272.0          0.0       1656.0   \n",
       "1        0.077095    179.200000           260.0          0.0        896.0   \n",
       "2        0.093152    221.500000           429.0          0.0       1329.0   \n",
       "3        0.189068    263.750000             0.0          0.0       2110.0   \n",
       "4        0.117787    271.500000           246.0          0.0       1629.0   \n",
       "...           ...           ...             ...          ...          ...   \n",
       "2925     0.126370    167.166667           120.0          0.0       1003.0   \n",
       "2926     0.101519    180.400000           164.0          0.0        902.0   \n",
       "2927     0.092903    161.666667           112.0          0.0        970.0   \n",
       "2928     0.138761    231.500000           278.0          0.0       1389.0   \n",
       "2929     0.207749    222.222222           238.0          0.0       2000.0   \n",
       "\n",
       "      Bldg_Twnhs  Bldg_TwnhsE  Bldg_TwoFmCon  PorchTypes  MedNhbdArea MSClass  \n",
       "0            0.0          0.0            0.0           2       1200.0     One  \n",
       "1            0.0          0.0            0.0           2       1200.0     One  \n",
       "2            0.0          0.0            0.0           2       1200.0     One  \n",
       "3            0.0          0.0            0.0           0       1200.0     One  \n",
       "4            0.0          0.0            0.0           2       1560.0     Two  \n",
       "...          ...          ...            ...         ...          ...     ...  \n",
       "2925         0.0          0.0            0.0           1       1282.0   Split  \n",
       "2926         0.0          0.0            0.0           1       1282.0     One  \n",
       "2927         0.0          0.0            0.0           2       1282.0   Split  \n",
       "2928         0.0          0.0            0.0           2       1282.0     One  \n",
       "2929         0.0          0.0            0.0           2       1282.0     Two  \n",
       "\n",
       "[2930 rows x 11 columns]"
      ]
     },
     "execution_count": 15,
     "metadata": {},
     "output_type": "execute_result"
    }
   ],
   "source": [
    "new_=pd.DataFrame()\n",
    "pd.concat([X_1,X_2,X_3,X_5,X_4],axis=1)\n"
   ]
  },
  {
   "cell_type": "markdown",
   "id": "b6d9d288",
   "metadata": {
    "papermill": {
     "duration": 0.006879,
     "end_time": "2023-08-28T10:22:57.276945",
     "exception": false,
     "start_time": "2023-08-28T10:22:57.270066",
     "status": "completed"
    },
    "tags": []
   },
   "source": [
    "# Keep Going #\n",
    "\n",
    "[**Untangle spatial relationships**](https://www.kaggle.com/ryanholbrook/clustering-with-k-means) by adding cluster labels to your dataset."
   ]
  },
  {
   "cell_type": "markdown",
   "id": "fd66892b",
   "metadata": {
    "papermill": {
     "duration": 0.006721,
     "end_time": "2023-08-28T10:22:57.290659",
     "exception": false,
     "start_time": "2023-08-28T10:22:57.283938",
     "status": "completed"
    },
    "tags": []
   },
   "source": [
    "---\n",
    "\n",
    "\n",
    "\n",
    "\n",
    "*Have questions or comments? Visit the [course discussion forum](https://www.kaggle.com/learn/feature-engineering/discussion) to chat with other learners.*"
   ]
  }
 ],
 "metadata": {
  "kernelspec": {
   "display_name": "Python 3",
   "language": "python",
   "name": "python3"
  },
  "language_info": {
   "codemirror_mode": {
    "name": "ipython",
    "version": 3
   },
   "file_extension": ".py",
   "mimetype": "text/x-python",
   "name": "python",
   "nbconvert_exporter": "python",
   "pygments_lexer": "ipython3",
   "version": "3.10.12"
  },
  "papermill": {
   "default_parameters": {},
   "duration": 13.185485,
   "end_time": "2023-08-28T10:22:58.117665",
   "environment_variables": {},
   "exception": null,
   "input_path": "__notebook__.ipynb",
   "output_path": "__notebook__.ipynb",
   "parameters": {},
   "start_time": "2023-08-28T10:22:44.932180",
   "version": "2.4.0"
  }
 },
 "nbformat": 4,
 "nbformat_minor": 5
}
