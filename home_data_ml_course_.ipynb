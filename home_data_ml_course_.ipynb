{
 "cells": [
  {
   "cell_type": "code",
   "execution_count": 1,
   "id": "4681a578",
   "metadata": {
    "_cell_guid": "b1076dfc-b9ad-4769-8c92-a6c4dae69d19",
    "_uuid": "8f2839f25d086af736a60e9eeb907d3b93b6e0e5",
    "execution": {
     "iopub.execute_input": "2023-06-02T15:30:17.389408Z",
     "iopub.status.busy": "2023-06-02T15:30:17.388876Z",
     "iopub.status.idle": "2023-06-02T15:30:17.415136Z",
     "shell.execute_reply": "2023-06-02T15:30:17.411165Z"
    },
    "papermill": {
     "duration": 0.043556,
     "end_time": "2023-06-02T15:30:17.419223",
     "exception": false,
     "start_time": "2023-06-02T15:30:17.375667",
     "status": "completed"
    },
    "tags": []
   },
   "outputs": [
    {
     "name": "stdout",
     "output_type": "stream",
     "text": [
      "/kaggle/input/home-data-for-ml-course/sample_submission.csv\n",
      "/kaggle/input/home-data-for-ml-course/sample_submission.csv.gz\n",
      "/kaggle/input/home-data-for-ml-course/train.csv.gz\n",
      "/kaggle/input/home-data-for-ml-course/data_description.txt\n",
      "/kaggle/input/home-data-for-ml-course/test.csv.gz\n",
      "/kaggle/input/home-data-for-ml-course/train.csv\n",
      "/kaggle/input/home-data-for-ml-course/test.csv\n"
     ]
    }
   ],
   "source": [
    "# This Python 3 environment comes with many helpful analytics libraries installed\n",
    "# It is defined by the kaggle/python Docker image: https://github.com/kaggle/docker-python\n",
    "# For example, here's several helpful packages to load\n",
    "\n",
    "import numpy as np # linear algebra\n",
    "import pandas as pd # data processing, CSV file I/O (e.g. pd.read_csv)\n",
    "\n",
    "# Input data files are available in the read-only \"../input/\" directory\n",
    "# For example, running this (by clicking run or pressing Shift+Enter) will list all files under the input directory\n",
    "\n",
    "import os\n",
    "for dirname, _, filenames in os.walk('/kaggle/input'):\n",
    "    for filename in filenames:\n",
    "        print(os.path.join(dirname, filename))\n",
    "\n",
    "# You can write up to 20GB to the current directory (/kaggle/working/) that gets preserved as output when you create a version using \"Save & Run All\" \n",
    "# You can also write temporary files to /kaggle/temp/, but they won't be saved outside of the current session"
   ]
  },
  {
   "cell_type": "code",
   "execution_count": 2,
   "id": "196832a2",
   "metadata": {
    "execution": {
     "iopub.execute_input": "2023-06-02T15:30:17.442341Z",
     "iopub.status.busy": "2023-06-02T15:30:17.441619Z",
     "iopub.status.idle": "2023-06-02T15:30:17.553836Z",
     "shell.execute_reply": "2023-06-02T15:30:17.552015Z"
    },
    "papermill": {
     "duration": 0.12822,
     "end_time": "2023-06-02T15:30:17.557741",
     "exception": false,
     "start_time": "2023-06-02T15:30:17.429521",
     "status": "completed"
    },
    "tags": []
   },
   "outputs": [],
   "source": [
    "train_ =pd.read_csv('/kaggle/input/home-data-for-ml-course/train.csv')\n",
    "test_=pd.read_csv('/kaggle/input/home-data-for-ml-course/test.csv')"
   ]
  },
  {
   "cell_type": "code",
   "execution_count": 3,
   "id": "b89f364e",
   "metadata": {
    "execution": {
     "iopub.execute_input": "2023-06-02T15:30:17.582989Z",
     "iopub.status.busy": "2023-06-02T15:30:17.582472Z",
     "iopub.status.idle": "2023-06-02T15:30:17.645391Z",
     "shell.execute_reply": "2023-06-02T15:30:17.643944Z"
    },
    "papermill": {
     "duration": 0.078727,
     "end_time": "2023-06-02T15:30:17.648437",
     "exception": false,
     "start_time": "2023-06-02T15:30:17.569710",
     "status": "completed"
    },
    "tags": []
   },
   "outputs": [
    {
     "data": {
      "text/html": [
       "<div>\n",
       "<style scoped>\n",
       "    .dataframe tbody tr th:only-of-type {\n",
       "        vertical-align: middle;\n",
       "    }\n",
       "\n",
       "    .dataframe tbody tr th {\n",
       "        vertical-align: top;\n",
       "    }\n",
       "\n",
       "    .dataframe thead th {\n",
       "        text-align: right;\n",
       "    }\n",
       "</style>\n",
       "<table border=\"1\" class=\"dataframe\">\n",
       "  <thead>\n",
       "    <tr style=\"text-align: right;\">\n",
       "      <th></th>\n",
       "      <th>Id</th>\n",
       "      <th>MSSubClass</th>\n",
       "      <th>MSZoning</th>\n",
       "      <th>LotFrontage</th>\n",
       "      <th>LotArea</th>\n",
       "      <th>Street</th>\n",
       "      <th>Alley</th>\n",
       "      <th>LotShape</th>\n",
       "      <th>LandContour</th>\n",
       "      <th>Utilities</th>\n",
       "      <th>...</th>\n",
       "      <th>PoolArea</th>\n",
       "      <th>PoolQC</th>\n",
       "      <th>Fence</th>\n",
       "      <th>MiscFeature</th>\n",
       "      <th>MiscVal</th>\n",
       "      <th>MoSold</th>\n",
       "      <th>YrSold</th>\n",
       "      <th>SaleType</th>\n",
       "      <th>SaleCondition</th>\n",
       "      <th>SalePrice</th>\n",
       "    </tr>\n",
       "  </thead>\n",
       "  <tbody>\n",
       "    <tr>\n",
       "      <th>0</th>\n",
       "      <td>1</td>\n",
       "      <td>60</td>\n",
       "      <td>RL</td>\n",
       "      <td>65.0</td>\n",
       "      <td>8450</td>\n",
       "      <td>Pave</td>\n",
       "      <td>NaN</td>\n",
       "      <td>Reg</td>\n",
       "      <td>Lvl</td>\n",
       "      <td>AllPub</td>\n",
       "      <td>...</td>\n",
       "      <td>0</td>\n",
       "      <td>NaN</td>\n",
       "      <td>NaN</td>\n",
       "      <td>NaN</td>\n",
       "      <td>0</td>\n",
       "      <td>2</td>\n",
       "      <td>2008</td>\n",
       "      <td>WD</td>\n",
       "      <td>Normal</td>\n",
       "      <td>208500</td>\n",
       "    </tr>\n",
       "    <tr>\n",
       "      <th>1</th>\n",
       "      <td>2</td>\n",
       "      <td>20</td>\n",
       "      <td>RL</td>\n",
       "      <td>80.0</td>\n",
       "      <td>9600</td>\n",
       "      <td>Pave</td>\n",
       "      <td>NaN</td>\n",
       "      <td>Reg</td>\n",
       "      <td>Lvl</td>\n",
       "      <td>AllPub</td>\n",
       "      <td>...</td>\n",
       "      <td>0</td>\n",
       "      <td>NaN</td>\n",
       "      <td>NaN</td>\n",
       "      <td>NaN</td>\n",
       "      <td>0</td>\n",
       "      <td>5</td>\n",
       "      <td>2007</td>\n",
       "      <td>WD</td>\n",
       "      <td>Normal</td>\n",
       "      <td>181500</td>\n",
       "    </tr>\n",
       "    <tr>\n",
       "      <th>2</th>\n",
       "      <td>3</td>\n",
       "      <td>60</td>\n",
       "      <td>RL</td>\n",
       "      <td>68.0</td>\n",
       "      <td>11250</td>\n",
       "      <td>Pave</td>\n",
       "      <td>NaN</td>\n",
       "      <td>IR1</td>\n",
       "      <td>Lvl</td>\n",
       "      <td>AllPub</td>\n",
       "      <td>...</td>\n",
       "      <td>0</td>\n",
       "      <td>NaN</td>\n",
       "      <td>NaN</td>\n",
       "      <td>NaN</td>\n",
       "      <td>0</td>\n",
       "      <td>9</td>\n",
       "      <td>2008</td>\n",
       "      <td>WD</td>\n",
       "      <td>Normal</td>\n",
       "      <td>223500</td>\n",
       "    </tr>\n",
       "    <tr>\n",
       "      <th>3</th>\n",
       "      <td>4</td>\n",
       "      <td>70</td>\n",
       "      <td>RL</td>\n",
       "      <td>60.0</td>\n",
       "      <td>9550</td>\n",
       "      <td>Pave</td>\n",
       "      <td>NaN</td>\n",
       "      <td>IR1</td>\n",
       "      <td>Lvl</td>\n",
       "      <td>AllPub</td>\n",
       "      <td>...</td>\n",
       "      <td>0</td>\n",
       "      <td>NaN</td>\n",
       "      <td>NaN</td>\n",
       "      <td>NaN</td>\n",
       "      <td>0</td>\n",
       "      <td>2</td>\n",
       "      <td>2006</td>\n",
       "      <td>WD</td>\n",
       "      <td>Abnorml</td>\n",
       "      <td>140000</td>\n",
       "    </tr>\n",
       "    <tr>\n",
       "      <th>4</th>\n",
       "      <td>5</td>\n",
       "      <td>60</td>\n",
       "      <td>RL</td>\n",
       "      <td>84.0</td>\n",
       "      <td>14260</td>\n",
       "      <td>Pave</td>\n",
       "      <td>NaN</td>\n",
       "      <td>IR1</td>\n",
       "      <td>Lvl</td>\n",
       "      <td>AllPub</td>\n",
       "      <td>...</td>\n",
       "      <td>0</td>\n",
       "      <td>NaN</td>\n",
       "      <td>NaN</td>\n",
       "      <td>NaN</td>\n",
       "      <td>0</td>\n",
       "      <td>12</td>\n",
       "      <td>2008</td>\n",
       "      <td>WD</td>\n",
       "      <td>Normal</td>\n",
       "      <td>250000</td>\n",
       "    </tr>\n",
       "  </tbody>\n",
       "</table>\n",
       "<p>5 rows × 81 columns</p>\n",
       "</div>"
      ],
      "text/plain": [
       "   Id  MSSubClass MSZoning  LotFrontage  LotArea Street Alley LotShape  \\\n",
       "0   1          60       RL         65.0     8450   Pave   NaN      Reg   \n",
       "1   2          20       RL         80.0     9600   Pave   NaN      Reg   \n",
       "2   3          60       RL         68.0    11250   Pave   NaN      IR1   \n",
       "3   4          70       RL         60.0     9550   Pave   NaN      IR1   \n",
       "4   5          60       RL         84.0    14260   Pave   NaN      IR1   \n",
       "\n",
       "  LandContour Utilities  ... PoolArea PoolQC Fence MiscFeature MiscVal MoSold  \\\n",
       "0         Lvl    AllPub  ...        0    NaN   NaN         NaN       0      2   \n",
       "1         Lvl    AllPub  ...        0    NaN   NaN         NaN       0      5   \n",
       "2         Lvl    AllPub  ...        0    NaN   NaN         NaN       0      9   \n",
       "3         Lvl    AllPub  ...        0    NaN   NaN         NaN       0      2   \n",
       "4         Lvl    AllPub  ...        0    NaN   NaN         NaN       0     12   \n",
       "\n",
       "  YrSold  SaleType  SaleCondition  SalePrice  \n",
       "0   2008        WD         Normal     208500  \n",
       "1   2007        WD         Normal     181500  \n",
       "2   2008        WD         Normal     223500  \n",
       "3   2006        WD        Abnorml     140000  \n",
       "4   2008        WD         Normal     250000  \n",
       "\n",
       "[5 rows x 81 columns]"
      ]
     },
     "execution_count": 3,
     "metadata": {},
     "output_type": "execute_result"
    }
   ],
   "source": [
    "train_.head()"
   ]
  },
  {
   "cell_type": "code",
   "execution_count": 4,
   "id": "f7c4b2ef",
   "metadata": {
    "execution": {
     "iopub.execute_input": "2023-06-02T15:30:17.673460Z",
     "iopub.status.busy": "2023-06-02T15:30:17.673038Z",
     "iopub.status.idle": "2023-06-02T15:30:17.809694Z",
     "shell.execute_reply": "2023-06-02T15:30:17.808476Z"
    },
    "papermill": {
     "duration": 0.152874,
     "end_time": "2023-06-02T15:30:17.813578",
     "exception": false,
     "start_time": "2023-06-02T15:30:17.660704",
     "status": "completed"
    },
    "tags": []
   },
   "outputs": [
    {
     "data": {
      "text/html": [
       "<div>\n",
       "<style scoped>\n",
       "    .dataframe tbody tr th:only-of-type {\n",
       "        vertical-align: middle;\n",
       "    }\n",
       "\n",
       "    .dataframe tbody tr th {\n",
       "        vertical-align: top;\n",
       "    }\n",
       "\n",
       "    .dataframe thead th {\n",
       "        text-align: right;\n",
       "    }\n",
       "</style>\n",
       "<table border=\"1\" class=\"dataframe\">\n",
       "  <thead>\n",
       "    <tr style=\"text-align: right;\">\n",
       "      <th></th>\n",
       "      <th>Id</th>\n",
       "      <th>MSSubClass</th>\n",
       "      <th>LotFrontage</th>\n",
       "      <th>LotArea</th>\n",
       "      <th>OverallQual</th>\n",
       "      <th>OverallCond</th>\n",
       "      <th>YearBuilt</th>\n",
       "      <th>YearRemodAdd</th>\n",
       "      <th>MasVnrArea</th>\n",
       "      <th>BsmtFinSF1</th>\n",
       "      <th>...</th>\n",
       "      <th>WoodDeckSF</th>\n",
       "      <th>OpenPorchSF</th>\n",
       "      <th>EnclosedPorch</th>\n",
       "      <th>3SsnPorch</th>\n",
       "      <th>ScreenPorch</th>\n",
       "      <th>PoolArea</th>\n",
       "      <th>MiscVal</th>\n",
       "      <th>MoSold</th>\n",
       "      <th>YrSold</th>\n",
       "      <th>SalePrice</th>\n",
       "    </tr>\n",
       "  </thead>\n",
       "  <tbody>\n",
       "    <tr>\n",
       "      <th>count</th>\n",
       "      <td>1460.000000</td>\n",
       "      <td>1460.000000</td>\n",
       "      <td>1201.000000</td>\n",
       "      <td>1460.000000</td>\n",
       "      <td>1460.000000</td>\n",
       "      <td>1460.000000</td>\n",
       "      <td>1460.000000</td>\n",
       "      <td>1460.000000</td>\n",
       "      <td>1452.000000</td>\n",
       "      <td>1460.000000</td>\n",
       "      <td>...</td>\n",
       "      <td>1460.000000</td>\n",
       "      <td>1460.000000</td>\n",
       "      <td>1460.000000</td>\n",
       "      <td>1460.000000</td>\n",
       "      <td>1460.000000</td>\n",
       "      <td>1460.000000</td>\n",
       "      <td>1460.000000</td>\n",
       "      <td>1460.000000</td>\n",
       "      <td>1460.000000</td>\n",
       "      <td>1460.000000</td>\n",
       "    </tr>\n",
       "    <tr>\n",
       "      <th>mean</th>\n",
       "      <td>730.500000</td>\n",
       "      <td>56.897260</td>\n",
       "      <td>70.049958</td>\n",
       "      <td>10516.828082</td>\n",
       "      <td>6.099315</td>\n",
       "      <td>5.575342</td>\n",
       "      <td>1971.267808</td>\n",
       "      <td>1984.865753</td>\n",
       "      <td>103.685262</td>\n",
       "      <td>443.639726</td>\n",
       "      <td>...</td>\n",
       "      <td>94.244521</td>\n",
       "      <td>46.660274</td>\n",
       "      <td>21.954110</td>\n",
       "      <td>3.409589</td>\n",
       "      <td>15.060959</td>\n",
       "      <td>2.758904</td>\n",
       "      <td>43.489041</td>\n",
       "      <td>6.321918</td>\n",
       "      <td>2007.815753</td>\n",
       "      <td>180921.195890</td>\n",
       "    </tr>\n",
       "    <tr>\n",
       "      <th>std</th>\n",
       "      <td>421.610009</td>\n",
       "      <td>42.300571</td>\n",
       "      <td>24.284752</td>\n",
       "      <td>9981.264932</td>\n",
       "      <td>1.382997</td>\n",
       "      <td>1.112799</td>\n",
       "      <td>30.202904</td>\n",
       "      <td>20.645407</td>\n",
       "      <td>181.066207</td>\n",
       "      <td>456.098091</td>\n",
       "      <td>...</td>\n",
       "      <td>125.338794</td>\n",
       "      <td>66.256028</td>\n",
       "      <td>61.119149</td>\n",
       "      <td>29.317331</td>\n",
       "      <td>55.757415</td>\n",
       "      <td>40.177307</td>\n",
       "      <td>496.123024</td>\n",
       "      <td>2.703626</td>\n",
       "      <td>1.328095</td>\n",
       "      <td>79442.502883</td>\n",
       "    </tr>\n",
       "    <tr>\n",
       "      <th>min</th>\n",
       "      <td>1.000000</td>\n",
       "      <td>20.000000</td>\n",
       "      <td>21.000000</td>\n",
       "      <td>1300.000000</td>\n",
       "      <td>1.000000</td>\n",
       "      <td>1.000000</td>\n",
       "      <td>1872.000000</td>\n",
       "      <td>1950.000000</td>\n",
       "      <td>0.000000</td>\n",
       "      <td>0.000000</td>\n",
       "      <td>...</td>\n",
       "      <td>0.000000</td>\n",
       "      <td>0.000000</td>\n",
       "      <td>0.000000</td>\n",
       "      <td>0.000000</td>\n",
       "      <td>0.000000</td>\n",
       "      <td>0.000000</td>\n",
       "      <td>0.000000</td>\n",
       "      <td>1.000000</td>\n",
       "      <td>2006.000000</td>\n",
       "      <td>34900.000000</td>\n",
       "    </tr>\n",
       "    <tr>\n",
       "      <th>25%</th>\n",
       "      <td>365.750000</td>\n",
       "      <td>20.000000</td>\n",
       "      <td>59.000000</td>\n",
       "      <td>7553.500000</td>\n",
       "      <td>5.000000</td>\n",
       "      <td>5.000000</td>\n",
       "      <td>1954.000000</td>\n",
       "      <td>1967.000000</td>\n",
       "      <td>0.000000</td>\n",
       "      <td>0.000000</td>\n",
       "      <td>...</td>\n",
       "      <td>0.000000</td>\n",
       "      <td>0.000000</td>\n",
       "      <td>0.000000</td>\n",
       "      <td>0.000000</td>\n",
       "      <td>0.000000</td>\n",
       "      <td>0.000000</td>\n",
       "      <td>0.000000</td>\n",
       "      <td>5.000000</td>\n",
       "      <td>2007.000000</td>\n",
       "      <td>129975.000000</td>\n",
       "    </tr>\n",
       "    <tr>\n",
       "      <th>50%</th>\n",
       "      <td>730.500000</td>\n",
       "      <td>50.000000</td>\n",
       "      <td>69.000000</td>\n",
       "      <td>9478.500000</td>\n",
       "      <td>6.000000</td>\n",
       "      <td>5.000000</td>\n",
       "      <td>1973.000000</td>\n",
       "      <td>1994.000000</td>\n",
       "      <td>0.000000</td>\n",
       "      <td>383.500000</td>\n",
       "      <td>...</td>\n",
       "      <td>0.000000</td>\n",
       "      <td>25.000000</td>\n",
       "      <td>0.000000</td>\n",
       "      <td>0.000000</td>\n",
       "      <td>0.000000</td>\n",
       "      <td>0.000000</td>\n",
       "      <td>0.000000</td>\n",
       "      <td>6.000000</td>\n",
       "      <td>2008.000000</td>\n",
       "      <td>163000.000000</td>\n",
       "    </tr>\n",
       "    <tr>\n",
       "      <th>75%</th>\n",
       "      <td>1095.250000</td>\n",
       "      <td>70.000000</td>\n",
       "      <td>80.000000</td>\n",
       "      <td>11601.500000</td>\n",
       "      <td>7.000000</td>\n",
       "      <td>6.000000</td>\n",
       "      <td>2000.000000</td>\n",
       "      <td>2004.000000</td>\n",
       "      <td>166.000000</td>\n",
       "      <td>712.250000</td>\n",
       "      <td>...</td>\n",
       "      <td>168.000000</td>\n",
       "      <td>68.000000</td>\n",
       "      <td>0.000000</td>\n",
       "      <td>0.000000</td>\n",
       "      <td>0.000000</td>\n",
       "      <td>0.000000</td>\n",
       "      <td>0.000000</td>\n",
       "      <td>8.000000</td>\n",
       "      <td>2009.000000</td>\n",
       "      <td>214000.000000</td>\n",
       "    </tr>\n",
       "    <tr>\n",
       "      <th>max</th>\n",
       "      <td>1460.000000</td>\n",
       "      <td>190.000000</td>\n",
       "      <td>313.000000</td>\n",
       "      <td>215245.000000</td>\n",
       "      <td>10.000000</td>\n",
       "      <td>9.000000</td>\n",
       "      <td>2010.000000</td>\n",
       "      <td>2010.000000</td>\n",
       "      <td>1600.000000</td>\n",
       "      <td>5644.000000</td>\n",
       "      <td>...</td>\n",
       "      <td>857.000000</td>\n",
       "      <td>547.000000</td>\n",
       "      <td>552.000000</td>\n",
       "      <td>508.000000</td>\n",
       "      <td>480.000000</td>\n",
       "      <td>738.000000</td>\n",
       "      <td>15500.000000</td>\n",
       "      <td>12.000000</td>\n",
       "      <td>2010.000000</td>\n",
       "      <td>755000.000000</td>\n",
       "    </tr>\n",
       "  </tbody>\n",
       "</table>\n",
       "<p>8 rows × 38 columns</p>\n",
       "</div>"
      ],
      "text/plain": [
       "                Id   MSSubClass  LotFrontage        LotArea  OverallQual  \\\n",
       "count  1460.000000  1460.000000  1201.000000    1460.000000  1460.000000   \n",
       "mean    730.500000    56.897260    70.049958   10516.828082     6.099315   \n",
       "std     421.610009    42.300571    24.284752    9981.264932     1.382997   \n",
       "min       1.000000    20.000000    21.000000    1300.000000     1.000000   \n",
       "25%     365.750000    20.000000    59.000000    7553.500000     5.000000   \n",
       "50%     730.500000    50.000000    69.000000    9478.500000     6.000000   \n",
       "75%    1095.250000    70.000000    80.000000   11601.500000     7.000000   \n",
       "max    1460.000000   190.000000   313.000000  215245.000000    10.000000   \n",
       "\n",
       "       OverallCond    YearBuilt  YearRemodAdd   MasVnrArea   BsmtFinSF1  ...  \\\n",
       "count  1460.000000  1460.000000   1460.000000  1452.000000  1460.000000  ...   \n",
       "mean      5.575342  1971.267808   1984.865753   103.685262   443.639726  ...   \n",
       "std       1.112799    30.202904     20.645407   181.066207   456.098091  ...   \n",
       "min       1.000000  1872.000000   1950.000000     0.000000     0.000000  ...   \n",
       "25%       5.000000  1954.000000   1967.000000     0.000000     0.000000  ...   \n",
       "50%       5.000000  1973.000000   1994.000000     0.000000   383.500000  ...   \n",
       "75%       6.000000  2000.000000   2004.000000   166.000000   712.250000  ...   \n",
       "max       9.000000  2010.000000   2010.000000  1600.000000  5644.000000  ...   \n",
       "\n",
       "        WoodDeckSF  OpenPorchSF  EnclosedPorch    3SsnPorch  ScreenPorch  \\\n",
       "count  1460.000000  1460.000000    1460.000000  1460.000000  1460.000000   \n",
       "mean     94.244521    46.660274      21.954110     3.409589    15.060959   \n",
       "std     125.338794    66.256028      61.119149    29.317331    55.757415   \n",
       "min       0.000000     0.000000       0.000000     0.000000     0.000000   \n",
       "25%       0.000000     0.000000       0.000000     0.000000     0.000000   \n",
       "50%       0.000000    25.000000       0.000000     0.000000     0.000000   \n",
       "75%     168.000000    68.000000       0.000000     0.000000     0.000000   \n",
       "max     857.000000   547.000000     552.000000   508.000000   480.000000   \n",
       "\n",
       "          PoolArea       MiscVal       MoSold       YrSold      SalePrice  \n",
       "count  1460.000000   1460.000000  1460.000000  1460.000000    1460.000000  \n",
       "mean      2.758904     43.489041     6.321918  2007.815753  180921.195890  \n",
       "std      40.177307    496.123024     2.703626     1.328095   79442.502883  \n",
       "min       0.000000      0.000000     1.000000  2006.000000   34900.000000  \n",
       "25%       0.000000      0.000000     5.000000  2007.000000  129975.000000  \n",
       "50%       0.000000      0.000000     6.000000  2008.000000  163000.000000  \n",
       "75%       0.000000      0.000000     8.000000  2009.000000  214000.000000  \n",
       "max     738.000000  15500.000000    12.000000  2010.000000  755000.000000  \n",
       "\n",
       "[8 rows x 38 columns]"
      ]
     },
     "execution_count": 4,
     "metadata": {},
     "output_type": "execute_result"
    }
   ],
   "source": [
    "train_.describe()"
   ]
  },
  {
   "cell_type": "code",
   "execution_count": 5,
   "id": "946efc39",
   "metadata": {
    "execution": {
     "iopub.execute_input": "2023-06-02T15:30:17.840407Z",
     "iopub.status.busy": "2023-06-02T15:30:17.840013Z",
     "iopub.status.idle": "2023-06-02T15:30:17.872577Z",
     "shell.execute_reply": "2023-06-02T15:30:17.870792Z"
    },
    "papermill": {
     "duration": 0.050463,
     "end_time": "2023-06-02T15:30:17.876258",
     "exception": false,
     "start_time": "2023-06-02T15:30:17.825795",
     "status": "completed"
    },
    "tags": []
   },
   "outputs": [
    {
     "data": {
      "text/plain": [
       "Index(['Id', 'MSSubClass', 'MSZoning', 'LotArea', 'Street', 'LotShape',\n",
       "       'LandContour', 'Utilities', 'LotConfig', 'LandSlope', 'Neighborhood',\n",
       "       'Condition1', 'Condition2', 'BldgType', 'HouseStyle', 'OverallQual',\n",
       "       'OverallCond', 'YearBuilt', 'YearRemodAdd', 'RoofStyle', 'RoofMatl',\n",
       "       'Exterior1st', 'Exterior2nd', 'ExterQual', 'ExterCond', 'Foundation',\n",
       "       'BsmtFinSF1', 'BsmtFinSF2', 'BsmtUnfSF', 'TotalBsmtSF', 'Heating',\n",
       "       'HeatingQC', 'CentralAir', '1stFlrSF', '2ndFlrSF', 'LowQualFinSF',\n",
       "       'GrLivArea', 'BsmtFullBath', 'BsmtHalfBath', 'FullBath', 'HalfBath',\n",
       "       'BedroomAbvGr', 'KitchenAbvGr', 'KitchenQual', 'TotRmsAbvGrd',\n",
       "       'Functional', 'Fireplaces', 'GarageCars', 'GarageArea', 'PavedDrive',\n",
       "       'WoodDeckSF', 'OpenPorchSF', 'EnclosedPorch', '3SsnPorch',\n",
       "       'ScreenPorch', 'PoolArea', 'MiscVal', 'MoSold', 'YrSold', 'SaleType',\n",
       "       'SaleCondition', 'SalePrice'],\n",
       "      dtype='object')"
      ]
     },
     "execution_count": 5,
     "metadata": {},
     "output_type": "execute_result"
    }
   ],
   "source": [
    "train_d=train_.dropna(axis=1)\n",
    "train_d.columns"
   ]
  },
  {
   "cell_type": "code",
   "execution_count": 6,
   "id": "3184de2d",
   "metadata": {
    "execution": {
     "iopub.execute_input": "2023-06-02T15:30:17.902148Z",
     "iopub.status.busy": "2023-06-02T15:30:17.901696Z",
     "iopub.status.idle": "2023-06-02T15:30:20.446746Z",
     "shell.execute_reply": "2023-06-02T15:30:20.445447Z"
    },
    "papermill": {
     "duration": 2.561513,
     "end_time": "2023-06-02T15:30:20.450090",
     "exception": false,
     "start_time": "2023-06-02T15:30:17.888577",
     "status": "completed"
    },
    "tags": []
   },
   "outputs": [],
   "source": [
    "from sklearn.model_selection import train_test_split \n",
    "from sklearn.linear_model import LinearRegression\n",
    "from sklearn.metrics import mean_squared_error as mse\n",
    "from sklearn.ensemble import RandomForestRegressor\n",
    "from sklearn.tree import DecisionTreeRegressor "
   ]
  },
  {
   "cell_type": "code",
   "execution_count": 7,
   "id": "6e655b17",
   "metadata": {
    "execution": {
     "iopub.execute_input": "2023-06-02T15:30:20.475308Z",
     "iopub.status.busy": "2023-06-02T15:30:20.474594Z",
     "iopub.status.idle": "2023-06-02T15:30:20.480290Z",
     "shell.execute_reply": "2023-06-02T15:30:20.478796Z"
    },
    "papermill": {
     "duration": 0.022028,
     "end_time": "2023-06-02T15:30:20.483676",
     "exception": false,
     "start_time": "2023-06-02T15:30:20.461648",
     "status": "completed"
    },
    "tags": []
   },
   "outputs": [],
   "source": [
    "mse_models={}"
   ]
  },
  {
   "cell_type": "code",
   "execution_count": 8,
   "id": "7371087e",
   "metadata": {
    "execution": {
     "iopub.execute_input": "2023-06-02T15:30:20.508432Z",
     "iopub.status.busy": "2023-06-02T15:30:20.507731Z",
     "iopub.status.idle": "2023-06-02T15:30:20.517699Z",
     "shell.execute_reply": "2023-06-02T15:30:20.516462Z"
    },
    "papermill": {
     "duration": 0.026009,
     "end_time": "2023-06-02T15:30:20.520892",
     "exception": false,
     "start_time": "2023-06-02T15:30:20.494883",
     "status": "completed"
    },
    "tags": []
   },
   "outputs": [],
   "source": [
    "feature=['OverallQual','YearBuilt',\"PoolArea\",'Fireplaces','OverallCond']\n",
    "X=train_d[feature]\n",
    "y=train_d.SalePrice"
   ]
  },
  {
   "cell_type": "code",
   "execution_count": 9,
   "id": "d46678cc",
   "metadata": {
    "execution": {
     "iopub.execute_input": "2023-06-02T15:30:20.545596Z",
     "iopub.status.busy": "2023-06-02T15:30:20.545147Z",
     "iopub.status.idle": "2023-06-02T15:30:20.553287Z",
     "shell.execute_reply": "2023-06-02T15:30:20.551981Z"
    },
    "papermill": {
     "duration": 0.023923,
     "end_time": "2023-06-02T15:30:20.555852",
     "exception": false,
     "start_time": "2023-06-02T15:30:20.531929",
     "status": "completed"
    },
    "tags": []
   },
   "outputs": [],
   "source": [
    "mse_dict={}\n",
    "def check_test_size(X_name,Y_name,test_size):\n",
    "    for t_size in test_size:\n",
    "        X_train,X_test,y_train,y_test= train_test_split(X_name,Y_name,test_size=t_size,random_state=1)\n",
    "        LR=LinearRegression()\n",
    "        LR.fit(X_train,y_train)        \n",
    "        pred_y=LR.predict(X_test)\n",
    "        mse_dict[t_size]=mse(y_test,pred_y)\n",
    "    return min(mse_dict,key=mse_dict.get)   "
   ]
  },
  {
   "cell_type": "code",
   "execution_count": 10,
   "id": "af20fa5a",
   "metadata": {
    "execution": {
     "iopub.execute_input": "2023-06-02T15:30:20.583427Z",
     "iopub.status.busy": "2023-06-02T15:30:20.582241Z",
     "iopub.status.idle": "2023-06-02T15:30:21.183887Z",
     "shell.execute_reply": "2023-06-02T15:30:21.181732Z"
    },
    "papermill": {
     "duration": 0.618922,
     "end_time": "2023-06-02T15:30:21.187462",
     "exception": false,
     "start_time": "2023-06-02T15:30:20.568540",
     "status": "completed"
    },
    "tags": []
   },
   "outputs": [
    {
     "data": {
      "text/plain": [
       "0.15"
      ]
     },
     "execution_count": 10,
     "metadata": {},
     "output_type": "execute_result"
    }
   ],
   "source": [
    "test_list=[a/100 for a in range(10,100,1)]\n",
    "check_test_size(X,y,test_list)"
   ]
  },
  {
   "cell_type": "code",
   "execution_count": 11,
   "id": "59baf331",
   "metadata": {
    "execution": {
     "iopub.execute_input": "2023-06-02T15:30:21.215788Z",
     "iopub.status.busy": "2023-06-02T15:30:21.214243Z",
     "iopub.status.idle": "2023-06-02T15:30:21.759332Z",
     "shell.execute_reply": "2023-06-02T15:30:21.758030Z"
    },
    "papermill": {
     "duration": 0.562263,
     "end_time": "2023-06-02T15:30:21.763257",
     "exception": false,
     "start_time": "2023-06-02T15:30:21.200994",
     "status": "completed"
    },
    "tags": []
   },
   "outputs": [],
   "source": [
    "X_train,X_test,y_train,y_test= train_test_split(X,y,test_size=check_test_size(X,y,test_list),random_state=1)\n"
   ]
  },
  {
   "cell_type": "code",
   "execution_count": 12,
   "id": "1a6cd4ca",
   "metadata": {
    "execution": {
     "iopub.execute_input": "2023-06-02T15:30:21.787950Z",
     "iopub.status.busy": "2023-06-02T15:30:21.787180Z",
     "iopub.status.idle": "2023-06-02T15:30:21.806128Z",
     "shell.execute_reply": "2023-06-02T15:30:21.804715Z"
    },
    "papermill": {
     "duration": 0.034552,
     "end_time": "2023-06-02T15:30:21.808989",
     "exception": false,
     "start_time": "2023-06-02T15:30:21.774437",
     "status": "completed"
    },
    "tags": []
   },
   "outputs": [
    {
     "data": {
      "text/html": [
       "<style>#sk-container-id-1 {color: black;background-color: white;}#sk-container-id-1 pre{padding: 0;}#sk-container-id-1 div.sk-toggleable {background-color: white;}#sk-container-id-1 label.sk-toggleable__label {cursor: pointer;display: block;width: 100%;margin-bottom: 0;padding: 0.3em;box-sizing: border-box;text-align: center;}#sk-container-id-1 label.sk-toggleable__label-arrow:before {content: \"▸\";float: left;margin-right: 0.25em;color: #696969;}#sk-container-id-1 label.sk-toggleable__label-arrow:hover:before {color: black;}#sk-container-id-1 div.sk-estimator:hover label.sk-toggleable__label-arrow:before {color: black;}#sk-container-id-1 div.sk-toggleable__content {max-height: 0;max-width: 0;overflow: hidden;text-align: left;background-color: #f0f8ff;}#sk-container-id-1 div.sk-toggleable__content pre {margin: 0.2em;color: black;border-radius: 0.25em;background-color: #f0f8ff;}#sk-container-id-1 input.sk-toggleable__control:checked~div.sk-toggleable__content {max-height: 200px;max-width: 100%;overflow: auto;}#sk-container-id-1 input.sk-toggleable__control:checked~label.sk-toggleable__label-arrow:before {content: \"▾\";}#sk-container-id-1 div.sk-estimator input.sk-toggleable__control:checked~label.sk-toggleable__label {background-color: #d4ebff;}#sk-container-id-1 div.sk-label input.sk-toggleable__control:checked~label.sk-toggleable__label {background-color: #d4ebff;}#sk-container-id-1 input.sk-hidden--visually {border: 0;clip: rect(1px 1px 1px 1px);clip: rect(1px, 1px, 1px, 1px);height: 1px;margin: -1px;overflow: hidden;padding: 0;position: absolute;width: 1px;}#sk-container-id-1 div.sk-estimator {font-family: monospace;background-color: #f0f8ff;border: 1px dotted black;border-radius: 0.25em;box-sizing: border-box;margin-bottom: 0.5em;}#sk-container-id-1 div.sk-estimator:hover {background-color: #d4ebff;}#sk-container-id-1 div.sk-parallel-item::after {content: \"\";width: 100%;border-bottom: 1px solid gray;flex-grow: 1;}#sk-container-id-1 div.sk-label:hover label.sk-toggleable__label {background-color: #d4ebff;}#sk-container-id-1 div.sk-serial::before {content: \"\";position: absolute;border-left: 1px solid gray;box-sizing: border-box;top: 0;bottom: 0;left: 50%;z-index: 0;}#sk-container-id-1 div.sk-serial {display: flex;flex-direction: column;align-items: center;background-color: white;padding-right: 0.2em;padding-left: 0.2em;position: relative;}#sk-container-id-1 div.sk-item {position: relative;z-index: 1;}#sk-container-id-1 div.sk-parallel {display: flex;align-items: stretch;justify-content: center;background-color: white;position: relative;}#sk-container-id-1 div.sk-item::before, #sk-container-id-1 div.sk-parallel-item::before {content: \"\";position: absolute;border-left: 1px solid gray;box-sizing: border-box;top: 0;bottom: 0;left: 50%;z-index: -1;}#sk-container-id-1 div.sk-parallel-item {display: flex;flex-direction: column;z-index: 1;position: relative;background-color: white;}#sk-container-id-1 div.sk-parallel-item:first-child::after {align-self: flex-end;width: 50%;}#sk-container-id-1 div.sk-parallel-item:last-child::after {align-self: flex-start;width: 50%;}#sk-container-id-1 div.sk-parallel-item:only-child::after {width: 0;}#sk-container-id-1 div.sk-dashed-wrapped {border: 1px dashed gray;margin: 0 0.4em 0.5em 0.4em;box-sizing: border-box;padding-bottom: 0.4em;background-color: white;}#sk-container-id-1 div.sk-label label {font-family: monospace;font-weight: bold;display: inline-block;line-height: 1.2em;}#sk-container-id-1 div.sk-label-container {text-align: center;}#sk-container-id-1 div.sk-container {/* jupyter's `normalize.less` sets `[hidden] { display: none; }` but bootstrap.min.css set `[hidden] { display: none !important; }` so we also need the `!important` here to be able to override the default hidden behavior on the sphinx rendered scikit-learn.org. See: https://github.com/scikit-learn/scikit-learn/issues/21755 */display: inline-block !important;position: relative;}#sk-container-id-1 div.sk-text-repr-fallback {display: none;}</style><div id=\"sk-container-id-1\" class=\"sk-top-container\"><div class=\"sk-text-repr-fallback\"><pre>LinearRegression()</pre><b>In a Jupyter environment, please rerun this cell to show the HTML representation or trust the notebook. <br />On GitHub, the HTML representation is unable to render, please try loading this page with nbviewer.org.</b></div><div class=\"sk-container\" hidden><div class=\"sk-item\"><div class=\"sk-estimator sk-toggleable\"><input class=\"sk-toggleable__control sk-hidden--visually\" id=\"sk-estimator-id-1\" type=\"checkbox\" checked><label for=\"sk-estimator-id-1\" class=\"sk-toggleable__label sk-toggleable__label-arrow\">LinearRegression</label><div class=\"sk-toggleable__content\"><pre>LinearRegression()</pre></div></div></div></div></div>"
      ],
      "text/plain": [
       "LinearRegression()"
      ]
     },
     "execution_count": 12,
     "metadata": {},
     "output_type": "execute_result"
    }
   ],
   "source": [
    "LR=LinearRegression()\n",
    "LR.fit(X_train,y_train)"
   ]
  },
  {
   "cell_type": "code",
   "execution_count": 13,
   "id": "fd5e4fd5",
   "metadata": {
    "execution": {
     "iopub.execute_input": "2023-06-02T15:30:21.837139Z",
     "iopub.status.busy": "2023-06-02T15:30:21.835912Z",
     "iopub.status.idle": "2023-06-02T15:30:21.843575Z",
     "shell.execute_reply": "2023-06-02T15:30:21.842110Z"
    },
    "papermill": {
     "duration": 0.025527,
     "end_time": "2023-06-02T15:30:21.847591",
     "exception": false,
     "start_time": "2023-06-02T15:30:21.822064",
     "status": "completed"
    },
    "tags": []
   },
   "outputs": [],
   "source": [
    "pred_y=LR.predict(X_test)"
   ]
  },
  {
   "cell_type": "code",
   "execution_count": 14,
   "id": "a3c4f961",
   "metadata": {
    "execution": {
     "iopub.execute_input": "2023-06-02T15:30:21.874019Z",
     "iopub.status.busy": "2023-06-02T15:30:21.872640Z",
     "iopub.status.idle": "2023-06-02T15:30:21.879769Z",
     "shell.execute_reply": "2023-06-02T15:30:21.878807Z"
    },
    "papermill": {
     "duration": 0.023231,
     "end_time": "2023-06-02T15:30:21.882466",
     "exception": false,
     "start_time": "2023-06-02T15:30:21.859235",
     "status": "completed"
    },
    "tags": []
   },
   "outputs": [],
   "source": [
    "mse(y_test,pred_y)\n",
    "mse_models['LR']=mse(y_test,pred_y)"
   ]
  },
  {
   "cell_type": "markdown",
   "id": "2c110633",
   "metadata": {
    "papermill": {
     "duration": 0.011157,
     "end_time": "2023-06-02T15:30:21.904996",
     "exception": false,
     "start_time": "2023-06-02T15:30:21.893839",
     "status": "completed"
    },
    "tags": []
   },
   "source": [
    "## For Decison Tree Regressor"
   ]
  },
  {
   "cell_type": "code",
   "execution_count": 15,
   "id": "d43adefc",
   "metadata": {
    "execution": {
     "iopub.execute_input": "2023-06-02T15:30:21.931618Z",
     "iopub.status.busy": "2023-06-02T15:30:21.930966Z",
     "iopub.status.idle": "2023-06-02T15:30:21.938584Z",
     "shell.execute_reply": "2023-06-02T15:30:21.937526Z"
    },
    "papermill": {
     "duration": 0.024405,
     "end_time": "2023-06-02T15:30:21.941641",
     "exception": false,
     "start_time": "2023-06-02T15:30:21.917236",
     "status": "completed"
    },
    "tags": []
   },
   "outputs": [],
   "source": [
    "def check_leaf_node(max_leaf_nodes,X_name,Y_name):\n",
    "    mse_list={}\n",
    "    for leaf in max_leaf_nodes:\n",
    "        DecisionTreeRegressor_=DecisionTreeRegressor(max_leaf_nodes=leaf,random_state=90)\n",
    "        DecisionTreeRegressor_.fit(X_name,Y_name)\n",
    "        y_pred_DTR= DecisionTreeRegressor_.predict(X_name)\n",
    "        mse_list[leaf]=mse(y_pred_DTR,Y_name)\n",
    "    return min(mse_list,key=mse_list.get),mse_list[min(mse_list,key=mse_list.get)]\n"
   ]
  },
  {
   "cell_type": "code",
   "execution_count": 16,
   "id": "1ec083da",
   "metadata": {
    "execution": {
     "iopub.execute_input": "2023-06-02T15:30:21.966941Z",
     "iopub.status.busy": "2023-06-02T15:30:21.966285Z",
     "iopub.status.idle": "2023-06-02T15:30:23.039929Z",
     "shell.execute_reply": "2023-06-02T15:30:23.038621Z"
    },
    "papermill": {
     "duration": 1.090292,
     "end_time": "2023-06-02T15:30:23.043535",
     "exception": false,
     "start_time": "2023-06-02T15:30:21.953243",
     "status": "completed"
    },
    "tags": []
   },
   "outputs": [
    {
     "name": "stdout",
     "output_type": "stream",
     "text": [
      "The best node for the Decision Tree Regressor is  579 and the mean squared error is  684431654\n"
     ]
    }
   ],
   "source": [
    "try_list=[a for a in range(500,580,1)]\n",
    "print(\"The best node for the Decision Tree Regressor is \",round(check_leaf_node(try_list,X,y)[0]),'and the mean squared error is ', int(check_leaf_node(try_list,X,y)[1]))\n",
    "# campt=check_leaf_node(try_list,X,y)[1]"
   ]
  },
  {
   "cell_type": "code",
   "execution_count": 17,
   "id": "22741ffb",
   "metadata": {
    "execution": {
     "iopub.execute_input": "2023-06-02T15:30:23.071242Z",
     "iopub.status.busy": "2023-06-02T15:30:23.070803Z",
     "iopub.status.idle": "2023-06-02T15:30:23.597626Z",
     "shell.execute_reply": "2023-06-02T15:30:23.596392Z"
    },
    "papermill": {
     "duration": 0.545108,
     "end_time": "2023-06-02T15:30:23.600853",
     "exception": false,
     "start_time": "2023-06-02T15:30:23.055745",
     "status": "completed"
    },
    "tags": []
   },
   "outputs": [],
   "source": [
    "DTR=DecisionTreeRegressor(random_state=2, max_leaf_nodes=check_leaf_node(try_list,X,y)[0])"
   ]
  },
  {
   "cell_type": "code",
   "execution_count": 18,
   "id": "a767ac1f",
   "metadata": {
    "execution": {
     "iopub.execute_input": "2023-06-02T15:30:23.627259Z",
     "iopub.status.busy": "2023-06-02T15:30:23.626763Z",
     "iopub.status.idle": "2023-06-02T15:30:23.641348Z",
     "shell.execute_reply": "2023-06-02T15:30:23.640090Z"
    },
    "papermill": {
     "duration": 0.031244,
     "end_time": "2023-06-02T15:30:23.644307",
     "exception": false,
     "start_time": "2023-06-02T15:30:23.613063",
     "status": "completed"
    },
    "tags": []
   },
   "outputs": [
    {
     "data": {
      "text/html": [
       "<style>#sk-container-id-2 {color: black;background-color: white;}#sk-container-id-2 pre{padding: 0;}#sk-container-id-2 div.sk-toggleable {background-color: white;}#sk-container-id-2 label.sk-toggleable__label {cursor: pointer;display: block;width: 100%;margin-bottom: 0;padding: 0.3em;box-sizing: border-box;text-align: center;}#sk-container-id-2 label.sk-toggleable__label-arrow:before {content: \"▸\";float: left;margin-right: 0.25em;color: #696969;}#sk-container-id-2 label.sk-toggleable__label-arrow:hover:before {color: black;}#sk-container-id-2 div.sk-estimator:hover label.sk-toggleable__label-arrow:before {color: black;}#sk-container-id-2 div.sk-toggleable__content {max-height: 0;max-width: 0;overflow: hidden;text-align: left;background-color: #f0f8ff;}#sk-container-id-2 div.sk-toggleable__content pre {margin: 0.2em;color: black;border-radius: 0.25em;background-color: #f0f8ff;}#sk-container-id-2 input.sk-toggleable__control:checked~div.sk-toggleable__content {max-height: 200px;max-width: 100%;overflow: auto;}#sk-container-id-2 input.sk-toggleable__control:checked~label.sk-toggleable__label-arrow:before {content: \"▾\";}#sk-container-id-2 div.sk-estimator input.sk-toggleable__control:checked~label.sk-toggleable__label {background-color: #d4ebff;}#sk-container-id-2 div.sk-label input.sk-toggleable__control:checked~label.sk-toggleable__label {background-color: #d4ebff;}#sk-container-id-2 input.sk-hidden--visually {border: 0;clip: rect(1px 1px 1px 1px);clip: rect(1px, 1px, 1px, 1px);height: 1px;margin: -1px;overflow: hidden;padding: 0;position: absolute;width: 1px;}#sk-container-id-2 div.sk-estimator {font-family: monospace;background-color: #f0f8ff;border: 1px dotted black;border-radius: 0.25em;box-sizing: border-box;margin-bottom: 0.5em;}#sk-container-id-2 div.sk-estimator:hover {background-color: #d4ebff;}#sk-container-id-2 div.sk-parallel-item::after {content: \"\";width: 100%;border-bottom: 1px solid gray;flex-grow: 1;}#sk-container-id-2 div.sk-label:hover label.sk-toggleable__label {background-color: #d4ebff;}#sk-container-id-2 div.sk-serial::before {content: \"\";position: absolute;border-left: 1px solid gray;box-sizing: border-box;top: 0;bottom: 0;left: 50%;z-index: 0;}#sk-container-id-2 div.sk-serial {display: flex;flex-direction: column;align-items: center;background-color: white;padding-right: 0.2em;padding-left: 0.2em;position: relative;}#sk-container-id-2 div.sk-item {position: relative;z-index: 1;}#sk-container-id-2 div.sk-parallel {display: flex;align-items: stretch;justify-content: center;background-color: white;position: relative;}#sk-container-id-2 div.sk-item::before, #sk-container-id-2 div.sk-parallel-item::before {content: \"\";position: absolute;border-left: 1px solid gray;box-sizing: border-box;top: 0;bottom: 0;left: 50%;z-index: -1;}#sk-container-id-2 div.sk-parallel-item {display: flex;flex-direction: column;z-index: 1;position: relative;background-color: white;}#sk-container-id-2 div.sk-parallel-item:first-child::after {align-self: flex-end;width: 50%;}#sk-container-id-2 div.sk-parallel-item:last-child::after {align-self: flex-start;width: 50%;}#sk-container-id-2 div.sk-parallel-item:only-child::after {width: 0;}#sk-container-id-2 div.sk-dashed-wrapped {border: 1px dashed gray;margin: 0 0.4em 0.5em 0.4em;box-sizing: border-box;padding-bottom: 0.4em;background-color: white;}#sk-container-id-2 div.sk-label label {font-family: monospace;font-weight: bold;display: inline-block;line-height: 1.2em;}#sk-container-id-2 div.sk-label-container {text-align: center;}#sk-container-id-2 div.sk-container {/* jupyter's `normalize.less` sets `[hidden] { display: none; }` but bootstrap.min.css set `[hidden] { display: none !important; }` so we also need the `!important` here to be able to override the default hidden behavior on the sphinx rendered scikit-learn.org. See: https://github.com/scikit-learn/scikit-learn/issues/21755 */display: inline-block !important;position: relative;}#sk-container-id-2 div.sk-text-repr-fallback {display: none;}</style><div id=\"sk-container-id-2\" class=\"sk-top-container\"><div class=\"sk-text-repr-fallback\"><pre>DecisionTreeRegressor(max_leaf_nodes=579, random_state=2)</pre><b>In a Jupyter environment, please rerun this cell to show the HTML representation or trust the notebook. <br />On GitHub, the HTML representation is unable to render, please try loading this page with nbviewer.org.</b></div><div class=\"sk-container\" hidden><div class=\"sk-item\"><div class=\"sk-estimator sk-toggleable\"><input class=\"sk-toggleable__control sk-hidden--visually\" id=\"sk-estimator-id-2\" type=\"checkbox\" checked><label for=\"sk-estimator-id-2\" class=\"sk-toggleable__label sk-toggleable__label-arrow\">DecisionTreeRegressor</label><div class=\"sk-toggleable__content\"><pre>DecisionTreeRegressor(max_leaf_nodes=579, random_state=2)</pre></div></div></div></div></div>"
      ],
      "text/plain": [
       "DecisionTreeRegressor(max_leaf_nodes=579, random_state=2)"
      ]
     },
     "execution_count": 18,
     "metadata": {},
     "output_type": "execute_result"
    }
   ],
   "source": [
    "DTR.fit(X,y)"
   ]
  },
  {
   "cell_type": "code",
   "execution_count": 19,
   "id": "ae380daf",
   "metadata": {
    "execution": {
     "iopub.execute_input": "2023-06-02T15:30:23.671050Z",
     "iopub.status.busy": "2023-06-02T15:30:23.670596Z",
     "iopub.status.idle": "2023-06-02T15:30:23.677616Z",
     "shell.execute_reply": "2023-06-02T15:30:23.676465Z"
    },
    "papermill": {
     "duration": 0.023594,
     "end_time": "2023-06-02T15:30:23.680194",
     "exception": false,
     "start_time": "2023-06-02T15:30:23.656600",
     "status": "completed"
    },
    "tags": []
   },
   "outputs": [],
   "source": [
    "y_pred_DTR=DTR.predict(X)"
   ]
  },
  {
   "cell_type": "code",
   "execution_count": 20,
   "id": "21f92a8c",
   "metadata": {
    "execution": {
     "iopub.execute_input": "2023-06-02T15:30:23.706470Z",
     "iopub.status.busy": "2023-06-02T15:30:23.706062Z",
     "iopub.status.idle": "2023-06-02T15:30:23.714152Z",
     "shell.execute_reply": "2023-06-02T15:30:23.712748Z"
    },
    "papermill": {
     "duration": 0.024098,
     "end_time": "2023-06-02T15:30:23.716588",
     "exception": false,
     "start_time": "2023-06-02T15:30:23.692490",
     "status": "completed"
    },
    "tags": []
   },
   "outputs": [],
   "source": [
    "mse(y_pred_DTR,y)\n",
    "mse_models['DTR']=mse(y_pred_DTR,y)"
   ]
  },
  {
   "cell_type": "markdown",
   "id": "4a6449d4",
   "metadata": {
    "papermill": {
     "duration": 0.014668,
     "end_time": "2023-06-02T15:30:23.745601",
     "exception": false,
     "start_time": "2023-06-02T15:30:23.730933",
     "status": "completed"
    },
    "tags": []
   },
   "source": [
    "#### The mean score error is still on the high side"
   ]
  },
  {
   "cell_type": "markdown",
   "id": "e141ca37",
   "metadata": {
    "papermill": {
     "duration": 0.011995,
     "end_time": "2023-06-02T15:30:23.771404",
     "exception": false,
     "start_time": "2023-06-02T15:30:23.759409",
     "status": "completed"
    },
    "tags": []
   },
   "source": [
    "## To use Random Forest Regressor Model"
   ]
  },
  {
   "cell_type": "code",
   "execution_count": 21,
   "id": "141b3067",
   "metadata": {
    "execution": {
     "iopub.execute_input": "2023-06-02T15:30:23.807391Z",
     "iopub.status.busy": "2023-06-02T15:30:23.806886Z",
     "iopub.status.idle": "2023-06-02T15:30:23.812625Z",
     "shell.execute_reply": "2023-06-02T15:30:23.811195Z"
    },
    "papermill": {
     "duration": 0.027643,
     "end_time": "2023-06-02T15:30:23.815728",
     "exception": false,
     "start_time": "2023-06-02T15:30:23.788085",
     "status": "completed"
    },
    "tags": []
   },
   "outputs": [],
   "source": [
    "RFR= RandomForestRegressor(random_state=7)"
   ]
  },
  {
   "cell_type": "code",
   "execution_count": 22,
   "id": "ec4b49e7",
   "metadata": {
    "execution": {
     "iopub.execute_input": "2023-06-02T15:30:23.846943Z",
     "iopub.status.busy": "2023-06-02T15:30:23.845513Z",
     "iopub.status.idle": "2023-06-02T15:30:24.223269Z",
     "shell.execute_reply": "2023-06-02T15:30:24.222082Z"
    },
    "papermill": {
     "duration": 0.394019,
     "end_time": "2023-06-02T15:30:24.226110",
     "exception": false,
     "start_time": "2023-06-02T15:30:23.832091",
     "status": "completed"
    },
    "tags": []
   },
   "outputs": [
    {
     "data": {
      "text/html": [
       "<style>#sk-container-id-3 {color: black;background-color: white;}#sk-container-id-3 pre{padding: 0;}#sk-container-id-3 div.sk-toggleable {background-color: white;}#sk-container-id-3 label.sk-toggleable__label {cursor: pointer;display: block;width: 100%;margin-bottom: 0;padding: 0.3em;box-sizing: border-box;text-align: center;}#sk-container-id-3 label.sk-toggleable__label-arrow:before {content: \"▸\";float: left;margin-right: 0.25em;color: #696969;}#sk-container-id-3 label.sk-toggleable__label-arrow:hover:before {color: black;}#sk-container-id-3 div.sk-estimator:hover label.sk-toggleable__label-arrow:before {color: black;}#sk-container-id-3 div.sk-toggleable__content {max-height: 0;max-width: 0;overflow: hidden;text-align: left;background-color: #f0f8ff;}#sk-container-id-3 div.sk-toggleable__content pre {margin: 0.2em;color: black;border-radius: 0.25em;background-color: #f0f8ff;}#sk-container-id-3 input.sk-toggleable__control:checked~div.sk-toggleable__content {max-height: 200px;max-width: 100%;overflow: auto;}#sk-container-id-3 input.sk-toggleable__control:checked~label.sk-toggleable__label-arrow:before {content: \"▾\";}#sk-container-id-3 div.sk-estimator input.sk-toggleable__control:checked~label.sk-toggleable__label {background-color: #d4ebff;}#sk-container-id-3 div.sk-label input.sk-toggleable__control:checked~label.sk-toggleable__label {background-color: #d4ebff;}#sk-container-id-3 input.sk-hidden--visually {border: 0;clip: rect(1px 1px 1px 1px);clip: rect(1px, 1px, 1px, 1px);height: 1px;margin: -1px;overflow: hidden;padding: 0;position: absolute;width: 1px;}#sk-container-id-3 div.sk-estimator {font-family: monospace;background-color: #f0f8ff;border: 1px dotted black;border-radius: 0.25em;box-sizing: border-box;margin-bottom: 0.5em;}#sk-container-id-3 div.sk-estimator:hover {background-color: #d4ebff;}#sk-container-id-3 div.sk-parallel-item::after {content: \"\";width: 100%;border-bottom: 1px solid gray;flex-grow: 1;}#sk-container-id-3 div.sk-label:hover label.sk-toggleable__label {background-color: #d4ebff;}#sk-container-id-3 div.sk-serial::before {content: \"\";position: absolute;border-left: 1px solid gray;box-sizing: border-box;top: 0;bottom: 0;left: 50%;z-index: 0;}#sk-container-id-3 div.sk-serial {display: flex;flex-direction: column;align-items: center;background-color: white;padding-right: 0.2em;padding-left: 0.2em;position: relative;}#sk-container-id-3 div.sk-item {position: relative;z-index: 1;}#sk-container-id-3 div.sk-parallel {display: flex;align-items: stretch;justify-content: center;background-color: white;position: relative;}#sk-container-id-3 div.sk-item::before, #sk-container-id-3 div.sk-parallel-item::before {content: \"\";position: absolute;border-left: 1px solid gray;box-sizing: border-box;top: 0;bottom: 0;left: 50%;z-index: -1;}#sk-container-id-3 div.sk-parallel-item {display: flex;flex-direction: column;z-index: 1;position: relative;background-color: white;}#sk-container-id-3 div.sk-parallel-item:first-child::after {align-self: flex-end;width: 50%;}#sk-container-id-3 div.sk-parallel-item:last-child::after {align-self: flex-start;width: 50%;}#sk-container-id-3 div.sk-parallel-item:only-child::after {width: 0;}#sk-container-id-3 div.sk-dashed-wrapped {border: 1px dashed gray;margin: 0 0.4em 0.5em 0.4em;box-sizing: border-box;padding-bottom: 0.4em;background-color: white;}#sk-container-id-3 div.sk-label label {font-family: monospace;font-weight: bold;display: inline-block;line-height: 1.2em;}#sk-container-id-3 div.sk-label-container {text-align: center;}#sk-container-id-3 div.sk-container {/* jupyter's `normalize.less` sets `[hidden] { display: none; }` but bootstrap.min.css set `[hidden] { display: none !important; }` so we also need the `!important` here to be able to override the default hidden behavior on the sphinx rendered scikit-learn.org. See: https://github.com/scikit-learn/scikit-learn/issues/21755 */display: inline-block !important;position: relative;}#sk-container-id-3 div.sk-text-repr-fallback {display: none;}</style><div id=\"sk-container-id-3\" class=\"sk-top-container\"><div class=\"sk-text-repr-fallback\"><pre>RandomForestRegressor(random_state=7)</pre><b>In a Jupyter environment, please rerun this cell to show the HTML representation or trust the notebook. <br />On GitHub, the HTML representation is unable to render, please try loading this page with nbviewer.org.</b></div><div class=\"sk-container\" hidden><div class=\"sk-item\"><div class=\"sk-estimator sk-toggleable\"><input class=\"sk-toggleable__control sk-hidden--visually\" id=\"sk-estimator-id-3\" type=\"checkbox\" checked><label for=\"sk-estimator-id-3\" class=\"sk-toggleable__label sk-toggleable__label-arrow\">RandomForestRegressor</label><div class=\"sk-toggleable__content\"><pre>RandomForestRegressor(random_state=7)</pre></div></div></div></div></div>"
      ],
      "text/plain": [
       "RandomForestRegressor(random_state=7)"
      ]
     },
     "execution_count": 22,
     "metadata": {},
     "output_type": "execute_result"
    }
   ],
   "source": [
    "RFR.fit(X_train, y_train)"
   ]
  },
  {
   "cell_type": "code",
   "execution_count": 23,
   "id": "a3268539",
   "metadata": {
    "execution": {
     "iopub.execute_input": "2023-06-02T15:30:24.252939Z",
     "iopub.status.busy": "2023-06-02T15:30:24.252456Z",
     "iopub.status.idle": "2023-06-02T15:30:24.277213Z",
     "shell.execute_reply": "2023-06-02T15:30:24.275766Z"
    },
    "papermill": {
     "duration": 0.04138,
     "end_time": "2023-06-02T15:30:24.280011",
     "exception": false,
     "start_time": "2023-06-02T15:30:24.238631",
     "status": "completed"
    },
    "tags": []
   },
   "outputs": [],
   "source": [
    "y_pred_RFR=RFR.predict(X_test)"
   ]
  },
  {
   "cell_type": "code",
   "execution_count": 24,
   "id": "c00ae676",
   "metadata": {
    "execution": {
     "iopub.execute_input": "2023-06-02T15:30:24.307138Z",
     "iopub.status.busy": "2023-06-02T15:30:24.306668Z",
     "iopub.status.idle": "2023-06-02T15:30:24.314959Z",
     "shell.execute_reply": "2023-06-02T15:30:24.313677Z"
    },
    "papermill": {
     "duration": 0.024581,
     "end_time": "2023-06-02T15:30:24.317568",
     "exception": false,
     "start_time": "2023-06-02T15:30:24.292987",
     "status": "completed"
    },
    "tags": []
   },
   "outputs": [],
   "source": [
    "mse(y_pred_RFR,y_test)\n",
    "mse_models['RFR']= mse(y_pred_RFR,y_test)"
   ]
  },
  {
   "cell_type": "code",
   "execution_count": 25,
   "id": "a4a4f012",
   "metadata": {
    "execution": {
     "iopub.execute_input": "2023-06-02T15:30:24.343972Z",
     "iopub.status.busy": "2023-06-02T15:30:24.343530Z",
     "iopub.status.idle": "2023-06-02T15:30:24.350459Z",
     "shell.execute_reply": "2023-06-02T15:30:24.349253Z"
    },
    "papermill": {
     "duration": 0.023745,
     "end_time": "2023-06-02T15:30:24.353308",
     "exception": false,
     "start_time": "2023-06-02T15:30:24.329563",
     "status": "completed"
    },
    "tags": []
   },
   "outputs": [
    {
     "name": "stdout",
     "output_type": "stream",
     "text": [
      "The models mean squared error are: \n",
      "LR \t 1940919037.15 \n",
      "DTR \t 684431654.94 \n",
      "RFR \t 1514514598.43 \n"
     ]
    }
   ],
   "source": [
    "## Insight \n",
    "print('The models mean squared error are: ')\n",
    "\n",
    "for key in mse_models:\n",
    "    print('{} \\t {} '.format(key,round(mse_models[key],2)))"
   ]
  },
  {
   "cell_type": "markdown",
   "id": "1c71e73e",
   "metadata": {
    "papermill": {
     "duration": 0.012421,
     "end_time": "2023-06-02T15:30:24.378923",
     "exception": false,
     "start_time": "2023-06-02T15:30:24.366502",
     "status": "completed"
    },
    "tags": []
   },
   "source": []
  },
  {
   "cell_type": "code",
   "execution_count": 26,
   "id": "ff2b474f",
   "metadata": {
    "execution": {
     "iopub.execute_input": "2023-06-02T15:30:24.406933Z",
     "iopub.status.busy": "2023-06-02T15:30:24.406463Z",
     "iopub.status.idle": "2023-06-02T15:30:24.414121Z",
     "shell.execute_reply": "2023-06-02T15:30:24.412413Z"
    },
    "papermill": {
     "duration": 0.025211,
     "end_time": "2023-06-02T15:30:24.417214",
     "exception": false,
     "start_time": "2023-06-02T15:30:24.392003",
     "status": "completed"
    },
    "tags": []
   },
   "outputs": [
    {
     "name": "stdout",
     "output_type": "stream",
     "text": [
      "The lowest mean square error is  DTR with  684431654.9440109\n"
     ]
    }
   ],
   "source": [
    "print('The lowest mean square error is ',min(mse_models,key=mse_models.get), 'with ',min(mse_models.values()))"
   ]
  },
  {
   "cell_type": "markdown",
   "id": "5f23b8e6",
   "metadata": {
    "papermill": {
     "duration": 0.012113,
     "end_time": "2023-06-02T15:30:24.442503",
     "exception": false,
     "start_time": "2023-06-02T15:30:24.430390",
     "status": "completed"
    },
    "tags": []
   },
   "source": [
    "# More to be done"
   ]
  },
  {
   "cell_type": "code",
   "execution_count": null,
   "id": "6b2d2f76",
   "metadata": {
    "papermill": {
     "duration": 0.011768,
     "end_time": "2023-06-02T15:30:24.467240",
     "exception": false,
     "start_time": "2023-06-02T15:30:24.455472",
     "status": "completed"
    },
    "tags": []
   },
   "outputs": [],
   "source": []
  }
 ],
 "metadata": {
  "kernelspec": {
   "display_name": "Python 3",
   "language": "python",
   "name": "python3"
  },
  "language_info": {
   "codemirror_mode": {
    "name": "ipython",
    "version": 3
   },
   "file_extension": ".py",
   "mimetype": "text/x-python",
   "name": "python",
   "nbconvert_exporter": "python",
   "pygments_lexer": "ipython3",
   "version": "3.10.10"
  },
  "papermill": {
   "default_parameters": {},
   "duration": 24.129365,
   "end_time": "2023-06-02T15:30:25.606788",
   "environment_variables": {},
   "exception": null,
   "input_path": "__notebook__.ipynb",
   "output_path": "__notebook__.ipynb",
   "parameters": {},
   "start_time": "2023-06-02T15:30:01.477423",
   "version": "2.4.0"
  }
 },
 "nbformat": 4,
 "nbformat_minor": 5
}
