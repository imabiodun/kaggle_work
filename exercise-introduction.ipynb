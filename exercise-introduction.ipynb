{
 "cells": [
  {
   "cell_type": "markdown",
   "id": "84735ad2",
   "metadata": {
    "papermill": {
     "duration": 0.007859,
     "end_time": "2023-06-06T11:26:08.868301",
     "exception": false,
     "start_time": "2023-06-06T11:26:08.860442",
     "status": "completed"
    },
    "tags": []
   },
   "source": [
    "**This notebook is an exercise in the [Intermediate Machine Learning](https://www.kaggle.com/learn/intermediate-machine-learning) course.  You can reference the tutorial at [this link](https://www.kaggle.com/alexisbcook/introduction).**\n",
    "\n",
    "---\n"
   ]
  },
  {
   "cell_type": "markdown",
   "id": "89ac7fa5",
   "metadata": {
    "papermill": {
     "duration": 0.006661,
     "end_time": "2023-06-06T11:26:08.882031",
     "exception": false,
     "start_time": "2023-06-06T11:26:08.875370",
     "status": "completed"
    },
    "tags": []
   },
   "source": [
    "As a warm-up, you'll review some machine learning fundamentals and submit your initial results to a Kaggle competition.\n",
    "\n",
    "# Setup\n",
    "\n",
    "The questions below will give you feedback on your work. Run the following cell to set up the feedback system."
   ]
  },
  {
   "cell_type": "code",
   "execution_count": 1,
   "id": "b22dde5c",
   "metadata": {
    "execution": {
     "iopub.execute_input": "2023-06-06T11:26:08.899015Z",
     "iopub.status.busy": "2023-06-06T11:26:08.898088Z",
     "iopub.status.idle": "2023-06-06T11:26:11.045791Z",
     "shell.execute_reply": "2023-06-06T11:26:11.044636Z"
    },
    "papermill": {
     "duration": 2.158781,
     "end_time": "2023-06-06T11:26:11.048167",
     "exception": false,
     "start_time": "2023-06-06T11:26:08.889386",
     "status": "completed"
    },
    "tags": []
   },
   "outputs": [
    {
     "name": "stdout",
     "output_type": "stream",
     "text": [
      "Setup Complete\n"
     ]
    }
   ],
   "source": [
    "# Set up code checking\n",
    "import os\n",
    "if not os.path.exists(\"../input/train.csv\"):\n",
    "    os.symlink(\"../input/home-data-for-ml-course/train.csv\", \"../input/train.csv\")  \n",
    "    os.symlink(\"../input/home-data-for-ml-course/test.csv\", \"../input/test.csv\")  \n",
    "from learntools.core import binder\n",
    "binder.bind(globals())\n",
    "from learntools.ml_intermediate.ex1 import *\n",
    "print(\"Setup Complete\")"
   ]
  },
  {
   "cell_type": "markdown",
   "id": "dbd62497",
   "metadata": {
    "papermill": {
     "duration": 0.006877,
     "end_time": "2023-06-06T11:26:11.062107",
     "exception": false,
     "start_time": "2023-06-06T11:26:11.055230",
     "status": "completed"
    },
    "tags": []
   },
   "source": [
    "You will work with data from the [Housing Prices Competition for Kaggle Learn Users](https://www.kaggle.com/c/home-data-for-ml-course) to predict home prices in Iowa using 79 explanatory variables describing (almost) every aspect of the homes.  \n",
    "\n",
    "![Ames Housing dataset image](https://storage.googleapis.com/kaggle-media/learn/images/lTJVG4e.png)\n",
    "\n",
    "Run the next code cell without changes to load the training and validation features in `X_train` and `X_valid`, along with the prediction targets in `y_train` and `y_valid`.  The test features are loaded in `X_test`.  (_If you need to review **features** and **prediction targets**, please check out [this short tutorial](https://www.kaggle.com/dansbecker/your-first-machine-learning-model).  To read about model **validation**, look [here](https://www.kaggle.com/dansbecker/model-validation).  Alternatively, if you'd prefer to look through a full course to review all of these topics, start [here](https://www.kaggle.com/learn/machine-learning).)_"
   ]
  },
  {
   "cell_type": "code",
   "execution_count": 2,
   "id": "f55024c1",
   "metadata": {
    "execution": {
     "iopub.execute_input": "2023-06-06T11:26:11.078416Z",
     "iopub.status.busy": "2023-06-06T11:26:11.077776Z",
     "iopub.status.idle": "2023-06-06T11:26:11.205880Z",
     "shell.execute_reply": "2023-06-06T11:26:11.204842Z"
    },
    "papermill": {
     "duration": 0.139533,
     "end_time": "2023-06-06T11:26:11.208693",
     "exception": false,
     "start_time": "2023-06-06T11:26:11.069160",
     "status": "completed"
    },
    "tags": []
   },
   "outputs": [],
   "source": [
    "import pandas as pd\n",
    "from sklearn.model_selection import train_test_split\n",
    "\n",
    "# Read the data\n",
    "X_full = pd.read_csv('../input/train.csv', index_col='Id')\n",
    "X_test_full = pd.read_csv('../input/test.csv', index_col='Id')\n",
    "\n",
    "# Obtain target and predictors\n",
    "y = X_full.SalePrice\n",
    "features = ['LotArea', 'YearBuilt', '1stFlrSF', '2ndFlrSF', 'FullBath', 'BedroomAbvGr', 'TotRmsAbvGrd']\n",
    "X = X_full[features].copy()\n",
    "X_test = X_test_full[features].copy()\n",
    "\n",
    "# Break off validation set from training data\n",
    "X_train, X_valid, y_train, y_valid = train_test_split(X, y, train_size=0.7,\n",
    "                                                      random_state=0)"
   ]
  },
  {
   "cell_type": "markdown",
   "id": "5b24cca9",
   "metadata": {
    "papermill": {
     "duration": 0.006717,
     "end_time": "2023-06-06T11:26:11.224148",
     "exception": false,
     "start_time": "2023-06-06T11:26:11.217431",
     "status": "completed"
    },
    "tags": []
   },
   "source": [
    "Use the next cell to print the first several rows of the data. It's a nice way to get an overview of the data you will use in your price prediction model."
   ]
  },
  {
   "cell_type": "code",
   "execution_count": 3,
   "id": "b579fc41",
   "metadata": {
    "execution": {
     "iopub.execute_input": "2023-06-06T11:26:11.240361Z",
     "iopub.status.busy": "2023-06-06T11:26:11.239968Z",
     "iopub.status.idle": "2023-06-06T11:26:11.265896Z",
     "shell.execute_reply": "2023-06-06T11:26:11.264746Z"
    },
    "papermill": {
     "duration": 0.037249,
     "end_time": "2023-06-06T11:26:11.268481",
     "exception": false,
     "start_time": "2023-06-06T11:26:11.231232",
     "status": "completed"
    },
    "tags": []
   },
   "outputs": [
    {
     "data": {
      "text/html": [
       "<div>\n",
       "<style scoped>\n",
       "    .dataframe tbody tr th:only-of-type {\n",
       "        vertical-align: middle;\n",
       "    }\n",
       "\n",
       "    .dataframe tbody tr th {\n",
       "        vertical-align: top;\n",
       "    }\n",
       "\n",
       "    .dataframe thead th {\n",
       "        text-align: right;\n",
       "    }\n",
       "</style>\n",
       "<table border=\"1\" class=\"dataframe\">\n",
       "  <thead>\n",
       "    <tr style=\"text-align: right;\">\n",
       "      <th></th>\n",
       "      <th>LotArea</th>\n",
       "      <th>YearBuilt</th>\n",
       "      <th>1stFlrSF</th>\n",
       "      <th>2ndFlrSF</th>\n",
       "      <th>FullBath</th>\n",
       "      <th>BedroomAbvGr</th>\n",
       "      <th>TotRmsAbvGrd</th>\n",
       "    </tr>\n",
       "    <tr>\n",
       "      <th>Id</th>\n",
       "      <th></th>\n",
       "      <th></th>\n",
       "      <th></th>\n",
       "      <th></th>\n",
       "      <th></th>\n",
       "      <th></th>\n",
       "      <th></th>\n",
       "    </tr>\n",
       "  </thead>\n",
       "  <tbody>\n",
       "    <tr>\n",
       "      <th>683</th>\n",
       "      <td>2887</td>\n",
       "      <td>1996</td>\n",
       "      <td>1291</td>\n",
       "      <td>0</td>\n",
       "      <td>1</td>\n",
       "      <td>2</td>\n",
       "      <td>6</td>\n",
       "    </tr>\n",
       "    <tr>\n",
       "      <th>961</th>\n",
       "      <td>7207</td>\n",
       "      <td>1958</td>\n",
       "      <td>858</td>\n",
       "      <td>0</td>\n",
       "      <td>1</td>\n",
       "      <td>2</td>\n",
       "      <td>4</td>\n",
       "    </tr>\n",
       "    <tr>\n",
       "      <th>1385</th>\n",
       "      <td>9060</td>\n",
       "      <td>1939</td>\n",
       "      <td>698</td>\n",
       "      <td>560</td>\n",
       "      <td>1</td>\n",
       "      <td>2</td>\n",
       "      <td>6</td>\n",
       "    </tr>\n",
       "    <tr>\n",
       "      <th>1101</th>\n",
       "      <td>8400</td>\n",
       "      <td>1920</td>\n",
       "      <td>438</td>\n",
       "      <td>0</td>\n",
       "      <td>1</td>\n",
       "      <td>1</td>\n",
       "      <td>3</td>\n",
       "    </tr>\n",
       "    <tr>\n",
       "      <th>417</th>\n",
       "      <td>7844</td>\n",
       "      <td>1978</td>\n",
       "      <td>672</td>\n",
       "      <td>728</td>\n",
       "      <td>1</td>\n",
       "      <td>3</td>\n",
       "      <td>6</td>\n",
       "    </tr>\n",
       "  </tbody>\n",
       "</table>\n",
       "</div>"
      ],
      "text/plain": [
       "      LotArea  YearBuilt  1stFlrSF  2ndFlrSF  FullBath  BedroomAbvGr  \\\n",
       "Id                                                                     \n",
       "683      2887       1996      1291         0         1             2   \n",
       "961      7207       1958       858         0         1             2   \n",
       "1385     9060       1939       698       560         1             2   \n",
       "1101     8400       1920       438         0         1             1   \n",
       "417      7844       1978       672       728         1             3   \n",
       "\n",
       "      TotRmsAbvGrd  \n",
       "Id                  \n",
       "683              6  \n",
       "961              4  \n",
       "1385             6  \n",
       "1101             3  \n",
       "417              6  "
      ]
     },
     "execution_count": 3,
     "metadata": {},
     "output_type": "execute_result"
    }
   ],
   "source": [
    "X_train.head()"
   ]
  },
  {
   "cell_type": "markdown",
   "id": "a3523b68",
   "metadata": {
    "papermill": {
     "duration": 0.007139,
     "end_time": "2023-06-06T11:26:11.283242",
     "exception": false,
     "start_time": "2023-06-06T11:26:11.276103",
     "status": "completed"
    },
    "tags": []
   },
   "source": [
    "The next code cell defines five different random forest models.  Run this code cell without changes.  (_To review **random forests**, look [here](https://www.kaggle.com/dansbecker/random-forests)._)"
   ]
  },
  {
   "cell_type": "code",
   "execution_count": 4,
   "id": "eb6fd546",
   "metadata": {
    "execution": {
     "iopub.execute_input": "2023-06-06T11:26:11.300606Z",
     "iopub.status.busy": "2023-06-06T11:26:11.300204Z",
     "iopub.status.idle": "2023-06-06T11:26:11.316158Z",
     "shell.execute_reply": "2023-06-06T11:26:11.314801Z"
    },
    "papermill": {
     "duration": 0.027724,
     "end_time": "2023-06-06T11:26:11.318891",
     "exception": false,
     "start_time": "2023-06-06T11:26:11.291167",
     "status": "completed"
    },
    "tags": []
   },
   "outputs": [
    {
     "name": "stdout",
     "output_type": "stream",
     "text": [
      "[RandomForestRegressor(n_estimators=50, random_state=0), RandomForestRegressor(random_state=0), RandomForestRegressor(criterion='absolute_error', random_state=0), RandomForestRegressor(min_samples_split=20, n_estimators=200, random_state=0), RandomForestRegressor(max_depth=7, random_state=0)]\n"
     ]
    }
   ],
   "source": [
    "from sklearn.ensemble import RandomForestRegressor\n",
    "\n",
    "# Define the models\n",
    "model_1 = RandomForestRegressor(n_estimators=50, random_state=0)\n",
    "model_2 = RandomForestRegressor(n_estimators=100, random_state=0)\n",
    "model_3 = RandomForestRegressor(n_estimators=100, criterion='absolute_error', random_state=0)\n",
    "model_4 = RandomForestRegressor(n_estimators=200, min_samples_split=20, random_state=0)\n",
    "model_5 = RandomForestRegressor(n_estimators=100, max_depth=7, random_state=0)\n",
    "\n",
    "models = [model_1, model_2, model_3, model_4, model_5]\n",
    "print(models)"
   ]
  },
  {
   "cell_type": "markdown",
   "id": "7afc973d",
   "metadata": {
    "papermill": {
     "duration": 0.007717,
     "end_time": "2023-06-06T11:26:11.334265",
     "exception": false,
     "start_time": "2023-06-06T11:26:11.326548",
     "status": "completed"
    },
    "tags": []
   },
   "source": [
    "To select the best model out of the five, we define a function `score_model()` below.  This function returns the mean absolute error (MAE) from the validation set.  Recall that the best model will obtain the lowest MAE.  (_To review **mean absolute error**, look [here](https://www.kaggle.com/dansbecker/model-validation).)_\n",
    "\n",
    "Run the code cell without changes."
   ]
  },
  {
   "cell_type": "code",
   "execution_count": 5,
   "id": "8c579361",
   "metadata": {
    "execution": {
     "iopub.execute_input": "2023-06-06T11:26:11.351120Z",
     "iopub.status.busy": "2023-06-06T11:26:11.350688Z",
     "iopub.status.idle": "2023-06-06T11:26:16.084763Z",
     "shell.execute_reply": "2023-06-06T11:26:16.083378Z"
    },
    "papermill": {
     "duration": 4.745686,
     "end_time": "2023-06-06T11:26:16.087482",
     "exception": false,
     "start_time": "2023-06-06T11:26:11.341796",
     "status": "completed"
    },
    "tags": []
   },
   "outputs": [
    {
     "name": "stdout",
     "output_type": "stream",
     "text": [
      "Model 1 MAE: 23262\n",
      "Model 2 MAE: 22953\n",
      "Model 3 MAE: 22595\n",
      "Model 4 MAE: 23093\n",
      "Model 5 MAE: 22735\n"
     ]
    }
   ],
   "source": [
    "from sklearn.metrics import mean_absolute_error\n",
    "\n",
    "# Function for comparing different models\n",
    "def score_model(model, X_t=X_train, X_v=X_valid, y_t=y_train, y_v=y_valid):\n",
    "    model.fit(X_t, y_t)\n",
    "    preds = model.predict(X_v)\n",
    "    return mean_absolute_error(y_v, preds)\n",
    "\n",
    "for i in range(0, len(models)):\n",
    "    mae = score_model(models[i])\n",
    "    print(\"Model %d MAE: %d\" % (i+1, mae))"
   ]
  },
  {
   "cell_type": "markdown",
   "id": "c830cd33",
   "metadata": {
    "papermill": {
     "duration": 0.007687,
     "end_time": "2023-06-06T11:26:16.104168",
     "exception": false,
     "start_time": "2023-06-06T11:26:16.096481",
     "status": "completed"
    },
    "tags": []
   },
   "source": [
    "# Step 1: Evaluate several models\n",
    "\n",
    "Use the above results to fill in the line below.  Which model is the best model?  Your answer should be one of `model_1`, `model_2`, `model_3`, `model_4`, or `model_5`."
   ]
  },
  {
   "cell_type": "code",
   "execution_count": 6,
   "id": "2e6812dd",
   "metadata": {
    "execution": {
     "iopub.execute_input": "2023-06-06T11:26:16.122688Z",
     "iopub.status.busy": "2023-06-06T11:26:16.122286Z",
     "iopub.status.idle": "2023-06-06T11:26:16.132381Z",
     "shell.execute_reply": "2023-06-06T11:26:16.131077Z"
    },
    "papermill": {
     "duration": 0.022365,
     "end_time": "2023-06-06T11:26:16.134798",
     "exception": false,
     "start_time": "2023-06-06T11:26:16.112433",
     "status": "completed"
    },
    "tags": []
   },
   "outputs": [
    {
     "data": {
      "application/javascript": [
       "parent.postMessage({\"jupyterEvent\": \"custom.exercise_interaction\", \"data\": {\"outcomeType\": 1, \"valueTowardsCompletion\": 0.5, \"interactionType\": 1, \"questionType\": 2, \"questionId\": \"1_BestModel\", \"learnToolsVersion\": \"0.3.4\", \"failureMessage\": \"\", \"exceptionClass\": \"\", \"trace\": \"\"}}, \"*\")"
      ],
      "text/plain": [
       "<IPython.core.display.Javascript object>"
      ]
     },
     "metadata": {},
     "output_type": "display_data"
    },
    {
     "data": {
      "text/markdown": [
       "<span style=\"color:#33cc33\">Correct</span>"
      ],
      "text/plain": [
       "Correct"
      ]
     },
     "metadata": {},
     "output_type": "display_data"
    }
   ],
   "source": [
    "# Fill in the best model\n",
    "best_model = model_3\n",
    "\n",
    "# Check your answer\n",
    "step_1.check()"
   ]
  },
  {
   "cell_type": "code",
   "execution_count": 7,
   "id": "9ede8778",
   "metadata": {
    "execution": {
     "iopub.execute_input": "2023-06-06T11:26:16.153316Z",
     "iopub.status.busy": "2023-06-06T11:26:16.152912Z",
     "iopub.status.idle": "2023-06-06T11:26:16.157861Z",
     "shell.execute_reply": "2023-06-06T11:26:16.156284Z"
    },
    "papermill": {
     "duration": 0.017337,
     "end_time": "2023-06-06T11:26:16.160350",
     "exception": false,
     "start_time": "2023-06-06T11:26:16.143013",
     "status": "completed"
    },
    "tags": []
   },
   "outputs": [],
   "source": [
    "# Lines below will give you a hint or solution code\n",
    "#step_1.hint()\n",
    "#step_1.solution()"
   ]
  },
  {
   "cell_type": "markdown",
   "id": "a1a47fcd",
   "metadata": {
    "papermill": {
     "duration": 0.00866,
     "end_time": "2023-06-06T11:26:16.177258",
     "exception": false,
     "start_time": "2023-06-06T11:26:16.168598",
     "status": "completed"
    },
    "tags": []
   },
   "source": [
    "# Step 2: Generate test predictions\n",
    "\n",
    "Great. You know how to evaluate what makes an accurate model. Now it's time to go through the modeling process and make predictions. In the line below, create a Random Forest model with the variable name `my_model`."
   ]
  },
  {
   "cell_type": "code",
   "execution_count": 8,
   "id": "3fd0f2ec",
   "metadata": {
    "execution": {
     "iopub.execute_input": "2023-06-06T11:26:16.196311Z",
     "iopub.status.busy": "2023-06-06T11:26:16.195913Z",
     "iopub.status.idle": "2023-06-06T11:26:16.205232Z",
     "shell.execute_reply": "2023-06-06T11:26:16.204176Z"
    },
    "papermill": {
     "duration": 0.022037,
     "end_time": "2023-06-06T11:26:16.207594",
     "exception": false,
     "start_time": "2023-06-06T11:26:16.185557",
     "status": "completed"
    },
    "tags": []
   },
   "outputs": [
    {
     "data": {
      "application/javascript": [
       "parent.postMessage({\"jupyterEvent\": \"custom.exercise_interaction\", \"data\": {\"outcomeType\": 1, \"valueTowardsCompletion\": 0.5, \"interactionType\": 1, \"questionType\": 2, \"questionId\": \"2_Predictions\", \"learnToolsVersion\": \"0.3.4\", \"failureMessage\": \"\", \"exceptionClass\": \"\", \"trace\": \"\"}}, \"*\")"
      ],
      "text/plain": [
       "<IPython.core.display.Javascript object>"
      ]
     },
     "metadata": {},
     "output_type": "display_data"
    },
    {
     "data": {
      "text/markdown": [
       "<span style=\"color:#33cc33\">Correct</span>"
      ],
      "text/plain": [
       "Correct"
      ]
     },
     "metadata": {},
     "output_type": "display_data"
    }
   ],
   "source": [
    "# Define a model\n",
    "my_model = model_3 # Your code here\n",
    "\n",
    "# Check your answer\n",
    "step_2.check()"
   ]
  },
  {
   "cell_type": "code",
   "execution_count": 9,
   "id": "609b1adf",
   "metadata": {
    "execution": {
     "iopub.execute_input": "2023-06-06T11:26:16.226956Z",
     "iopub.status.busy": "2023-06-06T11:26:16.226555Z",
     "iopub.status.idle": "2023-06-06T11:26:16.231386Z",
     "shell.execute_reply": "2023-06-06T11:26:16.230155Z"
    },
    "papermill": {
     "duration": 0.017813,
     "end_time": "2023-06-06T11:26:16.234094",
     "exception": false,
     "start_time": "2023-06-06T11:26:16.216281",
     "status": "completed"
    },
    "tags": []
   },
   "outputs": [],
   "source": [
    "# Lines below will give you a hint or solution code\n",
    "#step_2.hint()\n",
    "# step_2.solution()"
   ]
  },
  {
   "cell_type": "markdown",
   "id": "805b716c",
   "metadata": {
    "papermill": {
     "duration": 0.008207,
     "end_time": "2023-06-06T11:26:16.250964",
     "exception": false,
     "start_time": "2023-06-06T11:26:16.242757",
     "status": "completed"
    },
    "tags": []
   },
   "source": [
    "Run the next code cell without changes.  The code fits the model to the training and validation data, and then generates test predictions that are saved to a CSV file.  These test predictions can be submitted directly to the competition!"
   ]
  },
  {
   "cell_type": "code",
   "execution_count": 10,
   "id": "7588dd8e",
   "metadata": {
    "execution": {
     "iopub.execute_input": "2023-06-06T11:26:16.270838Z",
     "iopub.status.busy": "2023-06-06T11:26:16.270382Z",
     "iopub.status.idle": "2023-06-06T11:26:20.687090Z",
     "shell.execute_reply": "2023-06-06T11:26:20.686104Z"
    },
    "papermill": {
     "duration": 4.429528,
     "end_time": "2023-06-06T11:26:20.689659",
     "exception": false,
     "start_time": "2023-06-06T11:26:16.260131",
     "status": "completed"
    },
    "tags": []
   },
   "outputs": [],
   "source": [
    "# Fit the model to the training data\n",
    "my_model.fit(X, y)\n",
    "\n",
    "# Generate test predictions\n",
    "preds_test = my_model.predict(X_test)\n",
    "\n",
    "# Save predictions in format used for competition scoring\n",
    "output = pd.DataFrame({'Id': X_test.index,\n",
    "                       'SalePrice': preds_test})\n",
    "output.to_csv('submission.csv', index=False)"
   ]
  },
  {
   "cell_type": "markdown",
   "id": "0bb11029",
   "metadata": {
    "papermill": {
     "duration": 0.008387,
     "end_time": "2023-06-06T11:26:20.707340",
     "exception": false,
     "start_time": "2023-06-06T11:26:20.698953",
     "status": "completed"
    },
    "tags": []
   },
   "source": [
    "# Submit your results\n",
    "\n",
    "Once you have successfully completed Step 2, you're ready to submit your results to the leaderboard!  First, you'll need to join the competition if you haven't already.  So open a new window by clicking on [this link](https://www.kaggle.com/c/home-data-for-ml-course).  Then click on the **Join Competition** button.  _(If you see a \"Submit Predictions\" button instead of a \"Join Competition\" button, you have already joined the competition, and don't need to do so again.)_\n",
    "\n",
    "Next, follow the instructions below:\n",
    "1. Begin by clicking on the **Save Version** button in the top right corner of the window.  This will generate a pop-up window.  \n",
    "2. Ensure that the **Save and Run All** option is selected, and then click on the **Save** button.\n",
    "3. This generates a window in the bottom left corner of the notebook.  After it has finished running, click on the number to the right of the **Save Version** button.  This pulls up a list of versions on the right of the screen.  Click on the ellipsis **(...)** to the right of the most recent version, and select **Open in Viewer**.  This brings you into view mode of the same page. You will need to scroll down to get back to these instructions.\n",
    "4. Click on the **Data** tab near the top of the screen.  Then, click on the file you would like to submit, and click on the **Submit** button to submit your results to the leaderboard.\n",
    "\n",
    "You have now successfully submitted to the competition!\n",
    "\n",
    "If you want to keep working to improve your performance, select the **Edit** button in the top right of the screen. Then you can change your code and repeat the process. There's a lot of room to improve, and you will climb up the leaderboard as you work.\n"
   ]
  },
  {
   "cell_type": "markdown",
   "id": "f1608798",
   "metadata": {
    "papermill": {
     "duration": 0.008394,
     "end_time": "2023-06-06T11:26:20.724360",
     "exception": false,
     "start_time": "2023-06-06T11:26:20.715966",
     "status": "completed"
    },
    "tags": []
   },
   "source": [
    "# Keep going\n",
    "\n",
    "You've made your first model. But how can you quickly make it better?\n",
    "\n",
    "Learn how to improve your competition results by incorporating columns with **[missing values](https://www.kaggle.com/alexisbcook/missing-values)**."
   ]
  },
  {
   "cell_type": "markdown",
   "id": "03f57e72",
   "metadata": {
    "papermill": {
     "duration": 0.008346,
     "end_time": "2023-06-06T11:26:20.741874",
     "exception": false,
     "start_time": "2023-06-06T11:26:20.733528",
     "status": "completed"
    },
    "tags": []
   },
   "source": [
    "---\n",
    "\n",
    "\n",
    "\n",
    "\n",
    "*Have questions or comments? Visit the [course discussion forum](https://www.kaggle.com/learn/intermediate-machine-learning/discussion) to chat with other learners.*"
   ]
  },
  {
   "cell_type": "code",
   "execution_count": null,
   "id": "8b4c9e86",
   "metadata": {
    "papermill": {
     "duration": 0.008442,
     "end_time": "2023-06-06T11:26:20.758915",
     "exception": false,
     "start_time": "2023-06-06T11:26:20.750473",
     "status": "completed"
    },
    "tags": []
   },
   "outputs": [],
   "source": []
  },
  {
   "cell_type": "code",
   "execution_count": null,
   "id": "6772cc76",
   "metadata": {
    "papermill": {
     "duration": 0.008963,
     "end_time": "2023-06-06T11:26:20.776942",
     "exception": false,
     "start_time": "2023-06-06T11:26:20.767979",
     "status": "completed"
    },
    "tags": []
   },
   "outputs": [],
   "source": []
  }
 ],
 "metadata": {
  "kernelspec": {
   "display_name": "Python 3",
   "language": "python",
   "name": "python3"
  },
  "language_info": {
   "codemirror_mode": {
    "name": "ipython",
    "version": 3
   },
   "file_extension": ".py",
   "mimetype": "text/x-python",
   "name": "python",
   "nbconvert_exporter": "python",
   "pygments_lexer": "ipython3",
   "version": "3.10.10"
  },
  "papermill": {
   "default_parameters": {},
   "duration": 26.637828,
   "end_time": "2023-06-06T11:26:21.809065",
   "environment_variables": {},
   "exception": null,
   "input_path": "__notebook__.ipynb",
   "output_path": "__notebook__.ipynb",
   "parameters": {},
   "start_time": "2023-06-06T11:25:55.171237",
   "version": "2.4.0"
  }
 },
 "nbformat": 4,
 "nbformat_minor": 5
}
